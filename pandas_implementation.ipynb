{
  "cells": [
    {
      "cell_type": "markdown",
      "metadata": {
        "id": "view-in-github",
        "colab_type": "text"
      },
      "source": [
        "<a href=\"https://colab.research.google.com/github/kkr016/pandas/blob/main/pandas_implementation.ipynb\" target=\"_parent\"><img src=\"https://colab.research.google.com/assets/colab-badge.svg\" alt=\"Open In Colab\"/></a>"
      ]
    },
    {
      "cell_type": "markdown",
      "metadata": {
        "id": "N-VjTlthQTt6"
      },
      "source": [
        "###### Assessment"
      ]
    },
    {
      "cell_type": "markdown",
      "metadata": {
        "id": "Jb0WK6QOQTuK"
      },
      "source": [
        "###### I am going to provide two .csv files , you are supposed to work on them and have to provide solutions to the following problems"
      ]
    },
    {
      "cell_type": "markdown",
      "metadata": {
        "id": "ZBmdkqgwQTuM"
      },
      "source": [
        "###### import necessary libraries"
      ]
    },
    {
      "cell_type": "code",
      "execution_count": 181,
      "metadata": {
        "id": "BuXUzN_bQTuO"
      },
      "outputs": [],
      "source": [
        "import pandas as pd\n",
        "import numpy as np\n",
        "import matplotlib.pyplot as plt\n",
        "import plotly.express as px"
      ]
    },
    {
      "cell_type": "markdown",
      "metadata": {
        "id": "WzdyjfTEQTuQ"
      },
      "source": [
        "###### merge those two csv files (after getting as dataframes, get them as a single dataframe)"
      ]
    },
    {
      "cell_type": "code",
      "execution_count": 182,
      "metadata": {
        "id": "IMdPEf_zQTuS"
      },
      "outputs": [],
      "source": [
        "df1 = pd.read_csv(\"/content/college_1.csv\")\n",
        "df2 = pd.read_csv(\"/content/college_2.csv\")"
      ]
    },
    {
      "cell_type": "code",
      "source": [
        "df1.head()"
      ],
      "metadata": {
        "colab": {
          "base_uri": "https://localhost:8080/",
          "height": 206
        },
        "id": "k5KLYl7MBtp4",
        "outputId": "69da7c3b-d613-460a-bafc-f0c716297c6d"
      },
      "execution_count": 183,
      "outputs": [
        {
          "output_type": "execute_result",
          "data": {
            "text/plain": [
              "          Name  python  mysql  Previous Geekions  CodeKata Score  \\\n",
              "0    A.Dharani    82.0   20.0              24500           24500   \n",
              "1  V.JEEVITHA     82.0   20.0              21740           21740   \n",
              "2  HEMAVATHI.R   100.0  100.0              19680           19680   \n",
              "3  Mugunthan S   100.0   47.0              10610           10610   \n",
              "4  Sathammai.S   100.0    8.0               8980            8980   \n",
              "\n",
              "                         Department  Rising  \n",
              "0  Computer Science and Engineering       0  \n",
              "1  Computer Science and Engineering       0  \n",
              "2  Computer Science and Engineering       0  \n",
              "3  Computer Science and Engineering       0  \n",
              "4  Computer Science and Engineering       0  "
            ],
            "text/html": [
              "\n",
              "  <div id=\"df-a6b8d309-ae8f-47d9-a406-fb2ed9dda464\">\n",
              "    <div class=\"colab-df-container\">\n",
              "      <div>\n",
              "<style scoped>\n",
              "    .dataframe tbody tr th:only-of-type {\n",
              "        vertical-align: middle;\n",
              "    }\n",
              "\n",
              "    .dataframe tbody tr th {\n",
              "        vertical-align: top;\n",
              "    }\n",
              "\n",
              "    .dataframe thead th {\n",
              "        text-align: right;\n",
              "    }\n",
              "</style>\n",
              "<table border=\"1\" class=\"dataframe\">\n",
              "  <thead>\n",
              "    <tr style=\"text-align: right;\">\n",
              "      <th></th>\n",
              "      <th>Name</th>\n",
              "      <th>python</th>\n",
              "      <th>mysql</th>\n",
              "      <th>Previous Geekions</th>\n",
              "      <th>CodeKata Score</th>\n",
              "      <th>Department</th>\n",
              "      <th>Rising</th>\n",
              "    </tr>\n",
              "  </thead>\n",
              "  <tbody>\n",
              "    <tr>\n",
              "      <th>0</th>\n",
              "      <td>A.Dharani</td>\n",
              "      <td>82.0</td>\n",
              "      <td>20.0</td>\n",
              "      <td>24500</td>\n",
              "      <td>24500</td>\n",
              "      <td>Computer Science and Engineering</td>\n",
              "      <td>0</td>\n",
              "    </tr>\n",
              "    <tr>\n",
              "      <th>1</th>\n",
              "      <td>V.JEEVITHA</td>\n",
              "      <td>82.0</td>\n",
              "      <td>20.0</td>\n",
              "      <td>21740</td>\n",
              "      <td>21740</td>\n",
              "      <td>Computer Science and Engineering</td>\n",
              "      <td>0</td>\n",
              "    </tr>\n",
              "    <tr>\n",
              "      <th>2</th>\n",
              "      <td>HEMAVATHI.R</td>\n",
              "      <td>100.0</td>\n",
              "      <td>100.0</td>\n",
              "      <td>19680</td>\n",
              "      <td>19680</td>\n",
              "      <td>Computer Science and Engineering</td>\n",
              "      <td>0</td>\n",
              "    </tr>\n",
              "    <tr>\n",
              "      <th>3</th>\n",
              "      <td>Mugunthan S</td>\n",
              "      <td>100.0</td>\n",
              "      <td>47.0</td>\n",
              "      <td>10610</td>\n",
              "      <td>10610</td>\n",
              "      <td>Computer Science and Engineering</td>\n",
              "      <td>0</td>\n",
              "    </tr>\n",
              "    <tr>\n",
              "      <th>4</th>\n",
              "      <td>Sathammai.S</td>\n",
              "      <td>100.0</td>\n",
              "      <td>8.0</td>\n",
              "      <td>8980</td>\n",
              "      <td>8980</td>\n",
              "      <td>Computer Science and Engineering</td>\n",
              "      <td>0</td>\n",
              "    </tr>\n",
              "  </tbody>\n",
              "</table>\n",
              "</div>\n",
              "      <button class=\"colab-df-convert\" onclick=\"convertToInteractive('df-a6b8d309-ae8f-47d9-a406-fb2ed9dda464')\"\n",
              "              title=\"Convert this dataframe to an interactive table.\"\n",
              "              style=\"display:none;\">\n",
              "        \n",
              "  <svg xmlns=\"http://www.w3.org/2000/svg\" height=\"24px\"viewBox=\"0 0 24 24\"\n",
              "       width=\"24px\">\n",
              "    <path d=\"M0 0h24v24H0V0z\" fill=\"none\"/>\n",
              "    <path d=\"M18.56 5.44l.94 2.06.94-2.06 2.06-.94-2.06-.94-.94-2.06-.94 2.06-2.06.94zm-11 1L8.5 8.5l.94-2.06 2.06-.94-2.06-.94L8.5 2.5l-.94 2.06-2.06.94zm10 10l.94 2.06.94-2.06 2.06-.94-2.06-.94-.94-2.06-.94 2.06-2.06.94z\"/><path d=\"M17.41 7.96l-1.37-1.37c-.4-.4-.92-.59-1.43-.59-.52 0-1.04.2-1.43.59L10.3 9.45l-7.72 7.72c-.78.78-.78 2.05 0 2.83L4 21.41c.39.39.9.59 1.41.59.51 0 1.02-.2 1.41-.59l7.78-7.78 2.81-2.81c.8-.78.8-2.07 0-2.86zM5.41 20L4 18.59l7.72-7.72 1.47 1.35L5.41 20z\"/>\n",
              "  </svg>\n",
              "      </button>\n",
              "      \n",
              "  <style>\n",
              "    .colab-df-container {\n",
              "      display:flex;\n",
              "      flex-wrap:wrap;\n",
              "      gap: 12px;\n",
              "    }\n",
              "\n",
              "    .colab-df-convert {\n",
              "      background-color: #E8F0FE;\n",
              "      border: none;\n",
              "      border-radius: 50%;\n",
              "      cursor: pointer;\n",
              "      display: none;\n",
              "      fill: #1967D2;\n",
              "      height: 32px;\n",
              "      padding: 0 0 0 0;\n",
              "      width: 32px;\n",
              "    }\n",
              "\n",
              "    .colab-df-convert:hover {\n",
              "      background-color: #E2EBFA;\n",
              "      box-shadow: 0px 1px 2px rgba(60, 64, 67, 0.3), 0px 1px 3px 1px rgba(60, 64, 67, 0.15);\n",
              "      fill: #174EA6;\n",
              "    }\n",
              "\n",
              "    [theme=dark] .colab-df-convert {\n",
              "      background-color: #3B4455;\n",
              "      fill: #D2E3FC;\n",
              "    }\n",
              "\n",
              "    [theme=dark] .colab-df-convert:hover {\n",
              "      background-color: #434B5C;\n",
              "      box-shadow: 0px 1px 3px 1px rgba(0, 0, 0, 0.15);\n",
              "      filter: drop-shadow(0px 1px 2px rgba(0, 0, 0, 0.3));\n",
              "      fill: #FFFFFF;\n",
              "    }\n",
              "  </style>\n",
              "\n",
              "      <script>\n",
              "        const buttonEl =\n",
              "          document.querySelector('#df-a6b8d309-ae8f-47d9-a406-fb2ed9dda464 button.colab-df-convert');\n",
              "        buttonEl.style.display =\n",
              "          google.colab.kernel.accessAllowed ? 'block' : 'none';\n",
              "\n",
              "        async function convertToInteractive(key) {\n",
              "          const element = document.querySelector('#df-a6b8d309-ae8f-47d9-a406-fb2ed9dda464');\n",
              "          const dataTable =\n",
              "            await google.colab.kernel.invokeFunction('convertToInteractive',\n",
              "                                                     [key], {});\n",
              "          if (!dataTable) return;\n",
              "\n",
              "          const docLinkHtml = 'Like what you see? Visit the ' +\n",
              "            '<a target=\"_blank\" href=https://colab.research.google.com/notebooks/data_table.ipynb>data table notebook</a>'\n",
              "            + ' to learn more about interactive tables.';\n",
              "          element.innerHTML = '';\n",
              "          dataTable['output_type'] = 'display_data';\n",
              "          await google.colab.output.renderOutput(dataTable, element);\n",
              "          const docLink = document.createElement('div');\n",
              "          docLink.innerHTML = docLinkHtml;\n",
              "          element.appendChild(docLink);\n",
              "        }\n",
              "      </script>\n",
              "    </div>\n",
              "  </div>\n",
              "  "
            ]
          },
          "metadata": {},
          "execution_count": 183
        }
      ]
    },
    {
      "cell_type": "code",
      "source": [
        "df2.head()"
      ],
      "metadata": {
        "colab": {
          "base_uri": "https://localhost:8080/",
          "height": 206
        },
        "id": "LPRPzZoDB4Dn",
        "outputId": "3434a8fb-cbd5-4658-b7ae-40a0981f223f"
      },
      "execution_count": 184,
      "outputs": [
        {
          "output_type": "execute_result",
          "data": {
            "text/plain": [
              "                Name  python  python_en  mysql  computational_thinking  \\\n",
              "0      ASHOK KUMAR K     100          0     31                       9   \n",
              "1            Chandru       0         20      0                       0   \n",
              "2  Ganesh Ramkumar R      -1         55     24                       6   \n",
              "3    Bodipudi Harini      -1          0     35                      -1   \n",
              "4          VIINU V P      -1        100     24                      -1   \n",
              "\n",
              "   Previous Geekions  CodeKata Score  \\\n",
              "0              19400           19400   \n",
              "1              14150           14490   \n",
              "2               8790           10790   \n",
              "3              10040           10040   \n",
              "4               9150            9150   \n",
              "\n",
              "                                  Department  Rising  \n",
              "0     Electronics and Electrical Engineering       0  \n",
              "1           Computer Science and Engineering     340  \n",
              "2           Computer Science and Engineering    2000  \n",
              "3  Electronics and Communication Engineering       0  \n",
              "4     Electronics and Electrical Engineering       0  "
            ],
            "text/html": [
              "\n",
              "  <div id=\"df-78ae71be-b1dd-4557-929b-d057897efd03\">\n",
              "    <div class=\"colab-df-container\">\n",
              "      <div>\n",
              "<style scoped>\n",
              "    .dataframe tbody tr th:only-of-type {\n",
              "        vertical-align: middle;\n",
              "    }\n",
              "\n",
              "    .dataframe tbody tr th {\n",
              "        vertical-align: top;\n",
              "    }\n",
              "\n",
              "    .dataframe thead th {\n",
              "        text-align: right;\n",
              "    }\n",
              "</style>\n",
              "<table border=\"1\" class=\"dataframe\">\n",
              "  <thead>\n",
              "    <tr style=\"text-align: right;\">\n",
              "      <th></th>\n",
              "      <th>Name</th>\n",
              "      <th>python</th>\n",
              "      <th>python_en</th>\n",
              "      <th>mysql</th>\n",
              "      <th>computational_thinking</th>\n",
              "      <th>Previous Geekions</th>\n",
              "      <th>CodeKata Score</th>\n",
              "      <th>Department</th>\n",
              "      <th>Rising</th>\n",
              "    </tr>\n",
              "  </thead>\n",
              "  <tbody>\n",
              "    <tr>\n",
              "      <th>0</th>\n",
              "      <td>ASHOK KUMAR K</td>\n",
              "      <td>100</td>\n",
              "      <td>0</td>\n",
              "      <td>31</td>\n",
              "      <td>9</td>\n",
              "      <td>19400</td>\n",
              "      <td>19400</td>\n",
              "      <td>Electronics and Electrical Engineering</td>\n",
              "      <td>0</td>\n",
              "    </tr>\n",
              "    <tr>\n",
              "      <th>1</th>\n",
              "      <td>Chandru</td>\n",
              "      <td>0</td>\n",
              "      <td>20</td>\n",
              "      <td>0</td>\n",
              "      <td>0</td>\n",
              "      <td>14150</td>\n",
              "      <td>14490</td>\n",
              "      <td>Computer Science and Engineering</td>\n",
              "      <td>340</td>\n",
              "    </tr>\n",
              "    <tr>\n",
              "      <th>2</th>\n",
              "      <td>Ganesh Ramkumar R</td>\n",
              "      <td>-1</td>\n",
              "      <td>55</td>\n",
              "      <td>24</td>\n",
              "      <td>6</td>\n",
              "      <td>8790</td>\n",
              "      <td>10790</td>\n",
              "      <td>Computer Science and Engineering</td>\n",
              "      <td>2000</td>\n",
              "    </tr>\n",
              "    <tr>\n",
              "      <th>3</th>\n",
              "      <td>Bodipudi Harini</td>\n",
              "      <td>-1</td>\n",
              "      <td>0</td>\n",
              "      <td>35</td>\n",
              "      <td>-1</td>\n",
              "      <td>10040</td>\n",
              "      <td>10040</td>\n",
              "      <td>Electronics and Communication Engineering</td>\n",
              "      <td>0</td>\n",
              "    </tr>\n",
              "    <tr>\n",
              "      <th>4</th>\n",
              "      <td>VIINU V P</td>\n",
              "      <td>-1</td>\n",
              "      <td>100</td>\n",
              "      <td>24</td>\n",
              "      <td>-1</td>\n",
              "      <td>9150</td>\n",
              "      <td>9150</td>\n",
              "      <td>Electronics and Electrical Engineering</td>\n",
              "      <td>0</td>\n",
              "    </tr>\n",
              "  </tbody>\n",
              "</table>\n",
              "</div>\n",
              "      <button class=\"colab-df-convert\" onclick=\"convertToInteractive('df-78ae71be-b1dd-4557-929b-d057897efd03')\"\n",
              "              title=\"Convert this dataframe to an interactive table.\"\n",
              "              style=\"display:none;\">\n",
              "        \n",
              "  <svg xmlns=\"http://www.w3.org/2000/svg\" height=\"24px\"viewBox=\"0 0 24 24\"\n",
              "       width=\"24px\">\n",
              "    <path d=\"M0 0h24v24H0V0z\" fill=\"none\"/>\n",
              "    <path d=\"M18.56 5.44l.94 2.06.94-2.06 2.06-.94-2.06-.94-.94-2.06-.94 2.06-2.06.94zm-11 1L8.5 8.5l.94-2.06 2.06-.94-2.06-.94L8.5 2.5l-.94 2.06-2.06.94zm10 10l.94 2.06.94-2.06 2.06-.94-2.06-.94-.94-2.06-.94 2.06-2.06.94z\"/><path d=\"M17.41 7.96l-1.37-1.37c-.4-.4-.92-.59-1.43-.59-.52 0-1.04.2-1.43.59L10.3 9.45l-7.72 7.72c-.78.78-.78 2.05 0 2.83L4 21.41c.39.39.9.59 1.41.59.51 0 1.02-.2 1.41-.59l7.78-7.78 2.81-2.81c.8-.78.8-2.07 0-2.86zM5.41 20L4 18.59l7.72-7.72 1.47 1.35L5.41 20z\"/>\n",
              "  </svg>\n",
              "      </button>\n",
              "      \n",
              "  <style>\n",
              "    .colab-df-container {\n",
              "      display:flex;\n",
              "      flex-wrap:wrap;\n",
              "      gap: 12px;\n",
              "    }\n",
              "\n",
              "    .colab-df-convert {\n",
              "      background-color: #E8F0FE;\n",
              "      border: none;\n",
              "      border-radius: 50%;\n",
              "      cursor: pointer;\n",
              "      display: none;\n",
              "      fill: #1967D2;\n",
              "      height: 32px;\n",
              "      padding: 0 0 0 0;\n",
              "      width: 32px;\n",
              "    }\n",
              "\n",
              "    .colab-df-convert:hover {\n",
              "      background-color: #E2EBFA;\n",
              "      box-shadow: 0px 1px 2px rgba(60, 64, 67, 0.3), 0px 1px 3px 1px rgba(60, 64, 67, 0.15);\n",
              "      fill: #174EA6;\n",
              "    }\n",
              "\n",
              "    [theme=dark] .colab-df-convert {\n",
              "      background-color: #3B4455;\n",
              "      fill: #D2E3FC;\n",
              "    }\n",
              "\n",
              "    [theme=dark] .colab-df-convert:hover {\n",
              "      background-color: #434B5C;\n",
              "      box-shadow: 0px 1px 3px 1px rgba(0, 0, 0, 0.15);\n",
              "      filter: drop-shadow(0px 1px 2px rgba(0, 0, 0, 0.3));\n",
              "      fill: #FFFFFF;\n",
              "    }\n",
              "  </style>\n",
              "\n",
              "      <script>\n",
              "        const buttonEl =\n",
              "          document.querySelector('#df-78ae71be-b1dd-4557-929b-d057897efd03 button.colab-df-convert');\n",
              "        buttonEl.style.display =\n",
              "          google.colab.kernel.accessAllowed ? 'block' : 'none';\n",
              "\n",
              "        async function convertToInteractive(key) {\n",
              "          const element = document.querySelector('#df-78ae71be-b1dd-4557-929b-d057897efd03');\n",
              "          const dataTable =\n",
              "            await google.colab.kernel.invokeFunction('convertToInteractive',\n",
              "                                                     [key], {});\n",
              "          if (!dataTable) return;\n",
              "\n",
              "          const docLinkHtml = 'Like what you see? Visit the ' +\n",
              "            '<a target=\"_blank\" href=https://colab.research.google.com/notebooks/data_table.ipynb>data table notebook</a>'\n",
              "            + ' to learn more about interactive tables.';\n",
              "          element.innerHTML = '';\n",
              "          dataTable['output_type'] = 'display_data';\n",
              "          await google.colab.output.renderOutput(dataTable, element);\n",
              "          const docLink = document.createElement('div');\n",
              "          docLink.innerHTML = docLinkHtml;\n",
              "          element.appendChild(docLink);\n",
              "        }\n",
              "      </script>\n",
              "    </div>\n",
              "  </div>\n",
              "  "
            ]
          },
          "metadata": {},
          "execution_count": 184
        }
      ]
    },
    {
      "cell_type": "code",
      "source": [
        "df3 = pd.concat([df1, df2], ignore_index=True)\n",
        "print(\"\\nThe new DataFrame: df3\\n\")\n",
        "df3.head()"
      ],
      "metadata": {
        "colab": {
          "base_uri": "https://localhost:8080/",
          "height": 258
        },
        "id": "AsBrNmaxH4C3",
        "outputId": "31cb7144-283b-4d89-f3c8-43b16867a498"
      },
      "execution_count": 185,
      "outputs": [
        {
          "output_type": "stream",
          "name": "stdout",
          "text": [
            "\n",
            "The new DataFrame: df3\n",
            "\n"
          ]
        },
        {
          "output_type": "execute_result",
          "data": {
            "text/plain": [
              "          Name  python  mysql  Previous Geekions  CodeKata Score  \\\n",
              "0    A.Dharani    82.0   20.0              24500           24500   \n",
              "1  V.JEEVITHA     82.0   20.0              21740           21740   \n",
              "2  HEMAVATHI.R   100.0  100.0              19680           19680   \n",
              "3  Mugunthan S   100.0   47.0              10610           10610   \n",
              "4  Sathammai.S   100.0    8.0               8980            8980   \n",
              "\n",
              "                         Department  Rising  python_en  computational_thinking  \n",
              "0  Computer Science and Engineering       0        NaN                     NaN  \n",
              "1  Computer Science and Engineering       0        NaN                     NaN  \n",
              "2  Computer Science and Engineering       0        NaN                     NaN  \n",
              "3  Computer Science and Engineering       0        NaN                     NaN  \n",
              "4  Computer Science and Engineering       0        NaN                     NaN  "
            ],
            "text/html": [
              "\n",
              "  <div id=\"df-7a6bdf55-47b4-49c9-bacd-bb69868f80d9\">\n",
              "    <div class=\"colab-df-container\">\n",
              "      <div>\n",
              "<style scoped>\n",
              "    .dataframe tbody tr th:only-of-type {\n",
              "        vertical-align: middle;\n",
              "    }\n",
              "\n",
              "    .dataframe tbody tr th {\n",
              "        vertical-align: top;\n",
              "    }\n",
              "\n",
              "    .dataframe thead th {\n",
              "        text-align: right;\n",
              "    }\n",
              "</style>\n",
              "<table border=\"1\" class=\"dataframe\">\n",
              "  <thead>\n",
              "    <tr style=\"text-align: right;\">\n",
              "      <th></th>\n",
              "      <th>Name</th>\n",
              "      <th>python</th>\n",
              "      <th>mysql</th>\n",
              "      <th>Previous Geekions</th>\n",
              "      <th>CodeKata Score</th>\n",
              "      <th>Department</th>\n",
              "      <th>Rising</th>\n",
              "      <th>python_en</th>\n",
              "      <th>computational_thinking</th>\n",
              "    </tr>\n",
              "  </thead>\n",
              "  <tbody>\n",
              "    <tr>\n",
              "      <th>0</th>\n",
              "      <td>A.Dharani</td>\n",
              "      <td>82.0</td>\n",
              "      <td>20.0</td>\n",
              "      <td>24500</td>\n",
              "      <td>24500</td>\n",
              "      <td>Computer Science and Engineering</td>\n",
              "      <td>0</td>\n",
              "      <td>NaN</td>\n",
              "      <td>NaN</td>\n",
              "    </tr>\n",
              "    <tr>\n",
              "      <th>1</th>\n",
              "      <td>V.JEEVITHA</td>\n",
              "      <td>82.0</td>\n",
              "      <td>20.0</td>\n",
              "      <td>21740</td>\n",
              "      <td>21740</td>\n",
              "      <td>Computer Science and Engineering</td>\n",
              "      <td>0</td>\n",
              "      <td>NaN</td>\n",
              "      <td>NaN</td>\n",
              "    </tr>\n",
              "    <tr>\n",
              "      <th>2</th>\n",
              "      <td>HEMAVATHI.R</td>\n",
              "      <td>100.0</td>\n",
              "      <td>100.0</td>\n",
              "      <td>19680</td>\n",
              "      <td>19680</td>\n",
              "      <td>Computer Science and Engineering</td>\n",
              "      <td>0</td>\n",
              "      <td>NaN</td>\n",
              "      <td>NaN</td>\n",
              "    </tr>\n",
              "    <tr>\n",
              "      <th>3</th>\n",
              "      <td>Mugunthan S</td>\n",
              "      <td>100.0</td>\n",
              "      <td>47.0</td>\n",
              "      <td>10610</td>\n",
              "      <td>10610</td>\n",
              "      <td>Computer Science and Engineering</td>\n",
              "      <td>0</td>\n",
              "      <td>NaN</td>\n",
              "      <td>NaN</td>\n",
              "    </tr>\n",
              "    <tr>\n",
              "      <th>4</th>\n",
              "      <td>Sathammai.S</td>\n",
              "      <td>100.0</td>\n",
              "      <td>8.0</td>\n",
              "      <td>8980</td>\n",
              "      <td>8980</td>\n",
              "      <td>Computer Science and Engineering</td>\n",
              "      <td>0</td>\n",
              "      <td>NaN</td>\n",
              "      <td>NaN</td>\n",
              "    </tr>\n",
              "  </tbody>\n",
              "</table>\n",
              "</div>\n",
              "      <button class=\"colab-df-convert\" onclick=\"convertToInteractive('df-7a6bdf55-47b4-49c9-bacd-bb69868f80d9')\"\n",
              "              title=\"Convert this dataframe to an interactive table.\"\n",
              "              style=\"display:none;\">\n",
              "        \n",
              "  <svg xmlns=\"http://www.w3.org/2000/svg\" height=\"24px\"viewBox=\"0 0 24 24\"\n",
              "       width=\"24px\">\n",
              "    <path d=\"M0 0h24v24H0V0z\" fill=\"none\"/>\n",
              "    <path d=\"M18.56 5.44l.94 2.06.94-2.06 2.06-.94-2.06-.94-.94-2.06-.94 2.06-2.06.94zm-11 1L8.5 8.5l.94-2.06 2.06-.94-2.06-.94L8.5 2.5l-.94 2.06-2.06.94zm10 10l.94 2.06.94-2.06 2.06-.94-2.06-.94-.94-2.06-.94 2.06-2.06.94z\"/><path d=\"M17.41 7.96l-1.37-1.37c-.4-.4-.92-.59-1.43-.59-.52 0-1.04.2-1.43.59L10.3 9.45l-7.72 7.72c-.78.78-.78 2.05 0 2.83L4 21.41c.39.39.9.59 1.41.59.51 0 1.02-.2 1.41-.59l7.78-7.78 2.81-2.81c.8-.78.8-2.07 0-2.86zM5.41 20L4 18.59l7.72-7.72 1.47 1.35L5.41 20z\"/>\n",
              "  </svg>\n",
              "      </button>\n",
              "      \n",
              "  <style>\n",
              "    .colab-df-container {\n",
              "      display:flex;\n",
              "      flex-wrap:wrap;\n",
              "      gap: 12px;\n",
              "    }\n",
              "\n",
              "    .colab-df-convert {\n",
              "      background-color: #E8F0FE;\n",
              "      border: none;\n",
              "      border-radius: 50%;\n",
              "      cursor: pointer;\n",
              "      display: none;\n",
              "      fill: #1967D2;\n",
              "      height: 32px;\n",
              "      padding: 0 0 0 0;\n",
              "      width: 32px;\n",
              "    }\n",
              "\n",
              "    .colab-df-convert:hover {\n",
              "      background-color: #E2EBFA;\n",
              "      box-shadow: 0px 1px 2px rgba(60, 64, 67, 0.3), 0px 1px 3px 1px rgba(60, 64, 67, 0.15);\n",
              "      fill: #174EA6;\n",
              "    }\n",
              "\n",
              "    [theme=dark] .colab-df-convert {\n",
              "      background-color: #3B4455;\n",
              "      fill: #D2E3FC;\n",
              "    }\n",
              "\n",
              "    [theme=dark] .colab-df-convert:hover {\n",
              "      background-color: #434B5C;\n",
              "      box-shadow: 0px 1px 3px 1px rgba(0, 0, 0, 0.15);\n",
              "      filter: drop-shadow(0px 1px 2px rgba(0, 0, 0, 0.3));\n",
              "      fill: #FFFFFF;\n",
              "    }\n",
              "  </style>\n",
              "\n",
              "      <script>\n",
              "        const buttonEl =\n",
              "          document.querySelector('#df-7a6bdf55-47b4-49c9-bacd-bb69868f80d9 button.colab-df-convert');\n",
              "        buttonEl.style.display =\n",
              "          google.colab.kernel.accessAllowed ? 'block' : 'none';\n",
              "\n",
              "        async function convertToInteractive(key) {\n",
              "          const element = document.querySelector('#df-7a6bdf55-47b4-49c9-bacd-bb69868f80d9');\n",
              "          const dataTable =\n",
              "            await google.colab.kernel.invokeFunction('convertToInteractive',\n",
              "                                                     [key], {});\n",
              "          if (!dataTable) return;\n",
              "\n",
              "          const docLinkHtml = 'Like what you see? Visit the ' +\n",
              "            '<a target=\"_blank\" href=https://colab.research.google.com/notebooks/data_table.ipynb>data table notebook</a>'\n",
              "            + ' to learn more about interactive tables.';\n",
              "          element.innerHTML = '';\n",
              "          dataTable['output_type'] = 'display_data';\n",
              "          await google.colab.output.renderOutput(dataTable, element);\n",
              "          const docLink = document.createElement('div');\n",
              "          docLink.innerHTML = docLinkHtml;\n",
              "          element.appendChild(docLink);\n",
              "        }\n",
              "      </script>\n",
              "    </div>\n",
              "  </div>\n",
              "  "
            ]
          },
          "metadata": {},
          "execution_count": 185
        }
      ]
    },
    {
      "cell_type": "code",
      "source": [
        "df3.tail()"
      ],
      "metadata": {
        "colab": {
          "base_uri": "https://localhost:8080/",
          "height": 206
        },
        "id": "NeQ6Arn2IVXZ",
        "outputId": "a4f6ab19-804c-4e9f-d51a-20c9ffaa0728"
      },
      "execution_count": 186,
      "outputs": [
        {
          "output_type": "execute_result",
          "data": {
            "text/plain": [
              "              Name  python  mysql  Previous Geekions  CodeKata Score  \\\n",
              "114  praveen raj j    24.0    0.0               2380            2380   \n",
              "115     AMARNATH D    -1.0   12.0               1890            1890   \n",
              "116           bala    32.0    0.0               1720            1720   \n",
              "117           XY Z    -1.0   -1.0                  0               0   \n",
              "118      Hariharan    -1.0   -1.0                  0               0   \n",
              "\n",
              "                                    Department  Rising  python_en  \\\n",
              "114           Computer Science and Engineering       0       -1.0   \n",
              "115  Electronics and Communication Engineering       0       52.0   \n",
              "116  Electronics and Communication Engineering       0       49.0   \n",
              "117           Computer Science and Engineering       0       20.0   \n",
              "118           Computer Science and Engineering       0       -1.0   \n",
              "\n",
              "     computational_thinking  \n",
              "114                     0.0  \n",
              "115                    -1.0  \n",
              "116                    -1.0  \n",
              "117                    -1.0  \n",
              "118                     0.0  "
            ],
            "text/html": [
              "\n",
              "  <div id=\"df-d8c596e3-a487-4ca6-a2ca-5d75a5176b8c\">\n",
              "    <div class=\"colab-df-container\">\n",
              "      <div>\n",
              "<style scoped>\n",
              "    .dataframe tbody tr th:only-of-type {\n",
              "        vertical-align: middle;\n",
              "    }\n",
              "\n",
              "    .dataframe tbody tr th {\n",
              "        vertical-align: top;\n",
              "    }\n",
              "\n",
              "    .dataframe thead th {\n",
              "        text-align: right;\n",
              "    }\n",
              "</style>\n",
              "<table border=\"1\" class=\"dataframe\">\n",
              "  <thead>\n",
              "    <tr style=\"text-align: right;\">\n",
              "      <th></th>\n",
              "      <th>Name</th>\n",
              "      <th>python</th>\n",
              "      <th>mysql</th>\n",
              "      <th>Previous Geekions</th>\n",
              "      <th>CodeKata Score</th>\n",
              "      <th>Department</th>\n",
              "      <th>Rising</th>\n",
              "      <th>python_en</th>\n",
              "      <th>computational_thinking</th>\n",
              "    </tr>\n",
              "  </thead>\n",
              "  <tbody>\n",
              "    <tr>\n",
              "      <th>114</th>\n",
              "      <td>praveen raj j</td>\n",
              "      <td>24.0</td>\n",
              "      <td>0.0</td>\n",
              "      <td>2380</td>\n",
              "      <td>2380</td>\n",
              "      <td>Computer Science and Engineering</td>\n",
              "      <td>0</td>\n",
              "      <td>-1.0</td>\n",
              "      <td>0.0</td>\n",
              "    </tr>\n",
              "    <tr>\n",
              "      <th>115</th>\n",
              "      <td>AMARNATH D</td>\n",
              "      <td>-1.0</td>\n",
              "      <td>12.0</td>\n",
              "      <td>1890</td>\n",
              "      <td>1890</td>\n",
              "      <td>Electronics and Communication Engineering</td>\n",
              "      <td>0</td>\n",
              "      <td>52.0</td>\n",
              "      <td>-1.0</td>\n",
              "    </tr>\n",
              "    <tr>\n",
              "      <th>116</th>\n",
              "      <td>bala</td>\n",
              "      <td>32.0</td>\n",
              "      <td>0.0</td>\n",
              "      <td>1720</td>\n",
              "      <td>1720</td>\n",
              "      <td>Electronics and Communication Engineering</td>\n",
              "      <td>0</td>\n",
              "      <td>49.0</td>\n",
              "      <td>-1.0</td>\n",
              "    </tr>\n",
              "    <tr>\n",
              "      <th>117</th>\n",
              "      <td>XY Z</td>\n",
              "      <td>-1.0</td>\n",
              "      <td>-1.0</td>\n",
              "      <td>0</td>\n",
              "      <td>0</td>\n",
              "      <td>Computer Science and Engineering</td>\n",
              "      <td>0</td>\n",
              "      <td>20.0</td>\n",
              "      <td>-1.0</td>\n",
              "    </tr>\n",
              "    <tr>\n",
              "      <th>118</th>\n",
              "      <td>Hariharan</td>\n",
              "      <td>-1.0</td>\n",
              "      <td>-1.0</td>\n",
              "      <td>0</td>\n",
              "      <td>0</td>\n",
              "      <td>Computer Science and Engineering</td>\n",
              "      <td>0</td>\n",
              "      <td>-1.0</td>\n",
              "      <td>0.0</td>\n",
              "    </tr>\n",
              "  </tbody>\n",
              "</table>\n",
              "</div>\n",
              "      <button class=\"colab-df-convert\" onclick=\"convertToInteractive('df-d8c596e3-a487-4ca6-a2ca-5d75a5176b8c')\"\n",
              "              title=\"Convert this dataframe to an interactive table.\"\n",
              "              style=\"display:none;\">\n",
              "        \n",
              "  <svg xmlns=\"http://www.w3.org/2000/svg\" height=\"24px\"viewBox=\"0 0 24 24\"\n",
              "       width=\"24px\">\n",
              "    <path d=\"M0 0h24v24H0V0z\" fill=\"none\"/>\n",
              "    <path d=\"M18.56 5.44l.94 2.06.94-2.06 2.06-.94-2.06-.94-.94-2.06-.94 2.06-2.06.94zm-11 1L8.5 8.5l.94-2.06 2.06-.94-2.06-.94L8.5 2.5l-.94 2.06-2.06.94zm10 10l.94 2.06.94-2.06 2.06-.94-2.06-.94-.94-2.06-.94 2.06-2.06.94z\"/><path d=\"M17.41 7.96l-1.37-1.37c-.4-.4-.92-.59-1.43-.59-.52 0-1.04.2-1.43.59L10.3 9.45l-7.72 7.72c-.78.78-.78 2.05 0 2.83L4 21.41c.39.39.9.59 1.41.59.51 0 1.02-.2 1.41-.59l7.78-7.78 2.81-2.81c.8-.78.8-2.07 0-2.86zM5.41 20L4 18.59l7.72-7.72 1.47 1.35L5.41 20z\"/>\n",
              "  </svg>\n",
              "      </button>\n",
              "      \n",
              "  <style>\n",
              "    .colab-df-container {\n",
              "      display:flex;\n",
              "      flex-wrap:wrap;\n",
              "      gap: 12px;\n",
              "    }\n",
              "\n",
              "    .colab-df-convert {\n",
              "      background-color: #E8F0FE;\n",
              "      border: none;\n",
              "      border-radius: 50%;\n",
              "      cursor: pointer;\n",
              "      display: none;\n",
              "      fill: #1967D2;\n",
              "      height: 32px;\n",
              "      padding: 0 0 0 0;\n",
              "      width: 32px;\n",
              "    }\n",
              "\n",
              "    .colab-df-convert:hover {\n",
              "      background-color: #E2EBFA;\n",
              "      box-shadow: 0px 1px 2px rgba(60, 64, 67, 0.3), 0px 1px 3px 1px rgba(60, 64, 67, 0.15);\n",
              "      fill: #174EA6;\n",
              "    }\n",
              "\n",
              "    [theme=dark] .colab-df-convert {\n",
              "      background-color: #3B4455;\n",
              "      fill: #D2E3FC;\n",
              "    }\n",
              "\n",
              "    [theme=dark] .colab-df-convert:hover {\n",
              "      background-color: #434B5C;\n",
              "      box-shadow: 0px 1px 3px 1px rgba(0, 0, 0, 0.15);\n",
              "      filter: drop-shadow(0px 1px 2px rgba(0, 0, 0, 0.3));\n",
              "      fill: #FFFFFF;\n",
              "    }\n",
              "  </style>\n",
              "\n",
              "      <script>\n",
              "        const buttonEl =\n",
              "          document.querySelector('#df-d8c596e3-a487-4ca6-a2ca-5d75a5176b8c button.colab-df-convert');\n",
              "        buttonEl.style.display =\n",
              "          google.colab.kernel.accessAllowed ? 'block' : 'none';\n",
              "\n",
              "        async function convertToInteractive(key) {\n",
              "          const element = document.querySelector('#df-d8c596e3-a487-4ca6-a2ca-5d75a5176b8c');\n",
              "          const dataTable =\n",
              "            await google.colab.kernel.invokeFunction('convertToInteractive',\n",
              "                                                     [key], {});\n",
              "          if (!dataTable) return;\n",
              "\n",
              "          const docLinkHtml = 'Like what you see? Visit the ' +\n",
              "            '<a target=\"_blank\" href=https://colab.research.google.com/notebooks/data_table.ipynb>data table notebook</a>'\n",
              "            + ' to learn more about interactive tables.';\n",
              "          element.innerHTML = '';\n",
              "          dataTable['output_type'] = 'display_data';\n",
              "          await google.colab.output.renderOutput(dataTable, element);\n",
              "          const docLink = document.createElement('div');\n",
              "          docLink.innerHTML = docLinkHtml;\n",
              "          element.appendChild(docLink);\n",
              "        }\n",
              "      </script>\n",
              "    </div>\n",
              "  </div>\n",
              "  "
            ]
          },
          "metadata": {},
          "execution_count": 186
        }
      ]
    },
    {
      "cell_type": "markdown",
      "metadata": {
        "id": "h9SGD6wsQTuT"
      },
      "source": [
        "###### Take each csv file , split that csv file into multiple categories (example csv files are added in the repo) \n"
      ]
    },
    {
      "cell_type": "markdown",
      "metadata": {
        "id": "B4n1iyx_QTua"
      },
      "source": [
        "###### consider if the codekata score exceeds 15000 points(present week) then make a csv on those observations as Exceeded expectations.csv\n"
      ]
    },
    {
      "cell_type": "markdown",
      "metadata": {
        "id": "CIFFJbofQTuc"
      },
      "source": [
        "###### if  10000<codekata score<15000   (Reached_expectations.csv)\n",
        "\n"
      ]
    },
    {
      "cell_type": "markdown",
      "metadata": {
        "id": "RTZBYzhGQTue"
      },
      "source": [
        "###### if  7000<codekata score<10000   (Needs_Improvement.csv)\n"
      ]
    },
    {
      "cell_type": "markdown",
      "metadata": {
        "id": "QAz7DQhhQTug"
      },
      "source": [
        "###### if  codekate score < 7000        (Unsatisfactory.csv)"
      ]
    },
    {
      "cell_type": "code",
      "execution_count": 187,
      "metadata": {
        "id": "kucuZMebQTuk",
        "colab": {
          "base_uri": "https://localhost:8080/",
          "height": 279
        },
        "outputId": "82ad14b3-1849-452b-9bdf-ab064ecec553"
      },
      "outputs": [
        {
          "output_type": "stream",
          "name": "stdout",
          "text": [
            "\n",
            "No. of rows and columns 4\n",
            "\n",
            "\n",
            "Exceeded expectations.csv is created\n",
            "\n"
          ]
        },
        {
          "output_type": "execute_result",
          "data": {
            "text/plain": [
              "             Name  python  mysql  Previous Geekions  CodeKata Score  \\\n",
              "0       A.Dharani    82.0   20.0              24500           24500   \n",
              "1     V.JEEVITHA     82.0   20.0              21740           21740   \n",
              "2     HEMAVATHI.R   100.0  100.0              19680           19680   \n",
              "84  ASHOK KUMAR K   100.0   31.0              19400           19400   \n",
              "\n",
              "                                Department  Rising  python_en  \\\n",
              "0         Computer Science and Engineering       0        NaN   \n",
              "1         Computer Science and Engineering       0        NaN   \n",
              "2         Computer Science and Engineering       0        NaN   \n",
              "84  Electronics and Electrical Engineering       0        0.0   \n",
              "\n",
              "    computational_thinking  \n",
              "0                      NaN  \n",
              "1                      NaN  \n",
              "2                      NaN  \n",
              "84                     9.0  "
            ],
            "text/html": [
              "\n",
              "  <div id=\"df-5763f3e9-f34d-43e2-a9ab-0cdc64502627\">\n",
              "    <div class=\"colab-df-container\">\n",
              "      <div>\n",
              "<style scoped>\n",
              "    .dataframe tbody tr th:only-of-type {\n",
              "        vertical-align: middle;\n",
              "    }\n",
              "\n",
              "    .dataframe tbody tr th {\n",
              "        vertical-align: top;\n",
              "    }\n",
              "\n",
              "    .dataframe thead th {\n",
              "        text-align: right;\n",
              "    }\n",
              "</style>\n",
              "<table border=\"1\" class=\"dataframe\">\n",
              "  <thead>\n",
              "    <tr style=\"text-align: right;\">\n",
              "      <th></th>\n",
              "      <th>Name</th>\n",
              "      <th>python</th>\n",
              "      <th>mysql</th>\n",
              "      <th>Previous Geekions</th>\n",
              "      <th>CodeKata Score</th>\n",
              "      <th>Department</th>\n",
              "      <th>Rising</th>\n",
              "      <th>python_en</th>\n",
              "      <th>computational_thinking</th>\n",
              "    </tr>\n",
              "  </thead>\n",
              "  <tbody>\n",
              "    <tr>\n",
              "      <th>0</th>\n",
              "      <td>A.Dharani</td>\n",
              "      <td>82.0</td>\n",
              "      <td>20.0</td>\n",
              "      <td>24500</td>\n",
              "      <td>24500</td>\n",
              "      <td>Computer Science and Engineering</td>\n",
              "      <td>0</td>\n",
              "      <td>NaN</td>\n",
              "      <td>NaN</td>\n",
              "    </tr>\n",
              "    <tr>\n",
              "      <th>1</th>\n",
              "      <td>V.JEEVITHA</td>\n",
              "      <td>82.0</td>\n",
              "      <td>20.0</td>\n",
              "      <td>21740</td>\n",
              "      <td>21740</td>\n",
              "      <td>Computer Science and Engineering</td>\n",
              "      <td>0</td>\n",
              "      <td>NaN</td>\n",
              "      <td>NaN</td>\n",
              "    </tr>\n",
              "    <tr>\n",
              "      <th>2</th>\n",
              "      <td>HEMAVATHI.R</td>\n",
              "      <td>100.0</td>\n",
              "      <td>100.0</td>\n",
              "      <td>19680</td>\n",
              "      <td>19680</td>\n",
              "      <td>Computer Science and Engineering</td>\n",
              "      <td>0</td>\n",
              "      <td>NaN</td>\n",
              "      <td>NaN</td>\n",
              "    </tr>\n",
              "    <tr>\n",
              "      <th>84</th>\n",
              "      <td>ASHOK KUMAR K</td>\n",
              "      <td>100.0</td>\n",
              "      <td>31.0</td>\n",
              "      <td>19400</td>\n",
              "      <td>19400</td>\n",
              "      <td>Electronics and Electrical Engineering</td>\n",
              "      <td>0</td>\n",
              "      <td>0.0</td>\n",
              "      <td>9.0</td>\n",
              "    </tr>\n",
              "  </tbody>\n",
              "</table>\n",
              "</div>\n",
              "      <button class=\"colab-df-convert\" onclick=\"convertToInteractive('df-5763f3e9-f34d-43e2-a9ab-0cdc64502627')\"\n",
              "              title=\"Convert this dataframe to an interactive table.\"\n",
              "              style=\"display:none;\">\n",
              "        \n",
              "  <svg xmlns=\"http://www.w3.org/2000/svg\" height=\"24px\"viewBox=\"0 0 24 24\"\n",
              "       width=\"24px\">\n",
              "    <path d=\"M0 0h24v24H0V0z\" fill=\"none\"/>\n",
              "    <path d=\"M18.56 5.44l.94 2.06.94-2.06 2.06-.94-2.06-.94-.94-2.06-.94 2.06-2.06.94zm-11 1L8.5 8.5l.94-2.06 2.06-.94-2.06-.94L8.5 2.5l-.94 2.06-2.06.94zm10 10l.94 2.06.94-2.06 2.06-.94-2.06-.94-.94-2.06-.94 2.06-2.06.94z\"/><path d=\"M17.41 7.96l-1.37-1.37c-.4-.4-.92-.59-1.43-.59-.52 0-1.04.2-1.43.59L10.3 9.45l-7.72 7.72c-.78.78-.78 2.05 0 2.83L4 21.41c.39.39.9.59 1.41.59.51 0 1.02-.2 1.41-.59l7.78-7.78 2.81-2.81c.8-.78.8-2.07 0-2.86zM5.41 20L4 18.59l7.72-7.72 1.47 1.35L5.41 20z\"/>\n",
              "  </svg>\n",
              "      </button>\n",
              "      \n",
              "  <style>\n",
              "    .colab-df-container {\n",
              "      display:flex;\n",
              "      flex-wrap:wrap;\n",
              "      gap: 12px;\n",
              "    }\n",
              "\n",
              "    .colab-df-convert {\n",
              "      background-color: #E8F0FE;\n",
              "      border: none;\n",
              "      border-radius: 50%;\n",
              "      cursor: pointer;\n",
              "      display: none;\n",
              "      fill: #1967D2;\n",
              "      height: 32px;\n",
              "      padding: 0 0 0 0;\n",
              "      width: 32px;\n",
              "    }\n",
              "\n",
              "    .colab-df-convert:hover {\n",
              "      background-color: #E2EBFA;\n",
              "      box-shadow: 0px 1px 2px rgba(60, 64, 67, 0.3), 0px 1px 3px 1px rgba(60, 64, 67, 0.15);\n",
              "      fill: #174EA6;\n",
              "    }\n",
              "\n",
              "    [theme=dark] .colab-df-convert {\n",
              "      background-color: #3B4455;\n",
              "      fill: #D2E3FC;\n",
              "    }\n",
              "\n",
              "    [theme=dark] .colab-df-convert:hover {\n",
              "      background-color: #434B5C;\n",
              "      box-shadow: 0px 1px 3px 1px rgba(0, 0, 0, 0.15);\n",
              "      filter: drop-shadow(0px 1px 2px rgba(0, 0, 0, 0.3));\n",
              "      fill: #FFFFFF;\n",
              "    }\n",
              "  </style>\n",
              "\n",
              "      <script>\n",
              "        const buttonEl =\n",
              "          document.querySelector('#df-5763f3e9-f34d-43e2-a9ab-0cdc64502627 button.colab-df-convert');\n",
              "        buttonEl.style.display =\n",
              "          google.colab.kernel.accessAllowed ? 'block' : 'none';\n",
              "\n",
              "        async function convertToInteractive(key) {\n",
              "          const element = document.querySelector('#df-5763f3e9-f34d-43e2-a9ab-0cdc64502627');\n",
              "          const dataTable =\n",
              "            await google.colab.kernel.invokeFunction('convertToInteractive',\n",
              "                                                     [key], {});\n",
              "          if (!dataTable) return;\n",
              "\n",
              "          const docLinkHtml = 'Like what you see? Visit the ' +\n",
              "            '<a target=\"_blank\" href=https://colab.research.google.com/notebooks/data_table.ipynb>data table notebook</a>'\n",
              "            + ' to learn more about interactive tables.';\n",
              "          element.innerHTML = '';\n",
              "          dataTable['output_type'] = 'display_data';\n",
              "          await google.colab.output.renderOutput(dataTable, element);\n",
              "          const docLink = document.createElement('div');\n",
              "          docLink.innerHTML = docLinkHtml;\n",
              "          element.appendChild(docLink);\n",
              "        }\n",
              "      </script>\n",
              "    </div>\n",
              "  </div>\n",
              "  "
            ]
          },
          "metadata": {},
          "execution_count": 187
        }
      ],
      "source": [
        "df4=df3[(df3[\"CodeKata Score\"]>15000)]\n",
        "print(\"\\nNo. of rows and columns\",df4.shape[0],end=\"\\n\\n\")\n",
        "df4.to_csv('Exceeded expectations.csv')\n",
        "print(\"\\nExceeded expectations.csv is created\\n\")\n",
        "df4"
      ]
    },
    {
      "cell_type": "code",
      "execution_count": 188,
      "metadata": {
        "id": "ftAEmm8hQTun",
        "colab": {
          "base_uri": "https://localhost:8080/",
          "height": 262
        },
        "outputId": "fdf3346a-cf0c-49d7-cc0c-3249bb5893bd"
      },
      "outputs": [
        {
          "output_type": "stream",
          "name": "stdout",
          "text": [
            "No. of rows and columns 4\n",
            "\n",
            "\n",
            "Reached_expectations.csv is created\n",
            "\n"
          ]
        },
        {
          "output_type": "execute_result",
          "data": {
            "text/plain": [
              "                 Name  python  mysql  Previous Geekions  CodeKata Score  \\\n",
              "3         Mugunthan S   100.0   47.0              10610           10610   \n",
              "85            Chandru     0.0    0.0              14150           14490   \n",
              "86  Ganesh Ramkumar R    -1.0   24.0               8790           10790   \n",
              "87    Bodipudi Harini    -1.0   35.0              10040           10040   \n",
              "\n",
              "                                   Department  Rising  python_en  \\\n",
              "3            Computer Science and Engineering       0        NaN   \n",
              "85           Computer Science and Engineering     340       20.0   \n",
              "86           Computer Science and Engineering    2000       55.0   \n",
              "87  Electronics and Communication Engineering       0        0.0   \n",
              "\n",
              "    computational_thinking  \n",
              "3                      NaN  \n",
              "85                     0.0  \n",
              "86                     6.0  \n",
              "87                    -1.0  "
            ],
            "text/html": [
              "\n",
              "  <div id=\"df-529e2ab6-9bad-4f50-ba77-94ef5d15e896\">\n",
              "    <div class=\"colab-df-container\">\n",
              "      <div>\n",
              "<style scoped>\n",
              "    .dataframe tbody tr th:only-of-type {\n",
              "        vertical-align: middle;\n",
              "    }\n",
              "\n",
              "    .dataframe tbody tr th {\n",
              "        vertical-align: top;\n",
              "    }\n",
              "\n",
              "    .dataframe thead th {\n",
              "        text-align: right;\n",
              "    }\n",
              "</style>\n",
              "<table border=\"1\" class=\"dataframe\">\n",
              "  <thead>\n",
              "    <tr style=\"text-align: right;\">\n",
              "      <th></th>\n",
              "      <th>Name</th>\n",
              "      <th>python</th>\n",
              "      <th>mysql</th>\n",
              "      <th>Previous Geekions</th>\n",
              "      <th>CodeKata Score</th>\n",
              "      <th>Department</th>\n",
              "      <th>Rising</th>\n",
              "      <th>python_en</th>\n",
              "      <th>computational_thinking</th>\n",
              "    </tr>\n",
              "  </thead>\n",
              "  <tbody>\n",
              "    <tr>\n",
              "      <th>3</th>\n",
              "      <td>Mugunthan S</td>\n",
              "      <td>100.0</td>\n",
              "      <td>47.0</td>\n",
              "      <td>10610</td>\n",
              "      <td>10610</td>\n",
              "      <td>Computer Science and Engineering</td>\n",
              "      <td>0</td>\n",
              "      <td>NaN</td>\n",
              "      <td>NaN</td>\n",
              "    </tr>\n",
              "    <tr>\n",
              "      <th>85</th>\n",
              "      <td>Chandru</td>\n",
              "      <td>0.0</td>\n",
              "      <td>0.0</td>\n",
              "      <td>14150</td>\n",
              "      <td>14490</td>\n",
              "      <td>Computer Science and Engineering</td>\n",
              "      <td>340</td>\n",
              "      <td>20.0</td>\n",
              "      <td>0.0</td>\n",
              "    </tr>\n",
              "    <tr>\n",
              "      <th>86</th>\n",
              "      <td>Ganesh Ramkumar R</td>\n",
              "      <td>-1.0</td>\n",
              "      <td>24.0</td>\n",
              "      <td>8790</td>\n",
              "      <td>10790</td>\n",
              "      <td>Computer Science and Engineering</td>\n",
              "      <td>2000</td>\n",
              "      <td>55.0</td>\n",
              "      <td>6.0</td>\n",
              "    </tr>\n",
              "    <tr>\n",
              "      <th>87</th>\n",
              "      <td>Bodipudi Harini</td>\n",
              "      <td>-1.0</td>\n",
              "      <td>35.0</td>\n",
              "      <td>10040</td>\n",
              "      <td>10040</td>\n",
              "      <td>Electronics and Communication Engineering</td>\n",
              "      <td>0</td>\n",
              "      <td>0.0</td>\n",
              "      <td>-1.0</td>\n",
              "    </tr>\n",
              "  </tbody>\n",
              "</table>\n",
              "</div>\n",
              "      <button class=\"colab-df-convert\" onclick=\"convertToInteractive('df-529e2ab6-9bad-4f50-ba77-94ef5d15e896')\"\n",
              "              title=\"Convert this dataframe to an interactive table.\"\n",
              "              style=\"display:none;\">\n",
              "        \n",
              "  <svg xmlns=\"http://www.w3.org/2000/svg\" height=\"24px\"viewBox=\"0 0 24 24\"\n",
              "       width=\"24px\">\n",
              "    <path d=\"M0 0h24v24H0V0z\" fill=\"none\"/>\n",
              "    <path d=\"M18.56 5.44l.94 2.06.94-2.06 2.06-.94-2.06-.94-.94-2.06-.94 2.06-2.06.94zm-11 1L8.5 8.5l.94-2.06 2.06-.94-2.06-.94L8.5 2.5l-.94 2.06-2.06.94zm10 10l.94 2.06.94-2.06 2.06-.94-2.06-.94-.94-2.06-.94 2.06-2.06.94z\"/><path d=\"M17.41 7.96l-1.37-1.37c-.4-.4-.92-.59-1.43-.59-.52 0-1.04.2-1.43.59L10.3 9.45l-7.72 7.72c-.78.78-.78 2.05 0 2.83L4 21.41c.39.39.9.59 1.41.59.51 0 1.02-.2 1.41-.59l7.78-7.78 2.81-2.81c.8-.78.8-2.07 0-2.86zM5.41 20L4 18.59l7.72-7.72 1.47 1.35L5.41 20z\"/>\n",
              "  </svg>\n",
              "      </button>\n",
              "      \n",
              "  <style>\n",
              "    .colab-df-container {\n",
              "      display:flex;\n",
              "      flex-wrap:wrap;\n",
              "      gap: 12px;\n",
              "    }\n",
              "\n",
              "    .colab-df-convert {\n",
              "      background-color: #E8F0FE;\n",
              "      border: none;\n",
              "      border-radius: 50%;\n",
              "      cursor: pointer;\n",
              "      display: none;\n",
              "      fill: #1967D2;\n",
              "      height: 32px;\n",
              "      padding: 0 0 0 0;\n",
              "      width: 32px;\n",
              "    }\n",
              "\n",
              "    .colab-df-convert:hover {\n",
              "      background-color: #E2EBFA;\n",
              "      box-shadow: 0px 1px 2px rgba(60, 64, 67, 0.3), 0px 1px 3px 1px rgba(60, 64, 67, 0.15);\n",
              "      fill: #174EA6;\n",
              "    }\n",
              "\n",
              "    [theme=dark] .colab-df-convert {\n",
              "      background-color: #3B4455;\n",
              "      fill: #D2E3FC;\n",
              "    }\n",
              "\n",
              "    [theme=dark] .colab-df-convert:hover {\n",
              "      background-color: #434B5C;\n",
              "      box-shadow: 0px 1px 3px 1px rgba(0, 0, 0, 0.15);\n",
              "      filter: drop-shadow(0px 1px 2px rgba(0, 0, 0, 0.3));\n",
              "      fill: #FFFFFF;\n",
              "    }\n",
              "  </style>\n",
              "\n",
              "      <script>\n",
              "        const buttonEl =\n",
              "          document.querySelector('#df-529e2ab6-9bad-4f50-ba77-94ef5d15e896 button.colab-df-convert');\n",
              "        buttonEl.style.display =\n",
              "          google.colab.kernel.accessAllowed ? 'block' : 'none';\n",
              "\n",
              "        async function convertToInteractive(key) {\n",
              "          const element = document.querySelector('#df-529e2ab6-9bad-4f50-ba77-94ef5d15e896');\n",
              "          const dataTable =\n",
              "            await google.colab.kernel.invokeFunction('convertToInteractive',\n",
              "                                                     [key], {});\n",
              "          if (!dataTable) return;\n",
              "\n",
              "          const docLinkHtml = 'Like what you see? Visit the ' +\n",
              "            '<a target=\"_blank\" href=https://colab.research.google.com/notebooks/data_table.ipynb>data table notebook</a>'\n",
              "            + ' to learn more about interactive tables.';\n",
              "          element.innerHTML = '';\n",
              "          dataTable['output_type'] = 'display_data';\n",
              "          await google.colab.output.renderOutput(dataTable, element);\n",
              "          const docLink = document.createElement('div');\n",
              "          docLink.innerHTML = docLinkHtml;\n",
              "          element.appendChild(docLink);\n",
              "        }\n",
              "      </script>\n",
              "    </div>\n",
              "  </div>\n",
              "  "
            ]
          },
          "metadata": {},
          "execution_count": 188
        }
      ],
      "source": [
        "df5=df3[(df3[\"CodeKata Score\"]<15000)&(df3[\"CodeKata Score\"]>10000)]\n",
        "print(\"No. of rows and columns\",df5.shape[0],end=\"\\n\\n\")\n",
        "df5.to_csv('Reached_expectations.csv')\n",
        "print(\"\\nReached_expectations.csv is created\\n\")\n",
        "df5"
      ]
    },
    {
      "cell_type": "code",
      "source": [
        "df6=df3[(df3[\"CodeKata Score\"]>7000)&(df3[\"CodeKata Score\"]<10000)]\n",
        "print(\"No. of rows and columns\",df6.shape[0],end=\"\\n\\n\")\n",
        "df6.to_csv('Needs_Improvement.csv')\n",
        "print(\"\\nNeeds_Improvement.csv is created\\n\")\n",
        "df6"
      ],
      "metadata": {
        "colab": {
          "base_uri": "https://localhost:8080/",
          "height": 745
        },
        "id": "axs__wlpLoH0",
        "outputId": "7a084f44-2f03-434b-8715-736825a10b92"
      },
      "execution_count": 189,
      "outputs": [
        {
          "output_type": "stream",
          "name": "stdout",
          "text": [
            "No. of rows and columns 18\n",
            "\n",
            "\n",
            "Needs_Improvement.csv is created\n",
            "\n"
          ]
        },
        {
          "output_type": "execute_result",
          "data": {
            "text/plain": [
              "                       Name  python  mysql  Previous Geekions  CodeKata Score  \\\n",
              "4               Sathammai.S   100.0    8.0               8980            8980   \n",
              "5              NIVEESHWAR S   100.0    0.0               8200            8200   \n",
              "6             KALAIARASAN K    85.0   47.0               7750            7880   \n",
              "7      MOHAMED ZUBAIR AHMED    82.0    4.0               7020            7020   \n",
              "88                VIINU V P    -1.0   24.0               9150            9150   \n",
              "89               Poojitha Y     0.0   35.0               7210            8970   \n",
              "90   Gowtham Chandrasekaran    -1.0    0.0               7250            8950   \n",
              "91                Gowtham R    -1.0    4.0               8650            8650   \n",
              "92                 shifak N    58.0    0.0               5180            8320   \n",
              "93                  Balaji     -1.0   20.0               6170            8160   \n",
              "94                 Rushitha    -1.0   62.0               7470            8090   \n",
              "95     Balaraman Muthupandi    -1.0    0.0               7670            8050   \n",
              "96                 JPradhap   100.0    0.0               7340            8030   \n",
              "97            SRIRAMKUMAR B    -1.0    0.0               6400            7940   \n",
              "98                Praneetha    -1.0  100.0               7170            7730   \n",
              "99              Rahul Raj K    -1.0    0.0               6280            7640   \n",
              "100                 Guhan S    -1.0   35.0               7310            7630   \n",
              "101            Suryarajan S    -1.0   31.0               6710            7550   \n",
              "\n",
              "                                    Department  Rising  python_en  \\\n",
              "4             Computer Science and Engineering       0        NaN   \n",
              "5             Computer Science and Engineering       0        NaN   \n",
              "6    Electronics and Communication Engineering     130        NaN   \n",
              "7             Computer Science and Engineering       0        NaN   \n",
              "88      Electronics and Electrical Engineering       0      100.0   \n",
              "89            Computer Science and Engineering    1760       78.0   \n",
              "90            Computer Science and Engineering    1700        0.0   \n",
              "91   Electronics and Communication Engineering       0       60.0   \n",
              "92      Electronics and Electrical Engineering    3140        0.0   \n",
              "93      Electronics and Electrical Engineering    1990      100.0   \n",
              "94            Computer Science and Engineering     620       15.0   \n",
              "95            Computer Science and Engineering     380        9.0   \n",
              "96      Electronics and Electrical Engineering     690        0.0   \n",
              "97            Computer Science and Engineering    1540        0.0   \n",
              "98   Electronics and Communication Engineering     560       23.0   \n",
              "99            Computer Science and Engineering    1360        0.0   \n",
              "100  Electronics and Communication Engineering     320       72.0   \n",
              "101           Computer Science and Engineering     840       63.0   \n",
              "\n",
              "     computational_thinking  \n",
              "4                       NaN  \n",
              "5                       NaN  \n",
              "6                       NaN  \n",
              "7                       NaN  \n",
              "88                     -1.0  \n",
              "89                      0.0  \n",
              "90                      3.0  \n",
              "91                      6.0  \n",
              "92                      0.0  \n",
              "93                      0.0  \n",
              "94                      9.0  \n",
              "95                      0.0  \n",
              "96                      0.0  \n",
              "97                      0.0  \n",
              "98                     -1.0  \n",
              "99                      0.0  \n",
              "100                    39.0  \n",
              "101                     0.0  "
            ],
            "text/html": [
              "\n",
              "  <div id=\"df-0234ca1b-22a1-4034-991e-c341a138d332\">\n",
              "    <div class=\"colab-df-container\">\n",
              "      <div>\n",
              "<style scoped>\n",
              "    .dataframe tbody tr th:only-of-type {\n",
              "        vertical-align: middle;\n",
              "    }\n",
              "\n",
              "    .dataframe tbody tr th {\n",
              "        vertical-align: top;\n",
              "    }\n",
              "\n",
              "    .dataframe thead th {\n",
              "        text-align: right;\n",
              "    }\n",
              "</style>\n",
              "<table border=\"1\" class=\"dataframe\">\n",
              "  <thead>\n",
              "    <tr style=\"text-align: right;\">\n",
              "      <th></th>\n",
              "      <th>Name</th>\n",
              "      <th>python</th>\n",
              "      <th>mysql</th>\n",
              "      <th>Previous Geekions</th>\n",
              "      <th>CodeKata Score</th>\n",
              "      <th>Department</th>\n",
              "      <th>Rising</th>\n",
              "      <th>python_en</th>\n",
              "      <th>computational_thinking</th>\n",
              "    </tr>\n",
              "  </thead>\n",
              "  <tbody>\n",
              "    <tr>\n",
              "      <th>4</th>\n",
              "      <td>Sathammai.S</td>\n",
              "      <td>100.0</td>\n",
              "      <td>8.0</td>\n",
              "      <td>8980</td>\n",
              "      <td>8980</td>\n",
              "      <td>Computer Science and Engineering</td>\n",
              "      <td>0</td>\n",
              "      <td>NaN</td>\n",
              "      <td>NaN</td>\n",
              "    </tr>\n",
              "    <tr>\n",
              "      <th>5</th>\n",
              "      <td>NIVEESHWAR S</td>\n",
              "      <td>100.0</td>\n",
              "      <td>0.0</td>\n",
              "      <td>8200</td>\n",
              "      <td>8200</td>\n",
              "      <td>Computer Science and Engineering</td>\n",
              "      <td>0</td>\n",
              "      <td>NaN</td>\n",
              "      <td>NaN</td>\n",
              "    </tr>\n",
              "    <tr>\n",
              "      <th>6</th>\n",
              "      <td>KALAIARASAN K</td>\n",
              "      <td>85.0</td>\n",
              "      <td>47.0</td>\n",
              "      <td>7750</td>\n",
              "      <td>7880</td>\n",
              "      <td>Electronics and Communication Engineering</td>\n",
              "      <td>130</td>\n",
              "      <td>NaN</td>\n",
              "      <td>NaN</td>\n",
              "    </tr>\n",
              "    <tr>\n",
              "      <th>7</th>\n",
              "      <td>MOHAMED ZUBAIR AHMED</td>\n",
              "      <td>82.0</td>\n",
              "      <td>4.0</td>\n",
              "      <td>7020</td>\n",
              "      <td>7020</td>\n",
              "      <td>Computer Science and Engineering</td>\n",
              "      <td>0</td>\n",
              "      <td>NaN</td>\n",
              "      <td>NaN</td>\n",
              "    </tr>\n",
              "    <tr>\n",
              "      <th>88</th>\n",
              "      <td>VIINU V P</td>\n",
              "      <td>-1.0</td>\n",
              "      <td>24.0</td>\n",
              "      <td>9150</td>\n",
              "      <td>9150</td>\n",
              "      <td>Electronics and Electrical Engineering</td>\n",
              "      <td>0</td>\n",
              "      <td>100.0</td>\n",
              "      <td>-1.0</td>\n",
              "    </tr>\n",
              "    <tr>\n",
              "      <th>89</th>\n",
              "      <td>Poojitha Y</td>\n",
              "      <td>0.0</td>\n",
              "      <td>35.0</td>\n",
              "      <td>7210</td>\n",
              "      <td>8970</td>\n",
              "      <td>Computer Science and Engineering</td>\n",
              "      <td>1760</td>\n",
              "      <td>78.0</td>\n",
              "      <td>0.0</td>\n",
              "    </tr>\n",
              "    <tr>\n",
              "      <th>90</th>\n",
              "      <td>Gowtham Chandrasekaran</td>\n",
              "      <td>-1.0</td>\n",
              "      <td>0.0</td>\n",
              "      <td>7250</td>\n",
              "      <td>8950</td>\n",
              "      <td>Computer Science and Engineering</td>\n",
              "      <td>1700</td>\n",
              "      <td>0.0</td>\n",
              "      <td>3.0</td>\n",
              "    </tr>\n",
              "    <tr>\n",
              "      <th>91</th>\n",
              "      <td>Gowtham R</td>\n",
              "      <td>-1.0</td>\n",
              "      <td>4.0</td>\n",
              "      <td>8650</td>\n",
              "      <td>8650</td>\n",
              "      <td>Electronics and Communication Engineering</td>\n",
              "      <td>0</td>\n",
              "      <td>60.0</td>\n",
              "      <td>6.0</td>\n",
              "    </tr>\n",
              "    <tr>\n",
              "      <th>92</th>\n",
              "      <td>shifak N</td>\n",
              "      <td>58.0</td>\n",
              "      <td>0.0</td>\n",
              "      <td>5180</td>\n",
              "      <td>8320</td>\n",
              "      <td>Electronics and Electrical Engineering</td>\n",
              "      <td>3140</td>\n",
              "      <td>0.0</td>\n",
              "      <td>0.0</td>\n",
              "    </tr>\n",
              "    <tr>\n",
              "      <th>93</th>\n",
              "      <td>Balaji</td>\n",
              "      <td>-1.0</td>\n",
              "      <td>20.0</td>\n",
              "      <td>6170</td>\n",
              "      <td>8160</td>\n",
              "      <td>Electronics and Electrical Engineering</td>\n",
              "      <td>1990</td>\n",
              "      <td>100.0</td>\n",
              "      <td>0.0</td>\n",
              "    </tr>\n",
              "    <tr>\n",
              "      <th>94</th>\n",
              "      <td>Rushitha</td>\n",
              "      <td>-1.0</td>\n",
              "      <td>62.0</td>\n",
              "      <td>7470</td>\n",
              "      <td>8090</td>\n",
              "      <td>Computer Science and Engineering</td>\n",
              "      <td>620</td>\n",
              "      <td>15.0</td>\n",
              "      <td>9.0</td>\n",
              "    </tr>\n",
              "    <tr>\n",
              "      <th>95</th>\n",
              "      <td>Balaraman Muthupandi</td>\n",
              "      <td>-1.0</td>\n",
              "      <td>0.0</td>\n",
              "      <td>7670</td>\n",
              "      <td>8050</td>\n",
              "      <td>Computer Science and Engineering</td>\n",
              "      <td>380</td>\n",
              "      <td>9.0</td>\n",
              "      <td>0.0</td>\n",
              "    </tr>\n",
              "    <tr>\n",
              "      <th>96</th>\n",
              "      <td>JPradhap</td>\n",
              "      <td>100.0</td>\n",
              "      <td>0.0</td>\n",
              "      <td>7340</td>\n",
              "      <td>8030</td>\n",
              "      <td>Electronics and Electrical Engineering</td>\n",
              "      <td>690</td>\n",
              "      <td>0.0</td>\n",
              "      <td>0.0</td>\n",
              "    </tr>\n",
              "    <tr>\n",
              "      <th>97</th>\n",
              "      <td>SRIRAMKUMAR B</td>\n",
              "      <td>-1.0</td>\n",
              "      <td>0.0</td>\n",
              "      <td>6400</td>\n",
              "      <td>7940</td>\n",
              "      <td>Computer Science and Engineering</td>\n",
              "      <td>1540</td>\n",
              "      <td>0.0</td>\n",
              "      <td>0.0</td>\n",
              "    </tr>\n",
              "    <tr>\n",
              "      <th>98</th>\n",
              "      <td>Praneetha</td>\n",
              "      <td>-1.0</td>\n",
              "      <td>100.0</td>\n",
              "      <td>7170</td>\n",
              "      <td>7730</td>\n",
              "      <td>Electronics and Communication Engineering</td>\n",
              "      <td>560</td>\n",
              "      <td>23.0</td>\n",
              "      <td>-1.0</td>\n",
              "    </tr>\n",
              "    <tr>\n",
              "      <th>99</th>\n",
              "      <td>Rahul Raj K</td>\n",
              "      <td>-1.0</td>\n",
              "      <td>0.0</td>\n",
              "      <td>6280</td>\n",
              "      <td>7640</td>\n",
              "      <td>Computer Science and Engineering</td>\n",
              "      <td>1360</td>\n",
              "      <td>0.0</td>\n",
              "      <td>0.0</td>\n",
              "    </tr>\n",
              "    <tr>\n",
              "      <th>100</th>\n",
              "      <td>Guhan S</td>\n",
              "      <td>-1.0</td>\n",
              "      <td>35.0</td>\n",
              "      <td>7310</td>\n",
              "      <td>7630</td>\n",
              "      <td>Electronics and Communication Engineering</td>\n",
              "      <td>320</td>\n",
              "      <td>72.0</td>\n",
              "      <td>39.0</td>\n",
              "    </tr>\n",
              "    <tr>\n",
              "      <th>101</th>\n",
              "      <td>Suryarajan S</td>\n",
              "      <td>-1.0</td>\n",
              "      <td>31.0</td>\n",
              "      <td>6710</td>\n",
              "      <td>7550</td>\n",
              "      <td>Computer Science and Engineering</td>\n",
              "      <td>840</td>\n",
              "      <td>63.0</td>\n",
              "      <td>0.0</td>\n",
              "    </tr>\n",
              "  </tbody>\n",
              "</table>\n",
              "</div>\n",
              "      <button class=\"colab-df-convert\" onclick=\"convertToInteractive('df-0234ca1b-22a1-4034-991e-c341a138d332')\"\n",
              "              title=\"Convert this dataframe to an interactive table.\"\n",
              "              style=\"display:none;\">\n",
              "        \n",
              "  <svg xmlns=\"http://www.w3.org/2000/svg\" height=\"24px\"viewBox=\"0 0 24 24\"\n",
              "       width=\"24px\">\n",
              "    <path d=\"M0 0h24v24H0V0z\" fill=\"none\"/>\n",
              "    <path d=\"M18.56 5.44l.94 2.06.94-2.06 2.06-.94-2.06-.94-.94-2.06-.94 2.06-2.06.94zm-11 1L8.5 8.5l.94-2.06 2.06-.94-2.06-.94L8.5 2.5l-.94 2.06-2.06.94zm10 10l.94 2.06.94-2.06 2.06-.94-2.06-.94-.94-2.06-.94 2.06-2.06.94z\"/><path d=\"M17.41 7.96l-1.37-1.37c-.4-.4-.92-.59-1.43-.59-.52 0-1.04.2-1.43.59L10.3 9.45l-7.72 7.72c-.78.78-.78 2.05 0 2.83L4 21.41c.39.39.9.59 1.41.59.51 0 1.02-.2 1.41-.59l7.78-7.78 2.81-2.81c.8-.78.8-2.07 0-2.86zM5.41 20L4 18.59l7.72-7.72 1.47 1.35L5.41 20z\"/>\n",
              "  </svg>\n",
              "      </button>\n",
              "      \n",
              "  <style>\n",
              "    .colab-df-container {\n",
              "      display:flex;\n",
              "      flex-wrap:wrap;\n",
              "      gap: 12px;\n",
              "    }\n",
              "\n",
              "    .colab-df-convert {\n",
              "      background-color: #E8F0FE;\n",
              "      border: none;\n",
              "      border-radius: 50%;\n",
              "      cursor: pointer;\n",
              "      display: none;\n",
              "      fill: #1967D2;\n",
              "      height: 32px;\n",
              "      padding: 0 0 0 0;\n",
              "      width: 32px;\n",
              "    }\n",
              "\n",
              "    .colab-df-convert:hover {\n",
              "      background-color: #E2EBFA;\n",
              "      box-shadow: 0px 1px 2px rgba(60, 64, 67, 0.3), 0px 1px 3px 1px rgba(60, 64, 67, 0.15);\n",
              "      fill: #174EA6;\n",
              "    }\n",
              "\n",
              "    [theme=dark] .colab-df-convert {\n",
              "      background-color: #3B4455;\n",
              "      fill: #D2E3FC;\n",
              "    }\n",
              "\n",
              "    [theme=dark] .colab-df-convert:hover {\n",
              "      background-color: #434B5C;\n",
              "      box-shadow: 0px 1px 3px 1px rgba(0, 0, 0, 0.15);\n",
              "      filter: drop-shadow(0px 1px 2px rgba(0, 0, 0, 0.3));\n",
              "      fill: #FFFFFF;\n",
              "    }\n",
              "  </style>\n",
              "\n",
              "      <script>\n",
              "        const buttonEl =\n",
              "          document.querySelector('#df-0234ca1b-22a1-4034-991e-c341a138d332 button.colab-df-convert');\n",
              "        buttonEl.style.display =\n",
              "          google.colab.kernel.accessAllowed ? 'block' : 'none';\n",
              "\n",
              "        async function convertToInteractive(key) {\n",
              "          const element = document.querySelector('#df-0234ca1b-22a1-4034-991e-c341a138d332');\n",
              "          const dataTable =\n",
              "            await google.colab.kernel.invokeFunction('convertToInteractive',\n",
              "                                                     [key], {});\n",
              "          if (!dataTable) return;\n",
              "\n",
              "          const docLinkHtml = 'Like what you see? Visit the ' +\n",
              "            '<a target=\"_blank\" href=https://colab.research.google.com/notebooks/data_table.ipynb>data table notebook</a>'\n",
              "            + ' to learn more about interactive tables.';\n",
              "          element.innerHTML = '';\n",
              "          dataTable['output_type'] = 'display_data';\n",
              "          await google.colab.output.renderOutput(dataTable, element);\n",
              "          const docLink = document.createElement('div');\n",
              "          docLink.innerHTML = docLinkHtml;\n",
              "          element.appendChild(docLink);\n",
              "        }\n",
              "      </script>\n",
              "    </div>\n",
              "  </div>\n",
              "  "
            ]
          },
          "metadata": {},
          "execution_count": 189
        }
      ]
    },
    {
      "cell_type": "code",
      "source": [
        "df7=df3[(df3[\"CodeKata Score\"]<7000)]\n",
        "print(\"No. of rows and columns\",df7.shape[0],end=\"\\n\\n\")\n",
        "df7.to_csv('Unsatisfactory.csv')\n",
        "print(\"\\nUnsatisfactory.csv is created\\n\")\n",
        "df7"
      ],
      "metadata": {
        "colab": {
          "base_uri": "https://localhost:8080/",
          "height": 510
        },
        "id": "vcS2NEaqL5Ok",
        "outputId": "65ba2a14-d8b6-4ece-8c41-eef5fabd538e"
      },
      "execution_count": 190,
      "outputs": [
        {
          "output_type": "stream",
          "name": "stdout",
          "text": [
            "No. of rows and columns 93\n",
            "\n",
            "\n",
            "Unsatisfactory.csv is created\n",
            "\n"
          ]
        },
        {
          "output_type": "execute_result",
          "data": {
            "text/plain": [
              "                Name  python  mysql  Previous Geekions  CodeKata Score  \\\n",
              "8         J.SUGANTHI    27.0  50.00               5860            5860   \n",
              "9       thamizhpaana    29.0   0.00               5500            5500   \n",
              "10   Iyappan Samiraj    50.0  24.00               5400            5400   \n",
              "11      Ponniyamma.R   100.0  11.25               5380            5380   \n",
              "12         SABAPATHI   100.0   0.00               5280            5280   \n",
              "..               ...     ...    ...                ...             ...   \n",
              "114    praveen raj j    24.0   0.00               2380            2380   \n",
              "115       AMARNATH D    -1.0  12.00               1890            1890   \n",
              "116             bala    32.0   0.00               1720            1720   \n",
              "117             XY Z    -1.0  -1.00                  0               0   \n",
              "118        Hariharan    -1.0  -1.00                  0               0   \n",
              "\n",
              "                                    Department  Rising  python_en  \\\n",
              "8    Electronics and Communication Engineering       0        NaN   \n",
              "9             Computer Science and Engineering       0        NaN   \n",
              "10   Electronics and Communication Engineering       0        NaN   \n",
              "11            Computer Science and Engineering       0        NaN   \n",
              "12            Computer Science and Engineering       0        NaN   \n",
              "..                                         ...     ...        ...   \n",
              "114           Computer Science and Engineering       0       -1.0   \n",
              "115  Electronics and Communication Engineering       0       52.0   \n",
              "116  Electronics and Communication Engineering       0       49.0   \n",
              "117           Computer Science and Engineering       0       20.0   \n",
              "118           Computer Science and Engineering       0       -1.0   \n",
              "\n",
              "     computational_thinking  \n",
              "8                       NaN  \n",
              "9                       NaN  \n",
              "10                      NaN  \n",
              "11                      NaN  \n",
              "12                      NaN  \n",
              "..                      ...  \n",
              "114                     0.0  \n",
              "115                    -1.0  \n",
              "116                    -1.0  \n",
              "117                    -1.0  \n",
              "118                     0.0  \n",
              "\n",
              "[93 rows x 9 columns]"
            ],
            "text/html": [
              "\n",
              "  <div id=\"df-2f89de42-8df8-4a2d-acf6-f970cad88df6\">\n",
              "    <div class=\"colab-df-container\">\n",
              "      <div>\n",
              "<style scoped>\n",
              "    .dataframe tbody tr th:only-of-type {\n",
              "        vertical-align: middle;\n",
              "    }\n",
              "\n",
              "    .dataframe tbody tr th {\n",
              "        vertical-align: top;\n",
              "    }\n",
              "\n",
              "    .dataframe thead th {\n",
              "        text-align: right;\n",
              "    }\n",
              "</style>\n",
              "<table border=\"1\" class=\"dataframe\">\n",
              "  <thead>\n",
              "    <tr style=\"text-align: right;\">\n",
              "      <th></th>\n",
              "      <th>Name</th>\n",
              "      <th>python</th>\n",
              "      <th>mysql</th>\n",
              "      <th>Previous Geekions</th>\n",
              "      <th>CodeKata Score</th>\n",
              "      <th>Department</th>\n",
              "      <th>Rising</th>\n",
              "      <th>python_en</th>\n",
              "      <th>computational_thinking</th>\n",
              "    </tr>\n",
              "  </thead>\n",
              "  <tbody>\n",
              "    <tr>\n",
              "      <th>8</th>\n",
              "      <td>J.SUGANTHI</td>\n",
              "      <td>27.0</td>\n",
              "      <td>50.00</td>\n",
              "      <td>5860</td>\n",
              "      <td>5860</td>\n",
              "      <td>Electronics and Communication Engineering</td>\n",
              "      <td>0</td>\n",
              "      <td>NaN</td>\n",
              "      <td>NaN</td>\n",
              "    </tr>\n",
              "    <tr>\n",
              "      <th>9</th>\n",
              "      <td>thamizhpaana</td>\n",
              "      <td>29.0</td>\n",
              "      <td>0.00</td>\n",
              "      <td>5500</td>\n",
              "      <td>5500</td>\n",
              "      <td>Computer Science and Engineering</td>\n",
              "      <td>0</td>\n",
              "      <td>NaN</td>\n",
              "      <td>NaN</td>\n",
              "    </tr>\n",
              "    <tr>\n",
              "      <th>10</th>\n",
              "      <td>Iyappan Samiraj</td>\n",
              "      <td>50.0</td>\n",
              "      <td>24.00</td>\n",
              "      <td>5400</td>\n",
              "      <td>5400</td>\n",
              "      <td>Electronics and Communication Engineering</td>\n",
              "      <td>0</td>\n",
              "      <td>NaN</td>\n",
              "      <td>NaN</td>\n",
              "    </tr>\n",
              "    <tr>\n",
              "      <th>11</th>\n",
              "      <td>Ponniyamma.R</td>\n",
              "      <td>100.0</td>\n",
              "      <td>11.25</td>\n",
              "      <td>5380</td>\n",
              "      <td>5380</td>\n",
              "      <td>Computer Science and Engineering</td>\n",
              "      <td>0</td>\n",
              "      <td>NaN</td>\n",
              "      <td>NaN</td>\n",
              "    </tr>\n",
              "    <tr>\n",
              "      <th>12</th>\n",
              "      <td>SABAPATHI</td>\n",
              "      <td>100.0</td>\n",
              "      <td>0.00</td>\n",
              "      <td>5280</td>\n",
              "      <td>5280</td>\n",
              "      <td>Computer Science and Engineering</td>\n",
              "      <td>0</td>\n",
              "      <td>NaN</td>\n",
              "      <td>NaN</td>\n",
              "    </tr>\n",
              "    <tr>\n",
              "      <th>...</th>\n",
              "      <td>...</td>\n",
              "      <td>...</td>\n",
              "      <td>...</td>\n",
              "      <td>...</td>\n",
              "      <td>...</td>\n",
              "      <td>...</td>\n",
              "      <td>...</td>\n",
              "      <td>...</td>\n",
              "      <td>...</td>\n",
              "    </tr>\n",
              "    <tr>\n",
              "      <th>114</th>\n",
              "      <td>praveen raj j</td>\n",
              "      <td>24.0</td>\n",
              "      <td>0.00</td>\n",
              "      <td>2380</td>\n",
              "      <td>2380</td>\n",
              "      <td>Computer Science and Engineering</td>\n",
              "      <td>0</td>\n",
              "      <td>-1.0</td>\n",
              "      <td>0.0</td>\n",
              "    </tr>\n",
              "    <tr>\n",
              "      <th>115</th>\n",
              "      <td>AMARNATH D</td>\n",
              "      <td>-1.0</td>\n",
              "      <td>12.00</td>\n",
              "      <td>1890</td>\n",
              "      <td>1890</td>\n",
              "      <td>Electronics and Communication Engineering</td>\n",
              "      <td>0</td>\n",
              "      <td>52.0</td>\n",
              "      <td>-1.0</td>\n",
              "    </tr>\n",
              "    <tr>\n",
              "      <th>116</th>\n",
              "      <td>bala</td>\n",
              "      <td>32.0</td>\n",
              "      <td>0.00</td>\n",
              "      <td>1720</td>\n",
              "      <td>1720</td>\n",
              "      <td>Electronics and Communication Engineering</td>\n",
              "      <td>0</td>\n",
              "      <td>49.0</td>\n",
              "      <td>-1.0</td>\n",
              "    </tr>\n",
              "    <tr>\n",
              "      <th>117</th>\n",
              "      <td>XY Z</td>\n",
              "      <td>-1.0</td>\n",
              "      <td>-1.00</td>\n",
              "      <td>0</td>\n",
              "      <td>0</td>\n",
              "      <td>Computer Science and Engineering</td>\n",
              "      <td>0</td>\n",
              "      <td>20.0</td>\n",
              "      <td>-1.0</td>\n",
              "    </tr>\n",
              "    <tr>\n",
              "      <th>118</th>\n",
              "      <td>Hariharan</td>\n",
              "      <td>-1.0</td>\n",
              "      <td>-1.00</td>\n",
              "      <td>0</td>\n",
              "      <td>0</td>\n",
              "      <td>Computer Science and Engineering</td>\n",
              "      <td>0</td>\n",
              "      <td>-1.0</td>\n",
              "      <td>0.0</td>\n",
              "    </tr>\n",
              "  </tbody>\n",
              "</table>\n",
              "<p>93 rows × 9 columns</p>\n",
              "</div>\n",
              "      <button class=\"colab-df-convert\" onclick=\"convertToInteractive('df-2f89de42-8df8-4a2d-acf6-f970cad88df6')\"\n",
              "              title=\"Convert this dataframe to an interactive table.\"\n",
              "              style=\"display:none;\">\n",
              "        \n",
              "  <svg xmlns=\"http://www.w3.org/2000/svg\" height=\"24px\"viewBox=\"0 0 24 24\"\n",
              "       width=\"24px\">\n",
              "    <path d=\"M0 0h24v24H0V0z\" fill=\"none\"/>\n",
              "    <path d=\"M18.56 5.44l.94 2.06.94-2.06 2.06-.94-2.06-.94-.94-2.06-.94 2.06-2.06.94zm-11 1L8.5 8.5l.94-2.06 2.06-.94-2.06-.94L8.5 2.5l-.94 2.06-2.06.94zm10 10l.94 2.06.94-2.06 2.06-.94-2.06-.94-.94-2.06-.94 2.06-2.06.94z\"/><path d=\"M17.41 7.96l-1.37-1.37c-.4-.4-.92-.59-1.43-.59-.52 0-1.04.2-1.43.59L10.3 9.45l-7.72 7.72c-.78.78-.78 2.05 0 2.83L4 21.41c.39.39.9.59 1.41.59.51 0 1.02-.2 1.41-.59l7.78-7.78 2.81-2.81c.8-.78.8-2.07 0-2.86zM5.41 20L4 18.59l7.72-7.72 1.47 1.35L5.41 20z\"/>\n",
              "  </svg>\n",
              "      </button>\n",
              "      \n",
              "  <style>\n",
              "    .colab-df-container {\n",
              "      display:flex;\n",
              "      flex-wrap:wrap;\n",
              "      gap: 12px;\n",
              "    }\n",
              "\n",
              "    .colab-df-convert {\n",
              "      background-color: #E8F0FE;\n",
              "      border: none;\n",
              "      border-radius: 50%;\n",
              "      cursor: pointer;\n",
              "      display: none;\n",
              "      fill: #1967D2;\n",
              "      height: 32px;\n",
              "      padding: 0 0 0 0;\n",
              "      width: 32px;\n",
              "    }\n",
              "\n",
              "    .colab-df-convert:hover {\n",
              "      background-color: #E2EBFA;\n",
              "      box-shadow: 0px 1px 2px rgba(60, 64, 67, 0.3), 0px 1px 3px 1px rgba(60, 64, 67, 0.15);\n",
              "      fill: #174EA6;\n",
              "    }\n",
              "\n",
              "    [theme=dark] .colab-df-convert {\n",
              "      background-color: #3B4455;\n",
              "      fill: #D2E3FC;\n",
              "    }\n",
              "\n",
              "    [theme=dark] .colab-df-convert:hover {\n",
              "      background-color: #434B5C;\n",
              "      box-shadow: 0px 1px 3px 1px rgba(0, 0, 0, 0.15);\n",
              "      filter: drop-shadow(0px 1px 2px rgba(0, 0, 0, 0.3));\n",
              "      fill: #FFFFFF;\n",
              "    }\n",
              "  </style>\n",
              "\n",
              "      <script>\n",
              "        const buttonEl =\n",
              "          document.querySelector('#df-2f89de42-8df8-4a2d-acf6-f970cad88df6 button.colab-df-convert');\n",
              "        buttonEl.style.display =\n",
              "          google.colab.kernel.accessAllowed ? 'block' : 'none';\n",
              "\n",
              "        async function convertToInteractive(key) {\n",
              "          const element = document.querySelector('#df-2f89de42-8df8-4a2d-acf6-f970cad88df6');\n",
              "          const dataTable =\n",
              "            await google.colab.kernel.invokeFunction('convertToInteractive',\n",
              "                                                     [key], {});\n",
              "          if (!dataTable) return;\n",
              "\n",
              "          const docLinkHtml = 'Like what you see? Visit the ' +\n",
              "            '<a target=\"_blank\" href=https://colab.research.google.com/notebooks/data_table.ipynb>data table notebook</a>'\n",
              "            + ' to learn more about interactive tables.';\n",
              "          element.innerHTML = '';\n",
              "          dataTable['output_type'] = 'display_data';\n",
              "          await google.colab.output.renderOutput(dataTable, element);\n",
              "          const docLink = document.createElement('div');\n",
              "          docLink.innerHTML = docLinkHtml;\n",
              "          element.appendChild(docLink);\n",
              "        }\n",
              "      </script>\n",
              "    </div>\n",
              "  </div>\n",
              "  "
            ]
          },
          "metadata": {},
          "execution_count": 190
        }
      ]
    },
    {
      "cell_type": "code",
      "source": [
        "print(\"\\nThe total no. of rows in merged CSVs (college_1.csv and college_2.csv): {}\".format(df3.shape[0]))"
      ],
      "metadata": {
        "colab": {
          "base_uri": "https://localhost:8080/",
          "height": 0
        },
        "id": "5MifAeynMBuf",
        "outputId": "d36b728a-8e83-4b99-de3f-410483a2ca6f"
      },
      "execution_count": 191,
      "outputs": [
        {
          "output_type": "stream",
          "name": "stdout",
          "text": [
            "\n",
            "The total no. of rows in merged CSVs (college_1.csv and college_2.csv): 119\n"
          ]
        }
      ]
    },
    {
      "cell_type": "code",
      "source": [
        "x=[df4,df5,df6,df7]\n",
        "print(\"\\nThe total no. of rows in merged CSVs (Exceeded expectations.csv, Reached_expectations.csv, Needs_Improvement.csv, Unsatisfactory.csv): {}\".format(pd.concat(x).shape[0]))"
      ],
      "metadata": {
        "colab": {
          "base_uri": "https://localhost:8080/",
          "height": 0
        },
        "id": "pHXywcZMMECx",
        "outputId": "c565ffcf-4848-455b-8e62-d12a2ffdfac0"
      },
      "execution_count": 192,
      "outputs": [
        {
          "output_type": "stream",
          "name": "stdout",
          "text": [
            "\n",
            "The total no. of rows in merged CSVs (Exceeded expectations.csv, Reached_expectations.csv, Needs_Improvement.csv, Unsatisfactory.csv): 119\n"
          ]
        }
      ]
    },
    {
      "cell_type": "markdown",
      "metadata": {
        "id": "W3wGP1nbQTuo"
      },
      "source": [
        "###### Average of previous week geekions vs this week geekions (i.e Previous Geekions vs CodeKata Score)"
      ]
    },
    {
      "cell_type": "code",
      "execution_count": 193,
      "metadata": {
        "id": "7Wv0UySHQTup",
        "colab": {
          "base_uri": "https://localhost:8080/",
          "height": 0
        },
        "outputId": "e0df1164-e2a6-44ba-f7b7-5bf779b1787e"
      },
      "outputs": [
        {
          "output_type": "stream",
          "name": "stdout",
          "text": [
            "Average of Previous Geekions is 3842.3529411764707\n"
          ]
        }
      ],
      "source": [
        "print(\"Average of Previous Geekions is {}\".format(df3[\"Previous Geekions\"].mean()))"
      ]
    },
    {
      "cell_type": "code",
      "source": [
        "print(\"Average of Average of CodeKata Score is {}\".format(df3[\"CodeKata Score\"].mean()))"
      ],
      "metadata": {
        "colab": {
          "base_uri": "https://localhost:8080/",
          "height": 0
        },
        "id": "SZseRlzsNJvM",
        "outputId": "d136cf73-2730-4ebb-9f07-68f8a960a415"
      },
      "execution_count": 194,
      "outputs": [
        {
          "output_type": "stream",
          "name": "stdout",
          "text": [
            "Average of CodeKata Score is 4051.764705882353\n"
          ]
        }
      ]
    },
    {
      "cell_type": "code",
      "source": [
        "print(\"\\n Average of Previous Geekions vs CodeKata Score\\n\")\n",
        "m=px.scatter(df3,x=\"Previous Geekions\",y='CodeKata Score',color=\"Rising\")\n",
        "m.update_layout(\n",
        "    title=\"Average of Previous Geekions vs CodeKata Score\",\n",
        "    xaxis_title=\"Index\",\n",
        "    yaxis_title=\"Previous Geekions\",\n",
        ")\n",
        "m.show()"
      ],
      "metadata": {
        "colab": {
          "base_uri": "https://localhost:8080/",
          "height": 594
        },
        "id": "q0GzeGm4FLdf",
        "outputId": "5fb1373d-8a90-49a9-c61f-259bcc9cad30"
      },
      "execution_count": 224,
      "outputs": [
        {
          "output_type": "stream",
          "name": "stdout",
          "text": [
            "\n",
            " Average of Previous Geekions vs CodeKata Score\n",
            "\n"
          ]
        },
        {
          "output_type": "display_data",
          "data": {
            "text/html": [
              "<html>\n",
              "<head><meta charset=\"utf-8\" /></head>\n",
              "<body>\n",
              "    <div>            <script src=\"https://cdnjs.cloudflare.com/ajax/libs/mathjax/2.7.5/MathJax.js?config=TeX-AMS-MML_SVG\"></script><script type=\"text/javascript\">if (window.MathJax) {MathJax.Hub.Config({SVG: {font: \"STIX-Web\"}});}</script>                <script type=\"text/javascript\">window.PlotlyConfig = {MathJaxConfig: 'local'};</script>\n",
              "        <script src=\"https://cdn.plot.ly/plotly-2.8.3.min.js\"></script>                <div id=\"abc41816-904d-4ef1-b3fc-541201ea2df8\" class=\"plotly-graph-div\" style=\"height:525px; width:100%;\"></div>            <script type=\"text/javascript\">                                    window.PLOTLYENV=window.PLOTLYENV || {};                                    if (document.getElementById(\"abc41816-904d-4ef1-b3fc-541201ea2df8\")) {                    Plotly.newPlot(                        \"abc41816-904d-4ef1-b3fc-541201ea2df8\",                        [{\"hovertemplate\":\"Previous Geekions=%{x}<br>CodeKata Score=%{y}<br>Rising=%{marker.color}<extra></extra>\",\"legendgroup\":\"\",\"marker\":{\"color\":[0,0,0,0,0,0,130,0,0,0,0,0,0,0,0,0,0,0,0,0,0,0,0,0,0,0,0,0,0,0,0,0,0,0,0,0,0,0,0,0,0,0,0,0,0,0,0,0,0,0,0,0,0,0,0,0,0,0,0,0,0,0,0,0,0,0,0,0,0,0,0,0,0,0,0,0,0,0,0,0,0,0,0,0,0,340,2000,0,0,1760,1700,0,3140,1990,620,380,690,1540,560,1360,320,840,2000,1340,1000,30,1830,0,0,770,580,0,0,0,0,0,0,0,0],\"coloraxis\":\"coloraxis\",\"symbol\":\"circle\"},\"mode\":\"markers\",\"name\":\"\",\"orientation\":\"v\",\"showlegend\":false,\"x\":[24500,21740,19680,10610,8980,8200,7750,7020,5860,5500,5400,5380,5280,5120,4800,4600,4510,4370,4320,4090,3915,3665,3460,3280,3200,3200,3110,3000,2570,2410,2360,2260,2240,2160,1910,1910,1900,1880,1880,1740,1680,1580,1580,1440,1350,1320,1240,1130,1100,1020,980,950,850,800,770,760,720,690,580,490,410,380,300,270,260,200,180,170,160,120,120,120,120,100,100,60,40,40,40,0,0,0,0,0,19400,14150,8790,10040,9150,7210,7250,8650,5180,6170,7470,7670,7340,6400,7170,6280,7310,6710,4800,5300,5290,6060,3910,5200,5050,4050,3860,4170,4020,3220,2380,1890,1720,0,0],\"xaxis\":\"x\",\"y\":[24500,21740,19680,10610,8980,8200,7880,7020,5860,5500,5400,5380,5280,5120,4800,4600,4510,4370,4320,4090,3915,3665,3460,3280,3200,3200,3110,3000,2570,2410,2360,2260,2240,2160,1910,1910,1900,1880,1880,1740,1680,1580,1580,1440,1350,1320,1240,1130,1100,1020,980,950,850,800,770,760,720,690,580,490,410,380,300,270,260,200,180,170,160,120,120,120,120,100,100,60,40,40,40,0,0,0,0,0,19400,14490,10790,10040,9150,8970,8950,8650,8320,8160,8090,8050,8030,7940,7730,7640,7630,7550,6800,6640,6290,6090,5740,5200,5050,4820,4440,4170,4020,3220,2380,1890,1720,0,0],\"yaxis\":\"y\",\"type\":\"scatter\"}],                        {\"template\":{\"data\":{\"bar\":[{\"error_x\":{\"color\":\"#2a3f5f\"},\"error_y\":{\"color\":\"#2a3f5f\"},\"marker\":{\"line\":{\"color\":\"#E5ECF6\",\"width\":0.5},\"pattern\":{\"fillmode\":\"overlay\",\"size\":10,\"solidity\":0.2}},\"type\":\"bar\"}],\"barpolar\":[{\"marker\":{\"line\":{\"color\":\"#E5ECF6\",\"width\":0.5},\"pattern\":{\"fillmode\":\"overlay\",\"size\":10,\"solidity\":0.2}},\"type\":\"barpolar\"}],\"carpet\":[{\"aaxis\":{\"endlinecolor\":\"#2a3f5f\",\"gridcolor\":\"white\",\"linecolor\":\"white\",\"minorgridcolor\":\"white\",\"startlinecolor\":\"#2a3f5f\"},\"baxis\":{\"endlinecolor\":\"#2a3f5f\",\"gridcolor\":\"white\",\"linecolor\":\"white\",\"minorgridcolor\":\"white\",\"startlinecolor\":\"#2a3f5f\"},\"type\":\"carpet\"}],\"choropleth\":[{\"colorbar\":{\"outlinewidth\":0,\"ticks\":\"\"},\"type\":\"choropleth\"}],\"contour\":[{\"colorbar\":{\"outlinewidth\":0,\"ticks\":\"\"},\"colorscale\":[[0.0,\"#0d0887\"],[0.1111111111111111,\"#46039f\"],[0.2222222222222222,\"#7201a8\"],[0.3333333333333333,\"#9c179e\"],[0.4444444444444444,\"#bd3786\"],[0.5555555555555556,\"#d8576b\"],[0.6666666666666666,\"#ed7953\"],[0.7777777777777778,\"#fb9f3a\"],[0.8888888888888888,\"#fdca26\"],[1.0,\"#f0f921\"]],\"type\":\"contour\"}],\"contourcarpet\":[{\"colorbar\":{\"outlinewidth\":0,\"ticks\":\"\"},\"type\":\"contourcarpet\"}],\"heatmap\":[{\"colorbar\":{\"outlinewidth\":0,\"ticks\":\"\"},\"colorscale\":[[0.0,\"#0d0887\"],[0.1111111111111111,\"#46039f\"],[0.2222222222222222,\"#7201a8\"],[0.3333333333333333,\"#9c179e\"],[0.4444444444444444,\"#bd3786\"],[0.5555555555555556,\"#d8576b\"],[0.6666666666666666,\"#ed7953\"],[0.7777777777777778,\"#fb9f3a\"],[0.8888888888888888,\"#fdca26\"],[1.0,\"#f0f921\"]],\"type\":\"heatmap\"}],\"heatmapgl\":[{\"colorbar\":{\"outlinewidth\":0,\"ticks\":\"\"},\"colorscale\":[[0.0,\"#0d0887\"],[0.1111111111111111,\"#46039f\"],[0.2222222222222222,\"#7201a8\"],[0.3333333333333333,\"#9c179e\"],[0.4444444444444444,\"#bd3786\"],[0.5555555555555556,\"#d8576b\"],[0.6666666666666666,\"#ed7953\"],[0.7777777777777778,\"#fb9f3a\"],[0.8888888888888888,\"#fdca26\"],[1.0,\"#f0f921\"]],\"type\":\"heatmapgl\"}],\"histogram\":[{\"marker\":{\"pattern\":{\"fillmode\":\"overlay\",\"size\":10,\"solidity\":0.2}},\"type\":\"histogram\"}],\"histogram2d\":[{\"colorbar\":{\"outlinewidth\":0,\"ticks\":\"\"},\"colorscale\":[[0.0,\"#0d0887\"],[0.1111111111111111,\"#46039f\"],[0.2222222222222222,\"#7201a8\"],[0.3333333333333333,\"#9c179e\"],[0.4444444444444444,\"#bd3786\"],[0.5555555555555556,\"#d8576b\"],[0.6666666666666666,\"#ed7953\"],[0.7777777777777778,\"#fb9f3a\"],[0.8888888888888888,\"#fdca26\"],[1.0,\"#f0f921\"]],\"type\":\"histogram2d\"}],\"histogram2dcontour\":[{\"colorbar\":{\"outlinewidth\":0,\"ticks\":\"\"},\"colorscale\":[[0.0,\"#0d0887\"],[0.1111111111111111,\"#46039f\"],[0.2222222222222222,\"#7201a8\"],[0.3333333333333333,\"#9c179e\"],[0.4444444444444444,\"#bd3786\"],[0.5555555555555556,\"#d8576b\"],[0.6666666666666666,\"#ed7953\"],[0.7777777777777778,\"#fb9f3a\"],[0.8888888888888888,\"#fdca26\"],[1.0,\"#f0f921\"]],\"type\":\"histogram2dcontour\"}],\"mesh3d\":[{\"colorbar\":{\"outlinewidth\":0,\"ticks\":\"\"},\"type\":\"mesh3d\"}],\"parcoords\":[{\"line\":{\"colorbar\":{\"outlinewidth\":0,\"ticks\":\"\"}},\"type\":\"parcoords\"}],\"pie\":[{\"automargin\":true,\"type\":\"pie\"}],\"scatter\":[{\"marker\":{\"colorbar\":{\"outlinewidth\":0,\"ticks\":\"\"}},\"type\":\"scatter\"}],\"scatter3d\":[{\"line\":{\"colorbar\":{\"outlinewidth\":0,\"ticks\":\"\"}},\"marker\":{\"colorbar\":{\"outlinewidth\":0,\"ticks\":\"\"}},\"type\":\"scatter3d\"}],\"scattercarpet\":[{\"marker\":{\"colorbar\":{\"outlinewidth\":0,\"ticks\":\"\"}},\"type\":\"scattercarpet\"}],\"scattergeo\":[{\"marker\":{\"colorbar\":{\"outlinewidth\":0,\"ticks\":\"\"}},\"type\":\"scattergeo\"}],\"scattergl\":[{\"marker\":{\"colorbar\":{\"outlinewidth\":0,\"ticks\":\"\"}},\"type\":\"scattergl\"}],\"scattermapbox\":[{\"marker\":{\"colorbar\":{\"outlinewidth\":0,\"ticks\":\"\"}},\"type\":\"scattermapbox\"}],\"scatterpolar\":[{\"marker\":{\"colorbar\":{\"outlinewidth\":0,\"ticks\":\"\"}},\"type\":\"scatterpolar\"}],\"scatterpolargl\":[{\"marker\":{\"colorbar\":{\"outlinewidth\":0,\"ticks\":\"\"}},\"type\":\"scatterpolargl\"}],\"scatterternary\":[{\"marker\":{\"colorbar\":{\"outlinewidth\":0,\"ticks\":\"\"}},\"type\":\"scatterternary\"}],\"surface\":[{\"colorbar\":{\"outlinewidth\":0,\"ticks\":\"\"},\"colorscale\":[[0.0,\"#0d0887\"],[0.1111111111111111,\"#46039f\"],[0.2222222222222222,\"#7201a8\"],[0.3333333333333333,\"#9c179e\"],[0.4444444444444444,\"#bd3786\"],[0.5555555555555556,\"#d8576b\"],[0.6666666666666666,\"#ed7953\"],[0.7777777777777778,\"#fb9f3a\"],[0.8888888888888888,\"#fdca26\"],[1.0,\"#f0f921\"]],\"type\":\"surface\"}],\"table\":[{\"cells\":{\"fill\":{\"color\":\"#EBF0F8\"},\"line\":{\"color\":\"white\"}},\"header\":{\"fill\":{\"color\":\"#C8D4E3\"},\"line\":{\"color\":\"white\"}},\"type\":\"table\"}]},\"layout\":{\"annotationdefaults\":{\"arrowcolor\":\"#2a3f5f\",\"arrowhead\":0,\"arrowwidth\":1},\"autotypenumbers\":\"strict\",\"coloraxis\":{\"colorbar\":{\"outlinewidth\":0,\"ticks\":\"\"}},\"colorscale\":{\"diverging\":[[0,\"#8e0152\"],[0.1,\"#c51b7d\"],[0.2,\"#de77ae\"],[0.3,\"#f1b6da\"],[0.4,\"#fde0ef\"],[0.5,\"#f7f7f7\"],[0.6,\"#e6f5d0\"],[0.7,\"#b8e186\"],[0.8,\"#7fbc41\"],[0.9,\"#4d9221\"],[1,\"#276419\"]],\"sequential\":[[0.0,\"#0d0887\"],[0.1111111111111111,\"#46039f\"],[0.2222222222222222,\"#7201a8\"],[0.3333333333333333,\"#9c179e\"],[0.4444444444444444,\"#bd3786\"],[0.5555555555555556,\"#d8576b\"],[0.6666666666666666,\"#ed7953\"],[0.7777777777777778,\"#fb9f3a\"],[0.8888888888888888,\"#fdca26\"],[1.0,\"#f0f921\"]],\"sequentialminus\":[[0.0,\"#0d0887\"],[0.1111111111111111,\"#46039f\"],[0.2222222222222222,\"#7201a8\"],[0.3333333333333333,\"#9c179e\"],[0.4444444444444444,\"#bd3786\"],[0.5555555555555556,\"#d8576b\"],[0.6666666666666666,\"#ed7953\"],[0.7777777777777778,\"#fb9f3a\"],[0.8888888888888888,\"#fdca26\"],[1.0,\"#f0f921\"]]},\"colorway\":[\"#636efa\",\"#EF553B\",\"#00cc96\",\"#ab63fa\",\"#FFA15A\",\"#19d3f3\",\"#FF6692\",\"#B6E880\",\"#FF97FF\",\"#FECB52\"],\"font\":{\"color\":\"#2a3f5f\"},\"geo\":{\"bgcolor\":\"white\",\"lakecolor\":\"white\",\"landcolor\":\"#E5ECF6\",\"showlakes\":true,\"showland\":true,\"subunitcolor\":\"white\"},\"hoverlabel\":{\"align\":\"left\"},\"hovermode\":\"closest\",\"mapbox\":{\"style\":\"light\"},\"paper_bgcolor\":\"white\",\"plot_bgcolor\":\"#E5ECF6\",\"polar\":{\"angularaxis\":{\"gridcolor\":\"white\",\"linecolor\":\"white\",\"ticks\":\"\"},\"bgcolor\":\"#E5ECF6\",\"radialaxis\":{\"gridcolor\":\"white\",\"linecolor\":\"white\",\"ticks\":\"\"}},\"scene\":{\"xaxis\":{\"backgroundcolor\":\"#E5ECF6\",\"gridcolor\":\"white\",\"gridwidth\":2,\"linecolor\":\"white\",\"showbackground\":true,\"ticks\":\"\",\"zerolinecolor\":\"white\"},\"yaxis\":{\"backgroundcolor\":\"#E5ECF6\",\"gridcolor\":\"white\",\"gridwidth\":2,\"linecolor\":\"white\",\"showbackground\":true,\"ticks\":\"\",\"zerolinecolor\":\"white\"},\"zaxis\":{\"backgroundcolor\":\"#E5ECF6\",\"gridcolor\":\"white\",\"gridwidth\":2,\"linecolor\":\"white\",\"showbackground\":true,\"ticks\":\"\",\"zerolinecolor\":\"white\"}},\"shapedefaults\":{\"line\":{\"color\":\"#2a3f5f\"}},\"ternary\":{\"aaxis\":{\"gridcolor\":\"white\",\"linecolor\":\"white\",\"ticks\":\"\"},\"baxis\":{\"gridcolor\":\"white\",\"linecolor\":\"white\",\"ticks\":\"\"},\"bgcolor\":\"#E5ECF6\",\"caxis\":{\"gridcolor\":\"white\",\"linecolor\":\"white\",\"ticks\":\"\"}},\"title\":{\"x\":0.05},\"xaxis\":{\"automargin\":true,\"gridcolor\":\"white\",\"linecolor\":\"white\",\"ticks\":\"\",\"title\":{\"standoff\":15},\"zerolinecolor\":\"white\",\"zerolinewidth\":2},\"yaxis\":{\"automargin\":true,\"gridcolor\":\"white\",\"linecolor\":\"white\",\"ticks\":\"\",\"title\":{\"standoff\":15},\"zerolinecolor\":\"white\",\"zerolinewidth\":2}}},\"xaxis\":{\"anchor\":\"y\",\"domain\":[0.0,1.0],\"title\":{\"text\":\"Index\"}},\"yaxis\":{\"anchor\":\"x\",\"domain\":[0.0,1.0],\"title\":{\"text\":\"Previous Geekions\"}},\"coloraxis\":{\"colorbar\":{\"title\":{\"text\":\"Rising\"}},\"colorscale\":[[0.0,\"#0d0887\"],[0.1111111111111111,\"#46039f\"],[0.2222222222222222,\"#7201a8\"],[0.3333333333333333,\"#9c179e\"],[0.4444444444444444,\"#bd3786\"],[0.5555555555555556,\"#d8576b\"],[0.6666666666666666,\"#ed7953\"],[0.7777777777777778,\"#fb9f3a\"],[0.8888888888888888,\"#fdca26\"],[1.0,\"#f0f921\"]]},\"legend\":{\"tracegroupgap\":0},\"margin\":{\"t\":60},\"title\":{\"text\":\"Average of Previous Geekions vs CodeKata Score\"}},                        {\"responsive\": true}                    ).then(function(){\n",
              "                            \n",
              "var gd = document.getElementById('abc41816-904d-4ef1-b3fc-541201ea2df8');\n",
              "var x = new MutationObserver(function (mutations, observer) {{\n",
              "        var display = window.getComputedStyle(gd).display;\n",
              "        if (!display || display === 'none') {{\n",
              "            console.log([gd, 'removed!']);\n",
              "            Plotly.purge(gd);\n",
              "            observer.disconnect();\n",
              "        }}\n",
              "}});\n",
              "\n",
              "// Listen for the removal of the full notebook cells\n",
              "var notebookContainer = gd.closest('#notebook-container');\n",
              "if (notebookContainer) {{\n",
              "    x.observe(notebookContainer, {childList: true});\n",
              "}}\n",
              "\n",
              "// Listen for the clearing of the current output cell\n",
              "var outputEl = gd.closest('.output');\n",
              "if (outputEl) {{\n",
              "    x.observe(outputEl, {childList: true});\n",
              "}}\n",
              "\n",
              "                        })                };                            </script>        </div>\n",
              "</body>\n",
              "</html>"
            ]
          },
          "metadata": {}
        }
      ]
    },
    {
      "cell_type": "markdown",
      "metadata": {
        "id": "CRP6o0lsQTuq"
      },
      "source": [
        "###### No of students participated "
      ]
    },
    {
      "cell_type": "code",
      "execution_count": 196,
      "metadata": {
        "id": "6S-JHinGQTur",
        "colab": {
          "base_uri": "https://localhost:8080/",
          "height": 0
        },
        "outputId": "51d67939-37ab-4e53-db15-3502c208033a"
      },
      "outputs": [
        {
          "output_type": "execute_result",
          "data": {
            "text/plain": [
              "0"
            ]
          },
          "metadata": {},
          "execution_count": 196
        }
      ],
      "source": [
        "df3[\"Name\"] = df3[\"Name\"].str.lower() \n",
        "df3[\"Name\"] = df3[\"Name\"].str.strip()\n",
        "df3[\"Name\"].isnull().sum()"
      ]
    },
    {
      "cell_type": "code",
      "source": [
        "print(\"\\nTotal no. of student participated is {}\".format(df3[\"Name\"].nunique()))"
      ],
      "metadata": {
        "colab": {
          "base_uri": "https://localhost:8080/",
          "height": 0
        },
        "id": "LM4LtiFDOfNs",
        "outputId": "00286445-b97f-4a3c-f7a5-d5b8c62b04a5"
      },
      "execution_count": 197,
      "outputs": [
        {
          "output_type": "stream",
          "name": "stdout",
          "text": [
            "\n",
            "Total no. of student participated is 118\n"
          ]
        }
      ]
    },
    {
      "cell_type": "markdown",
      "metadata": {
        "id": "KizgIFaJQTus"
      },
      "source": [
        "###### #Average completion of python course or my_sql or python english or computational thinking"
      ]
    },
    {
      "cell_type": "code",
      "source": [
        "x=['python','mysql','python_en','computational_thinking']"
      ],
      "metadata": {
        "id": "g8tgORAtQcXs"
      },
      "execution_count": 198,
      "outputs": []
    },
    {
      "cell_type": "code",
      "execution_count": 199,
      "metadata": {
        "id": "cSSgNPlzQTus",
        "colab": {
          "base_uri": "https://localhost:8080/",
          "height": 0
        },
        "outputId": "7468a412-da51-4c12-950f-c28de354c3d8"
      },
      "outputs": [
        {
          "output_type": "stream",
          "name": "stdout",
          "text": [
            "\n",
            "The average of the python is 54.35294117647059\n",
            "\n",
            "The average of the mysql is 23.5\n",
            "\n",
            "The average of the python_en is 29.65714285714286\n",
            "\n",
            "The average of the computational_thinking is 2.2\n"
          ]
        }
      ],
      "source": [
        "for i in x:\n",
        "  print(\"\\nThe average of the {} is {}\".format(i,df3[i].mean()))"
      ]
    },
    {
      "cell_type": "markdown",
      "metadata": {
        "id": "fHgY_lStQTuu"
      },
      "source": [
        "###### rising star of the week (top 3 candidate who performed well in that particular week)"
      ]
    },
    {
      "cell_type": "code",
      "execution_count": 200,
      "metadata": {
        "id": "E1bYOkcCQTuv",
        "colab": {
          "base_uri": "https://localhost:8080/",
          "height": 0
        },
        "outputId": "6bf1e96f-cc1b-477f-fbaf-5a6e9f3561c4"
      },
      "outputs": [
        {
          "output_type": "execute_result",
          "data": {
            "text/plain": [
              "array([   0,  130,  340, 2000, 1760, 1700, 3140, 1990,  620,  380,  690,\n",
              "       1540,  560, 1360,  320,  840, 1340, 1000,   30, 1830,  770,  580])"
            ]
          },
          "metadata": {},
          "execution_count": 200
        }
      ],
      "source": [
        "df3.Rising.unique()"
      ]
    },
    {
      "cell_type": "code",
      "source": [
        "df3.Rising.nlargest(3)"
      ],
      "metadata": {
        "colab": {
          "base_uri": "https://localhost:8080/",
          "height": 0
        },
        "id": "7kpBvjgCHhUy",
        "outputId": "505bd1f6-a1bf-4edd-c187-234b10edb00f"
      },
      "execution_count": 201,
      "outputs": [
        {
          "output_type": "execute_result",
          "data": {
            "text/plain": [
              "92     3140\n",
              "86     2000\n",
              "102    2000\n",
              "Name: Rising, dtype: int64"
            ]
          },
          "metadata": {},
          "execution_count": 201
        }
      ]
    },
    {
      "cell_type": "code",
      "source": [
        "q=list(df3.sort_values(by=[\"Rising\"],ascending=[False])[\"Name\"].head(3))\n",
        "r=list(df3.sort_values(by=[\"Rising\"],ascending=[False])[\"Rising\"].head(3))\n",
        "print(\"\\nTop 3 rising star of the week \\n\")\n",
        "print(*q, sep = \"\\n\")"
      ],
      "metadata": {
        "colab": {
          "base_uri": "https://localhost:8080/",
          "height": 0
        },
        "id": "GGbYY_NHVT8k",
        "outputId": "ef679bf5-47eb-4fa0-fa7a-46ef6a704c7f"
      },
      "execution_count": 202,
      "outputs": [
        {
          "output_type": "stream",
          "name": "stdout",
          "text": [
            "\n",
            "Top 3 rising star of the week \n",
            "\n",
            "shifak n\n",
            "narasimhan y l\n",
            "ganesh ramkumar r\n"
          ]
        }
      ]
    },
    {
      "cell_type": "code",
      "source": [
        "print(\"\\nrising star of the week\\n\")\n",
        "m1=px.bar(x=r,y=q, color=q, orientation='h')\n",
        "m1.update_layout(\n",
        "    title=\"rising star of the week\",\n",
        "    xaxis_title=\"Rising point\",\n",
        "    yaxis_title=\"Name\",\n",
        ")\n",
        "m1.show()"
      ],
      "metadata": {
        "colab": {
          "base_uri": "https://localhost:8080/",
          "height": 594
        },
        "id": "v0kAAgGgF_Ib",
        "outputId": "62c6c6a4-9d4d-4c72-c010-5cd4057f2ddb"
      },
      "execution_count": 225,
      "outputs": [
        {
          "output_type": "stream",
          "name": "stdout",
          "text": [
            "\n",
            "rising star of the week\n",
            "\n"
          ]
        },
        {
          "output_type": "display_data",
          "data": {
            "text/html": [
              "<html>\n",
              "<head><meta charset=\"utf-8\" /></head>\n",
              "<body>\n",
              "    <div>            <script src=\"https://cdnjs.cloudflare.com/ajax/libs/mathjax/2.7.5/MathJax.js?config=TeX-AMS-MML_SVG\"></script><script type=\"text/javascript\">if (window.MathJax) {MathJax.Hub.Config({SVG: {font: \"STIX-Web\"}});}</script>                <script type=\"text/javascript\">window.PlotlyConfig = {MathJaxConfig: 'local'};</script>\n",
              "        <script src=\"https://cdn.plot.ly/plotly-2.8.3.min.js\"></script>                <div id=\"cb40b87a-02d6-4bba-b691-36753275916f\" class=\"plotly-graph-div\" style=\"height:525px; width:100%;\"></div>            <script type=\"text/javascript\">                                    window.PLOTLYENV=window.PLOTLYENV || {};                                    if (document.getElementById(\"cb40b87a-02d6-4bba-b691-36753275916f\")) {                    Plotly.newPlot(                        \"cb40b87a-02d6-4bba-b691-36753275916f\",                        [{\"alignmentgroup\":\"True\",\"hovertemplate\":\"color=shifak n<br>x=%{x}<br>y=%{y}<extra></extra>\",\"legendgroup\":\"shifak n\",\"marker\":{\"color\":\"#636efa\",\"pattern\":{\"shape\":\"\"}},\"name\":\"shifak n\",\"offsetgroup\":\"shifak n\",\"orientation\":\"h\",\"showlegend\":true,\"textposition\":\"auto\",\"x\":[3140],\"xaxis\":\"x\",\"y\":[\"shifak n\"],\"yaxis\":\"y\",\"type\":\"bar\"},{\"alignmentgroup\":\"True\",\"hovertemplate\":\"color=narasimhan y l<br>x=%{x}<br>y=%{y}<extra></extra>\",\"legendgroup\":\"narasimhan y l\",\"marker\":{\"color\":\"#EF553B\",\"pattern\":{\"shape\":\"\"}},\"name\":\"narasimhan y l\",\"offsetgroup\":\"narasimhan y l\",\"orientation\":\"h\",\"showlegend\":true,\"textposition\":\"auto\",\"x\":[2000],\"xaxis\":\"x\",\"y\":[\"narasimhan y l\"],\"yaxis\":\"y\",\"type\":\"bar\"},{\"alignmentgroup\":\"True\",\"hovertemplate\":\"color=ganesh ramkumar r<br>x=%{x}<br>y=%{y}<extra></extra>\",\"legendgroup\":\"ganesh ramkumar r\",\"marker\":{\"color\":\"#00cc96\",\"pattern\":{\"shape\":\"\"}},\"name\":\"ganesh ramkumar r\",\"offsetgroup\":\"ganesh ramkumar r\",\"orientation\":\"h\",\"showlegend\":true,\"textposition\":\"auto\",\"x\":[2000],\"xaxis\":\"x\",\"y\":[\"ganesh ramkumar r\"],\"yaxis\":\"y\",\"type\":\"bar\"}],                        {\"template\":{\"data\":{\"bar\":[{\"error_x\":{\"color\":\"#2a3f5f\"},\"error_y\":{\"color\":\"#2a3f5f\"},\"marker\":{\"line\":{\"color\":\"#E5ECF6\",\"width\":0.5},\"pattern\":{\"fillmode\":\"overlay\",\"size\":10,\"solidity\":0.2}},\"type\":\"bar\"}],\"barpolar\":[{\"marker\":{\"line\":{\"color\":\"#E5ECF6\",\"width\":0.5},\"pattern\":{\"fillmode\":\"overlay\",\"size\":10,\"solidity\":0.2}},\"type\":\"barpolar\"}],\"carpet\":[{\"aaxis\":{\"endlinecolor\":\"#2a3f5f\",\"gridcolor\":\"white\",\"linecolor\":\"white\",\"minorgridcolor\":\"white\",\"startlinecolor\":\"#2a3f5f\"},\"baxis\":{\"endlinecolor\":\"#2a3f5f\",\"gridcolor\":\"white\",\"linecolor\":\"white\",\"minorgridcolor\":\"white\",\"startlinecolor\":\"#2a3f5f\"},\"type\":\"carpet\"}],\"choropleth\":[{\"colorbar\":{\"outlinewidth\":0,\"ticks\":\"\"},\"type\":\"choropleth\"}],\"contour\":[{\"colorbar\":{\"outlinewidth\":0,\"ticks\":\"\"},\"colorscale\":[[0.0,\"#0d0887\"],[0.1111111111111111,\"#46039f\"],[0.2222222222222222,\"#7201a8\"],[0.3333333333333333,\"#9c179e\"],[0.4444444444444444,\"#bd3786\"],[0.5555555555555556,\"#d8576b\"],[0.6666666666666666,\"#ed7953\"],[0.7777777777777778,\"#fb9f3a\"],[0.8888888888888888,\"#fdca26\"],[1.0,\"#f0f921\"]],\"type\":\"contour\"}],\"contourcarpet\":[{\"colorbar\":{\"outlinewidth\":0,\"ticks\":\"\"},\"type\":\"contourcarpet\"}],\"heatmap\":[{\"colorbar\":{\"outlinewidth\":0,\"ticks\":\"\"},\"colorscale\":[[0.0,\"#0d0887\"],[0.1111111111111111,\"#46039f\"],[0.2222222222222222,\"#7201a8\"],[0.3333333333333333,\"#9c179e\"],[0.4444444444444444,\"#bd3786\"],[0.5555555555555556,\"#d8576b\"],[0.6666666666666666,\"#ed7953\"],[0.7777777777777778,\"#fb9f3a\"],[0.8888888888888888,\"#fdca26\"],[1.0,\"#f0f921\"]],\"type\":\"heatmap\"}],\"heatmapgl\":[{\"colorbar\":{\"outlinewidth\":0,\"ticks\":\"\"},\"colorscale\":[[0.0,\"#0d0887\"],[0.1111111111111111,\"#46039f\"],[0.2222222222222222,\"#7201a8\"],[0.3333333333333333,\"#9c179e\"],[0.4444444444444444,\"#bd3786\"],[0.5555555555555556,\"#d8576b\"],[0.6666666666666666,\"#ed7953\"],[0.7777777777777778,\"#fb9f3a\"],[0.8888888888888888,\"#fdca26\"],[1.0,\"#f0f921\"]],\"type\":\"heatmapgl\"}],\"histogram\":[{\"marker\":{\"pattern\":{\"fillmode\":\"overlay\",\"size\":10,\"solidity\":0.2}},\"type\":\"histogram\"}],\"histogram2d\":[{\"colorbar\":{\"outlinewidth\":0,\"ticks\":\"\"},\"colorscale\":[[0.0,\"#0d0887\"],[0.1111111111111111,\"#46039f\"],[0.2222222222222222,\"#7201a8\"],[0.3333333333333333,\"#9c179e\"],[0.4444444444444444,\"#bd3786\"],[0.5555555555555556,\"#d8576b\"],[0.6666666666666666,\"#ed7953\"],[0.7777777777777778,\"#fb9f3a\"],[0.8888888888888888,\"#fdca26\"],[1.0,\"#f0f921\"]],\"type\":\"histogram2d\"}],\"histogram2dcontour\":[{\"colorbar\":{\"outlinewidth\":0,\"ticks\":\"\"},\"colorscale\":[[0.0,\"#0d0887\"],[0.1111111111111111,\"#46039f\"],[0.2222222222222222,\"#7201a8\"],[0.3333333333333333,\"#9c179e\"],[0.4444444444444444,\"#bd3786\"],[0.5555555555555556,\"#d8576b\"],[0.6666666666666666,\"#ed7953\"],[0.7777777777777778,\"#fb9f3a\"],[0.8888888888888888,\"#fdca26\"],[1.0,\"#f0f921\"]],\"type\":\"histogram2dcontour\"}],\"mesh3d\":[{\"colorbar\":{\"outlinewidth\":0,\"ticks\":\"\"},\"type\":\"mesh3d\"}],\"parcoords\":[{\"line\":{\"colorbar\":{\"outlinewidth\":0,\"ticks\":\"\"}},\"type\":\"parcoords\"}],\"pie\":[{\"automargin\":true,\"type\":\"pie\"}],\"scatter\":[{\"marker\":{\"colorbar\":{\"outlinewidth\":0,\"ticks\":\"\"}},\"type\":\"scatter\"}],\"scatter3d\":[{\"line\":{\"colorbar\":{\"outlinewidth\":0,\"ticks\":\"\"}},\"marker\":{\"colorbar\":{\"outlinewidth\":0,\"ticks\":\"\"}},\"type\":\"scatter3d\"}],\"scattercarpet\":[{\"marker\":{\"colorbar\":{\"outlinewidth\":0,\"ticks\":\"\"}},\"type\":\"scattercarpet\"}],\"scattergeo\":[{\"marker\":{\"colorbar\":{\"outlinewidth\":0,\"ticks\":\"\"}},\"type\":\"scattergeo\"}],\"scattergl\":[{\"marker\":{\"colorbar\":{\"outlinewidth\":0,\"ticks\":\"\"}},\"type\":\"scattergl\"}],\"scattermapbox\":[{\"marker\":{\"colorbar\":{\"outlinewidth\":0,\"ticks\":\"\"}},\"type\":\"scattermapbox\"}],\"scatterpolar\":[{\"marker\":{\"colorbar\":{\"outlinewidth\":0,\"ticks\":\"\"}},\"type\":\"scatterpolar\"}],\"scatterpolargl\":[{\"marker\":{\"colorbar\":{\"outlinewidth\":0,\"ticks\":\"\"}},\"type\":\"scatterpolargl\"}],\"scatterternary\":[{\"marker\":{\"colorbar\":{\"outlinewidth\":0,\"ticks\":\"\"}},\"type\":\"scatterternary\"}],\"surface\":[{\"colorbar\":{\"outlinewidth\":0,\"ticks\":\"\"},\"colorscale\":[[0.0,\"#0d0887\"],[0.1111111111111111,\"#46039f\"],[0.2222222222222222,\"#7201a8\"],[0.3333333333333333,\"#9c179e\"],[0.4444444444444444,\"#bd3786\"],[0.5555555555555556,\"#d8576b\"],[0.6666666666666666,\"#ed7953\"],[0.7777777777777778,\"#fb9f3a\"],[0.8888888888888888,\"#fdca26\"],[1.0,\"#f0f921\"]],\"type\":\"surface\"}],\"table\":[{\"cells\":{\"fill\":{\"color\":\"#EBF0F8\"},\"line\":{\"color\":\"white\"}},\"header\":{\"fill\":{\"color\":\"#C8D4E3\"},\"line\":{\"color\":\"white\"}},\"type\":\"table\"}]},\"layout\":{\"annotationdefaults\":{\"arrowcolor\":\"#2a3f5f\",\"arrowhead\":0,\"arrowwidth\":1},\"autotypenumbers\":\"strict\",\"coloraxis\":{\"colorbar\":{\"outlinewidth\":0,\"ticks\":\"\"}},\"colorscale\":{\"diverging\":[[0,\"#8e0152\"],[0.1,\"#c51b7d\"],[0.2,\"#de77ae\"],[0.3,\"#f1b6da\"],[0.4,\"#fde0ef\"],[0.5,\"#f7f7f7\"],[0.6,\"#e6f5d0\"],[0.7,\"#b8e186\"],[0.8,\"#7fbc41\"],[0.9,\"#4d9221\"],[1,\"#276419\"]],\"sequential\":[[0.0,\"#0d0887\"],[0.1111111111111111,\"#46039f\"],[0.2222222222222222,\"#7201a8\"],[0.3333333333333333,\"#9c179e\"],[0.4444444444444444,\"#bd3786\"],[0.5555555555555556,\"#d8576b\"],[0.6666666666666666,\"#ed7953\"],[0.7777777777777778,\"#fb9f3a\"],[0.8888888888888888,\"#fdca26\"],[1.0,\"#f0f921\"]],\"sequentialminus\":[[0.0,\"#0d0887\"],[0.1111111111111111,\"#46039f\"],[0.2222222222222222,\"#7201a8\"],[0.3333333333333333,\"#9c179e\"],[0.4444444444444444,\"#bd3786\"],[0.5555555555555556,\"#d8576b\"],[0.6666666666666666,\"#ed7953\"],[0.7777777777777778,\"#fb9f3a\"],[0.8888888888888888,\"#fdca26\"],[1.0,\"#f0f921\"]]},\"colorway\":[\"#636efa\",\"#EF553B\",\"#00cc96\",\"#ab63fa\",\"#FFA15A\",\"#19d3f3\",\"#FF6692\",\"#B6E880\",\"#FF97FF\",\"#FECB52\"],\"font\":{\"color\":\"#2a3f5f\"},\"geo\":{\"bgcolor\":\"white\",\"lakecolor\":\"white\",\"landcolor\":\"#E5ECF6\",\"showlakes\":true,\"showland\":true,\"subunitcolor\":\"white\"},\"hoverlabel\":{\"align\":\"left\"},\"hovermode\":\"closest\",\"mapbox\":{\"style\":\"light\"},\"paper_bgcolor\":\"white\",\"plot_bgcolor\":\"#E5ECF6\",\"polar\":{\"angularaxis\":{\"gridcolor\":\"white\",\"linecolor\":\"white\",\"ticks\":\"\"},\"bgcolor\":\"#E5ECF6\",\"radialaxis\":{\"gridcolor\":\"white\",\"linecolor\":\"white\",\"ticks\":\"\"}},\"scene\":{\"xaxis\":{\"backgroundcolor\":\"#E5ECF6\",\"gridcolor\":\"white\",\"gridwidth\":2,\"linecolor\":\"white\",\"showbackground\":true,\"ticks\":\"\",\"zerolinecolor\":\"white\"},\"yaxis\":{\"backgroundcolor\":\"#E5ECF6\",\"gridcolor\":\"white\",\"gridwidth\":2,\"linecolor\":\"white\",\"showbackground\":true,\"ticks\":\"\",\"zerolinecolor\":\"white\"},\"zaxis\":{\"backgroundcolor\":\"#E5ECF6\",\"gridcolor\":\"white\",\"gridwidth\":2,\"linecolor\":\"white\",\"showbackground\":true,\"ticks\":\"\",\"zerolinecolor\":\"white\"}},\"shapedefaults\":{\"line\":{\"color\":\"#2a3f5f\"}},\"ternary\":{\"aaxis\":{\"gridcolor\":\"white\",\"linecolor\":\"white\",\"ticks\":\"\"},\"baxis\":{\"gridcolor\":\"white\",\"linecolor\":\"white\",\"ticks\":\"\"},\"bgcolor\":\"#E5ECF6\",\"caxis\":{\"gridcolor\":\"white\",\"linecolor\":\"white\",\"ticks\":\"\"}},\"title\":{\"x\":0.05},\"xaxis\":{\"automargin\":true,\"gridcolor\":\"white\",\"linecolor\":\"white\",\"ticks\":\"\",\"title\":{\"standoff\":15},\"zerolinecolor\":\"white\",\"zerolinewidth\":2},\"yaxis\":{\"automargin\":true,\"gridcolor\":\"white\",\"linecolor\":\"white\",\"ticks\":\"\",\"title\":{\"standoff\":15},\"zerolinecolor\":\"white\",\"zerolinewidth\":2}}},\"xaxis\":{\"anchor\":\"y\",\"domain\":[0.0,1.0],\"title\":{\"text\":\"Rising point\"}},\"yaxis\":{\"anchor\":\"x\",\"domain\":[0.0,1.0],\"title\":{\"text\":\"Name\"}},\"legend\":{\"title\":{\"text\":\"color\"},\"tracegroupgap\":0},\"margin\":{\"t\":60},\"barmode\":\"relative\",\"title\":{\"text\":\"rising star of the week\"}},                        {\"responsive\": true}                    ).then(function(){\n",
              "                            \n",
              "var gd = document.getElementById('cb40b87a-02d6-4bba-b691-36753275916f');\n",
              "var x = new MutationObserver(function (mutations, observer) {{\n",
              "        var display = window.getComputedStyle(gd).display;\n",
              "        if (!display || display === 'none') {{\n",
              "            console.log([gd, 'removed!']);\n",
              "            Plotly.purge(gd);\n",
              "            observer.disconnect();\n",
              "        }}\n",
              "}});\n",
              "\n",
              "// Listen for the removal of the full notebook cells\n",
              "var notebookContainer = gd.closest('#notebook-container');\n",
              "if (notebookContainer) {{\n",
              "    x.observe(notebookContainer, {childList: true});\n",
              "}}\n",
              "\n",
              "// Listen for the clearing of the current output cell\n",
              "var outputEl = gd.closest('.output');\n",
              "if (outputEl) {{\n",
              "    x.observe(outputEl, {childList: true});\n",
              "}}\n",
              "\n",
              "                        })                };                            </script>        </div>\n",
              "</body>\n",
              "</html>"
            ]
          },
          "metadata": {}
        }
      ]
    },
    {
      "cell_type": "markdown",
      "metadata": {
        "id": "xo-2ZtYjQTu0"
      },
      "source": [
        "###### Shining stars of the week (top 3 candidates who has highest geekions)"
      ]
    },
    {
      "cell_type": "code",
      "source": [
        "print(\"\\nShining stars of the week\\n\")\n",
        "t=px.scatter(df3,x=\"Previous Geekions\",size=\"Previous Geekions\",color='Previous Geekions',hover_name='Name')\n",
        "t.update_layout(\n",
        "    title=\"Shining stars of the week\",\n",
        "    xaxis_title=\"Index\",\n",
        "    yaxis_title=\"Previous Geekions\",\n",
        ")\n",
        "t.show()"
      ],
      "metadata": {
        "colab": {
          "base_uri": "https://localhost:8080/",
          "height": 594
        },
        "id": "mVBPsnOyI8CN",
        "outputId": "ccca725f-9548-4bd2-84ba-85c238a4489c"
      },
      "execution_count": 227,
      "outputs": [
        {
          "output_type": "stream",
          "name": "stdout",
          "text": [
            "\n",
            "Shining stars of the week\n",
            "\n"
          ]
        },
        {
          "output_type": "display_data",
          "data": {
            "text/html": [
              "<html>\n",
              "<head><meta charset=\"utf-8\" /></head>\n",
              "<body>\n",
              "    <div>            <script src=\"https://cdnjs.cloudflare.com/ajax/libs/mathjax/2.7.5/MathJax.js?config=TeX-AMS-MML_SVG\"></script><script type=\"text/javascript\">if (window.MathJax) {MathJax.Hub.Config({SVG: {font: \"STIX-Web\"}});}</script>                <script type=\"text/javascript\">window.PlotlyConfig = {MathJaxConfig: 'local'};</script>\n",
              "        <script src=\"https://cdn.plot.ly/plotly-2.8.3.min.js\"></script>                <div id=\"ecc03f00-0722-48d8-802e-069df5e7731f\" class=\"plotly-graph-div\" style=\"height:525px; width:100%;\"></div>            <script type=\"text/javascript\">                                    window.PLOTLYENV=window.PLOTLYENV || {};                                    if (document.getElementById(\"ecc03f00-0722-48d8-802e-069df5e7731f\")) {                    Plotly.newPlot(                        \"ecc03f00-0722-48d8-802e-069df5e7731f\",                        [{\"hovertemplate\":\"<b>%{hovertext}</b><br><br>Previous Geekions=%{marker.color}<br>index=%{y}<extra></extra>\",\"hovertext\":[\"a.dharani\",\"v.jeevitha\",\"hemavathi.r\",\"mugunthan s\",\"sathammai.s\",\"niveeshwar s\",\"kalaiarasan k\",\"mohamed zubair ahmed\",\"j.suganthi\",\"thamizhpaana\",\"iyappan samiraj\",\"ponniyamma.r\",\"sabapathi\",\"raghavan\",\"melvin dukles.r\",\"pavithra\",\"priyanka .s\",\"v.vithyasri\",\"abirami anbazhagan\",\"s.srinivasan\",\"s.janani\",\"kamalishwari\",\"yuvasri\",\"balaji\",\"meera.m\",\"tpavithra\",\"sri dharshini\",\"shankari\",\"pooja priya.b\",\"chithra\",\"manikandan\",\"kaliaperumal g\",\"sarumathir\",\"sowmiya.v\",\"tamilarasi\",\"barath d\",\"selvakumar\",\"nivedha.s\",\"stephen\",\"vignesh\",\"hsharukhan\",\"vijayakumar\",\"abirami.s\",\"v.gowsalya\",\"ponni.p\",\"praveena k\",\"siva sai perumal polisetti\",\"madhumathib\",\"b.akshaya\",\"bavithra\",\"deivani.s\",\"nivetha.s\",\"gunamathi.s\",\"ranjith.r\",\"u.abarna\",\"kaviyarasi.k\",\"pravina\",\"m.priya\",\"m.nisha@mary\",\"thivviya\",\"muvendiran.m\",\"aravind\",\"haasini\",\"e.nalini\",\"k.parvathi\",\"jayapratha\",\"evanasundari.k\",\"gousalya\",\"sivaranjini\",\"karthika.g\",\"vignesh b\",\"m.keerthana\",\"subhashini\",\"rajesh kumar.r\",\"j.bhuvaneshwari\",\"santhosh\",\"arun\",\"j.jayanthi\",\"vikneshwaran\",\"karthikeyans\",\"barath.p\",\"n.ajith kumar\",\"mohamed nabi\",\"yaser ahamed.a\",\"ashok kumar k\",\"chandru\",\"ganesh ramkumar r\",\"bodipudi harini\",\"viinu v p\",\"poojitha y\",\"gowtham chandrasekaran\",\"gowtham r\",\"shifak n\",\"balaji\",\"rushitha\",\"balaraman muthupandi\",\"jpradhap\",\"sriramkumar b\",\"praneetha\",\"rahul raj k\",\"guhan s\",\"suryarajan s\",\"narasimhan y l\",\"leelakrishna\",\"premsagarreddy\",\"pradeeban\",\"santhoshini\",\"mukesh s m\",\"p.govardhanan\",\"shaik danish\",\"sridhar.s\",\"vimalesh fernando\",\"m.karthikeyan\",\"abishak s\",\"praveen raj j\",\"amarnath d\",\"bala\",\"xy z\",\"hariharan\"],\"legendgroup\":\"\",\"marker\":{\"color\":[24500,21740,19680,10610,8980,8200,7750,7020,5860,5500,5400,5380,5280,5120,4800,4600,4510,4370,4320,4090,3915,3665,3460,3280,3200,3200,3110,3000,2570,2410,2360,2260,2240,2160,1910,1910,1900,1880,1880,1740,1680,1580,1580,1440,1350,1320,1240,1130,1100,1020,980,950,850,800,770,760,720,690,580,490,410,380,300,270,260,200,180,170,160,120,120,120,120,100,100,60,40,40,40,0,0,0,0,0,19400,14150,8790,10040,9150,7210,7250,8650,5180,6170,7470,7670,7340,6400,7170,6280,7310,6710,4800,5300,5290,6060,3910,5200,5050,4050,3860,4170,4020,3220,2380,1890,1720,0,0],\"coloraxis\":\"coloraxis\",\"size\":[24500,21740,19680,10610,8980,8200,7750,7020,5860,5500,5400,5380,5280,5120,4800,4600,4510,4370,4320,4090,3915,3665,3460,3280,3200,3200,3110,3000,2570,2410,2360,2260,2240,2160,1910,1910,1900,1880,1880,1740,1680,1580,1580,1440,1350,1320,1240,1130,1100,1020,980,950,850,800,770,760,720,690,580,490,410,380,300,270,260,200,180,170,160,120,120,120,120,100,100,60,40,40,40,0,0,0,0,0,19400,14150,8790,10040,9150,7210,7250,8650,5180,6170,7470,7670,7340,6400,7170,6280,7310,6710,4800,5300,5290,6060,3910,5200,5050,4050,3860,4170,4020,3220,2380,1890,1720,0,0],\"sizemode\":\"area\",\"sizeref\":61.25,\"symbol\":\"circle\"},\"mode\":\"markers\",\"name\":\"\",\"orientation\":\"h\",\"showlegend\":false,\"x\":[24500,21740,19680,10610,8980,8200,7750,7020,5860,5500,5400,5380,5280,5120,4800,4600,4510,4370,4320,4090,3915,3665,3460,3280,3200,3200,3110,3000,2570,2410,2360,2260,2240,2160,1910,1910,1900,1880,1880,1740,1680,1580,1580,1440,1350,1320,1240,1130,1100,1020,980,950,850,800,770,760,720,690,580,490,410,380,300,270,260,200,180,170,160,120,120,120,120,100,100,60,40,40,40,0,0,0,0,0,19400,14150,8790,10040,9150,7210,7250,8650,5180,6170,7470,7670,7340,6400,7170,6280,7310,6710,4800,5300,5290,6060,3910,5200,5050,4050,3860,4170,4020,3220,2380,1890,1720,0,0],\"xaxis\":\"x\",\"y\":[0,1,2,3,4,5,6,7,8,9,10,11,12,13,14,15,16,17,18,19,20,21,22,23,24,25,26,27,28,29,30,31,32,33,34,35,36,37,38,39,40,41,42,43,44,45,46,47,48,49,50,51,52,53,54,55,56,57,58,59,60,61,62,63,64,65,66,67,68,69,70,71,72,73,74,75,76,77,78,79,80,81,82,83,84,85,86,87,88,89,90,91,92,93,94,95,96,97,98,99,100,101,102,103,104,105,106,107,108,109,110,111,112,113,114,115,116,117,118],\"yaxis\":\"y\",\"type\":\"scatter\"}],                        {\"template\":{\"data\":{\"bar\":[{\"error_x\":{\"color\":\"#2a3f5f\"},\"error_y\":{\"color\":\"#2a3f5f\"},\"marker\":{\"line\":{\"color\":\"#E5ECF6\",\"width\":0.5},\"pattern\":{\"fillmode\":\"overlay\",\"size\":10,\"solidity\":0.2}},\"type\":\"bar\"}],\"barpolar\":[{\"marker\":{\"line\":{\"color\":\"#E5ECF6\",\"width\":0.5},\"pattern\":{\"fillmode\":\"overlay\",\"size\":10,\"solidity\":0.2}},\"type\":\"barpolar\"}],\"carpet\":[{\"aaxis\":{\"endlinecolor\":\"#2a3f5f\",\"gridcolor\":\"white\",\"linecolor\":\"white\",\"minorgridcolor\":\"white\",\"startlinecolor\":\"#2a3f5f\"},\"baxis\":{\"endlinecolor\":\"#2a3f5f\",\"gridcolor\":\"white\",\"linecolor\":\"white\",\"minorgridcolor\":\"white\",\"startlinecolor\":\"#2a3f5f\"},\"type\":\"carpet\"}],\"choropleth\":[{\"colorbar\":{\"outlinewidth\":0,\"ticks\":\"\"},\"type\":\"choropleth\"}],\"contour\":[{\"colorbar\":{\"outlinewidth\":0,\"ticks\":\"\"},\"colorscale\":[[0.0,\"#0d0887\"],[0.1111111111111111,\"#46039f\"],[0.2222222222222222,\"#7201a8\"],[0.3333333333333333,\"#9c179e\"],[0.4444444444444444,\"#bd3786\"],[0.5555555555555556,\"#d8576b\"],[0.6666666666666666,\"#ed7953\"],[0.7777777777777778,\"#fb9f3a\"],[0.8888888888888888,\"#fdca26\"],[1.0,\"#f0f921\"]],\"type\":\"contour\"}],\"contourcarpet\":[{\"colorbar\":{\"outlinewidth\":0,\"ticks\":\"\"},\"type\":\"contourcarpet\"}],\"heatmap\":[{\"colorbar\":{\"outlinewidth\":0,\"ticks\":\"\"},\"colorscale\":[[0.0,\"#0d0887\"],[0.1111111111111111,\"#46039f\"],[0.2222222222222222,\"#7201a8\"],[0.3333333333333333,\"#9c179e\"],[0.4444444444444444,\"#bd3786\"],[0.5555555555555556,\"#d8576b\"],[0.6666666666666666,\"#ed7953\"],[0.7777777777777778,\"#fb9f3a\"],[0.8888888888888888,\"#fdca26\"],[1.0,\"#f0f921\"]],\"type\":\"heatmap\"}],\"heatmapgl\":[{\"colorbar\":{\"outlinewidth\":0,\"ticks\":\"\"},\"colorscale\":[[0.0,\"#0d0887\"],[0.1111111111111111,\"#46039f\"],[0.2222222222222222,\"#7201a8\"],[0.3333333333333333,\"#9c179e\"],[0.4444444444444444,\"#bd3786\"],[0.5555555555555556,\"#d8576b\"],[0.6666666666666666,\"#ed7953\"],[0.7777777777777778,\"#fb9f3a\"],[0.8888888888888888,\"#fdca26\"],[1.0,\"#f0f921\"]],\"type\":\"heatmapgl\"}],\"histogram\":[{\"marker\":{\"pattern\":{\"fillmode\":\"overlay\",\"size\":10,\"solidity\":0.2}},\"type\":\"histogram\"}],\"histogram2d\":[{\"colorbar\":{\"outlinewidth\":0,\"ticks\":\"\"},\"colorscale\":[[0.0,\"#0d0887\"],[0.1111111111111111,\"#46039f\"],[0.2222222222222222,\"#7201a8\"],[0.3333333333333333,\"#9c179e\"],[0.4444444444444444,\"#bd3786\"],[0.5555555555555556,\"#d8576b\"],[0.6666666666666666,\"#ed7953\"],[0.7777777777777778,\"#fb9f3a\"],[0.8888888888888888,\"#fdca26\"],[1.0,\"#f0f921\"]],\"type\":\"histogram2d\"}],\"histogram2dcontour\":[{\"colorbar\":{\"outlinewidth\":0,\"ticks\":\"\"},\"colorscale\":[[0.0,\"#0d0887\"],[0.1111111111111111,\"#46039f\"],[0.2222222222222222,\"#7201a8\"],[0.3333333333333333,\"#9c179e\"],[0.4444444444444444,\"#bd3786\"],[0.5555555555555556,\"#d8576b\"],[0.6666666666666666,\"#ed7953\"],[0.7777777777777778,\"#fb9f3a\"],[0.8888888888888888,\"#fdca26\"],[1.0,\"#f0f921\"]],\"type\":\"histogram2dcontour\"}],\"mesh3d\":[{\"colorbar\":{\"outlinewidth\":0,\"ticks\":\"\"},\"type\":\"mesh3d\"}],\"parcoords\":[{\"line\":{\"colorbar\":{\"outlinewidth\":0,\"ticks\":\"\"}},\"type\":\"parcoords\"}],\"pie\":[{\"automargin\":true,\"type\":\"pie\"}],\"scatter\":[{\"marker\":{\"colorbar\":{\"outlinewidth\":0,\"ticks\":\"\"}},\"type\":\"scatter\"}],\"scatter3d\":[{\"line\":{\"colorbar\":{\"outlinewidth\":0,\"ticks\":\"\"}},\"marker\":{\"colorbar\":{\"outlinewidth\":0,\"ticks\":\"\"}},\"type\":\"scatter3d\"}],\"scattercarpet\":[{\"marker\":{\"colorbar\":{\"outlinewidth\":0,\"ticks\":\"\"}},\"type\":\"scattercarpet\"}],\"scattergeo\":[{\"marker\":{\"colorbar\":{\"outlinewidth\":0,\"ticks\":\"\"}},\"type\":\"scattergeo\"}],\"scattergl\":[{\"marker\":{\"colorbar\":{\"outlinewidth\":0,\"ticks\":\"\"}},\"type\":\"scattergl\"}],\"scattermapbox\":[{\"marker\":{\"colorbar\":{\"outlinewidth\":0,\"ticks\":\"\"}},\"type\":\"scattermapbox\"}],\"scatterpolar\":[{\"marker\":{\"colorbar\":{\"outlinewidth\":0,\"ticks\":\"\"}},\"type\":\"scatterpolar\"}],\"scatterpolargl\":[{\"marker\":{\"colorbar\":{\"outlinewidth\":0,\"ticks\":\"\"}},\"type\":\"scatterpolargl\"}],\"scatterternary\":[{\"marker\":{\"colorbar\":{\"outlinewidth\":0,\"ticks\":\"\"}},\"type\":\"scatterternary\"}],\"surface\":[{\"colorbar\":{\"outlinewidth\":0,\"ticks\":\"\"},\"colorscale\":[[0.0,\"#0d0887\"],[0.1111111111111111,\"#46039f\"],[0.2222222222222222,\"#7201a8\"],[0.3333333333333333,\"#9c179e\"],[0.4444444444444444,\"#bd3786\"],[0.5555555555555556,\"#d8576b\"],[0.6666666666666666,\"#ed7953\"],[0.7777777777777778,\"#fb9f3a\"],[0.8888888888888888,\"#fdca26\"],[1.0,\"#f0f921\"]],\"type\":\"surface\"}],\"table\":[{\"cells\":{\"fill\":{\"color\":\"#EBF0F8\"},\"line\":{\"color\":\"white\"}},\"header\":{\"fill\":{\"color\":\"#C8D4E3\"},\"line\":{\"color\":\"white\"}},\"type\":\"table\"}]},\"layout\":{\"annotationdefaults\":{\"arrowcolor\":\"#2a3f5f\",\"arrowhead\":0,\"arrowwidth\":1},\"autotypenumbers\":\"strict\",\"coloraxis\":{\"colorbar\":{\"outlinewidth\":0,\"ticks\":\"\"}},\"colorscale\":{\"diverging\":[[0,\"#8e0152\"],[0.1,\"#c51b7d\"],[0.2,\"#de77ae\"],[0.3,\"#f1b6da\"],[0.4,\"#fde0ef\"],[0.5,\"#f7f7f7\"],[0.6,\"#e6f5d0\"],[0.7,\"#b8e186\"],[0.8,\"#7fbc41\"],[0.9,\"#4d9221\"],[1,\"#276419\"]],\"sequential\":[[0.0,\"#0d0887\"],[0.1111111111111111,\"#46039f\"],[0.2222222222222222,\"#7201a8\"],[0.3333333333333333,\"#9c179e\"],[0.4444444444444444,\"#bd3786\"],[0.5555555555555556,\"#d8576b\"],[0.6666666666666666,\"#ed7953\"],[0.7777777777777778,\"#fb9f3a\"],[0.8888888888888888,\"#fdca26\"],[1.0,\"#f0f921\"]],\"sequentialminus\":[[0.0,\"#0d0887\"],[0.1111111111111111,\"#46039f\"],[0.2222222222222222,\"#7201a8\"],[0.3333333333333333,\"#9c179e\"],[0.4444444444444444,\"#bd3786\"],[0.5555555555555556,\"#d8576b\"],[0.6666666666666666,\"#ed7953\"],[0.7777777777777778,\"#fb9f3a\"],[0.8888888888888888,\"#fdca26\"],[1.0,\"#f0f921\"]]},\"colorway\":[\"#636efa\",\"#EF553B\",\"#00cc96\",\"#ab63fa\",\"#FFA15A\",\"#19d3f3\",\"#FF6692\",\"#B6E880\",\"#FF97FF\",\"#FECB52\"],\"font\":{\"color\":\"#2a3f5f\"},\"geo\":{\"bgcolor\":\"white\",\"lakecolor\":\"white\",\"landcolor\":\"#E5ECF6\",\"showlakes\":true,\"showland\":true,\"subunitcolor\":\"white\"},\"hoverlabel\":{\"align\":\"left\"},\"hovermode\":\"closest\",\"mapbox\":{\"style\":\"light\"},\"paper_bgcolor\":\"white\",\"plot_bgcolor\":\"#E5ECF6\",\"polar\":{\"angularaxis\":{\"gridcolor\":\"white\",\"linecolor\":\"white\",\"ticks\":\"\"},\"bgcolor\":\"#E5ECF6\",\"radialaxis\":{\"gridcolor\":\"white\",\"linecolor\":\"white\",\"ticks\":\"\"}},\"scene\":{\"xaxis\":{\"backgroundcolor\":\"#E5ECF6\",\"gridcolor\":\"white\",\"gridwidth\":2,\"linecolor\":\"white\",\"showbackground\":true,\"ticks\":\"\",\"zerolinecolor\":\"white\"},\"yaxis\":{\"backgroundcolor\":\"#E5ECF6\",\"gridcolor\":\"white\",\"gridwidth\":2,\"linecolor\":\"white\",\"showbackground\":true,\"ticks\":\"\",\"zerolinecolor\":\"white\"},\"zaxis\":{\"backgroundcolor\":\"#E5ECF6\",\"gridcolor\":\"white\",\"gridwidth\":2,\"linecolor\":\"white\",\"showbackground\":true,\"ticks\":\"\",\"zerolinecolor\":\"white\"}},\"shapedefaults\":{\"line\":{\"color\":\"#2a3f5f\"}},\"ternary\":{\"aaxis\":{\"gridcolor\":\"white\",\"linecolor\":\"white\",\"ticks\":\"\"},\"baxis\":{\"gridcolor\":\"white\",\"linecolor\":\"white\",\"ticks\":\"\"},\"bgcolor\":\"#E5ECF6\",\"caxis\":{\"gridcolor\":\"white\",\"linecolor\":\"white\",\"ticks\":\"\"}},\"title\":{\"x\":0.05},\"xaxis\":{\"automargin\":true,\"gridcolor\":\"white\",\"linecolor\":\"white\",\"ticks\":\"\",\"title\":{\"standoff\":15},\"zerolinecolor\":\"white\",\"zerolinewidth\":2},\"yaxis\":{\"automargin\":true,\"gridcolor\":\"white\",\"linecolor\":\"white\",\"ticks\":\"\",\"title\":{\"standoff\":15},\"zerolinecolor\":\"white\",\"zerolinewidth\":2}}},\"xaxis\":{\"anchor\":\"y\",\"domain\":[0.0,1.0],\"title\":{\"text\":\"Index\"}},\"yaxis\":{\"anchor\":\"x\",\"domain\":[0.0,1.0],\"title\":{\"text\":\"Previous Geekions\"}},\"coloraxis\":{\"colorbar\":{\"title\":{\"text\":\"Previous Geekions\"}},\"colorscale\":[[0.0,\"#0d0887\"],[0.1111111111111111,\"#46039f\"],[0.2222222222222222,\"#7201a8\"],[0.3333333333333333,\"#9c179e\"],[0.4444444444444444,\"#bd3786\"],[0.5555555555555556,\"#d8576b\"],[0.6666666666666666,\"#ed7953\"],[0.7777777777777778,\"#fb9f3a\"],[0.8888888888888888,\"#fdca26\"],[1.0,\"#f0f921\"]]},\"legend\":{\"tracegroupgap\":0,\"itemsizing\":\"constant\"},\"margin\":{\"t\":60},\"title\":{\"text\":\"Shining stars of the week\"}},                        {\"responsive\": true}                    ).then(function(){\n",
              "                            \n",
              "var gd = document.getElementById('ecc03f00-0722-48d8-802e-069df5e7731f');\n",
              "var x = new MutationObserver(function (mutations, observer) {{\n",
              "        var display = window.getComputedStyle(gd).display;\n",
              "        if (!display || display === 'none') {{\n",
              "            console.log([gd, 'removed!']);\n",
              "            Plotly.purge(gd);\n",
              "            observer.disconnect();\n",
              "        }}\n",
              "}});\n",
              "\n",
              "// Listen for the removal of the full notebook cells\n",
              "var notebookContainer = gd.closest('#notebook-container');\n",
              "if (notebookContainer) {{\n",
              "    x.observe(notebookContainer, {childList: true});\n",
              "}}\n",
              "\n",
              "// Listen for the clearing of the current output cell\n",
              "var outputEl = gd.closest('.output');\n",
              "if (outputEl) {{\n",
              "    x.observe(outputEl, {childList: true});\n",
              "}}\n",
              "\n",
              "                        })                };                            </script>        </div>\n",
              "</body>\n",
              "</html>"
            ]
          },
          "metadata": {}
        }
      ]
    },
    {
      "cell_type": "code",
      "execution_count": 205,
      "metadata": {
        "id": "AMcaKdeJQTu1",
        "colab": {
          "base_uri": "https://localhost:8080/",
          "height": 0
        },
        "outputId": "3ea699e3-8b15-48f8-9dd5-d25b29ea0d6a"
      },
      "outputs": [
        {
          "output_type": "stream",
          "name": "stdout",
          "text": [
            "\n",
            "Top 3 rising star of the week \n",
            "\n",
            "a.dharani\n",
            "v.jeevitha\n",
            "hemavathi.r\n"
          ]
        }
      ],
      "source": [
        "w=list(df3.sort_values(by=[\"Previous Geekions\"],ascending=[False])[\"Name\"].head(3))\n",
        "print(\"\\nTop 3 rising star of the week \\n\")\n",
        "print(*w, sep = \"\\n\")"
      ]
    },
    {
      "cell_type": "markdown",
      "metadata": {
        "id": "sz_77nwNQTu3"
      },
      "source": [
        "###### Department wise codekata performence (pie chart)"
      ]
    },
    {
      "cell_type": "code",
      "source": [
        "w=list(df3[\"Department\"].unique())\n",
        "w"
      ],
      "metadata": {
        "colab": {
          "base_uri": "https://localhost:8080/",
          "height": 0
        },
        "id": "Brm6Rs_U7cAh",
        "outputId": "f6859011-738e-4952-d66d-dfaa8fd7bc33"
      },
      "execution_count": 206,
      "outputs": [
        {
          "output_type": "execute_result",
          "data": {
            "text/plain": [
              "['Computer Science and Engineering',\n",
              " 'Electronics and Communication Engineering',\n",
              " 'Electronics and Electrical Engineering']"
            ]
          },
          "metadata": {},
          "execution_count": 206
        }
      ]
    },
    {
      "cell_type": "code",
      "source": [
        "df3.groupby(\"Department\")[\"CodeKata Score\"].sum()"
      ],
      "metadata": {
        "colab": {
          "base_uri": "https://localhost:8080/",
          "height": 0
        },
        "id": "TqKPFefL8RhO",
        "outputId": "66e92188-e055-4515-8459-5a78058c3f62"
      },
      "execution_count": 207,
      "outputs": [
        {
          "output_type": "execute_result",
          "data": {
            "text/plain": [
              "Department\n",
              "Computer Science and Engineering             320025\n",
              "Electronics and Communication Engineering    108335\n",
              "Electronics and Electrical Engineering        53800\n",
              "Name: CodeKata Score, dtype: int64"
            ]
          },
          "metadata": {},
          "execution_count": 207
        }
      ]
    },
    {
      "cell_type": "code",
      "execution_count": 208,
      "metadata": {
        "id": "i1aaLum5QTu4",
        "colab": {
          "base_uri": "https://localhost:8080/",
          "height": 300
        },
        "outputId": "01beced3-7859-41ba-c0f2-d992b768d08c"
      },
      "outputs": [
        {
          "output_type": "stream",
          "name": "stdout",
          "text": [
            "\n",
            "Department wise codekata performence\n",
            "\n"
          ]
        },
        {
          "output_type": "display_data",
          "data": {
            "text/plain": [
              "<Figure size 432x288 with 1 Axes>"
            ],
            "image/png": "[encoded data removed]"
          },
          "metadata": {}
        }
      ],
      "source": [
        "plt.pie(df3.groupby(\"Department\")[\"CodeKata Score\"].sum(), labels = w, autopct='%1.0f%%', data=True)\n",
        "print(\"\\nDepartment wise codekata performence\\n\")\n",
        "plt.show()"
      ]
    },
    {
      "cell_type": "markdown",
      "metadata": {
        "id": "RrIYp7MjQTu5"
      },
      "source": [
        "###### Department wise toppers (horizantal bar graph or any visual representations of your choice)"
      ]
    },
    {
      "cell_type": "code",
      "source": [
        "print(\"\\nDepartment codekata score and name\\n\")\n",
        "t1=px.scatter(df3,x=\"Department\",y='CodeKata Score',size='CodeKata Score',color='Name',title=\"Department wise Topper\")\n",
        "t1.update_layout(\n",
        "    title=\"Department wise codekata score and name\"\n",
        ")\n",
        "t1.show()"
      ],
      "metadata": {
        "colab": {
          "base_uri": "https://localhost:8080/",
          "height": 594
        },
        "id": "hJtxblGJw8nr",
        "outputId": "6e974a55-1467-4a59-dc61-f8a342d25f10"
      },
      "execution_count": 231,
      "outputs": [
        {
          "output_type": "stream",
          "name": "stdout",
          "text": [
            "\n",
            "Department codekata score and name\n",
            "\n"
          ]
        },
        {
          "output_type": "display_data",
          "data": {
            "text/html": [
              "<html>\n",
              "<head><meta charset=\"utf-8\" /></head>\n",
              "<body>\n",
              "    <div>            <script src=\"https://cdnjs.cloudflare.com/ajax/libs/mathjax/2.7.5/MathJax.js?config=TeX-AMS-MML_SVG\"></script><script type=\"text/javascript\">if (window.MathJax) {MathJax.Hub.Config({SVG: {font: \"STIX-Web\"}});}</script>                <script type=\"text/javascript\">window.PlotlyConfig = {MathJaxConfig: 'local'};</script>\n",
              "        <script src=\"https://cdn.plot.ly/plotly-2.8.3.min.js\"></script>                <div id=\"1a721456-ad26-483f-a733-84009930ff6b\" class=\"plotly-graph-div\" style=\"height:525px; width:100%;\"></div>            <script type=\"text/javascript\">                                    window.PLOTLYENV=window.PLOTLYENV || {};                                    if (document.getElementById(\"1a721456-ad26-483f-a733-84009930ff6b\")) {                    Plotly.newPlot(                        \"1a721456-ad26-483f-a733-84009930ff6b\",                        [{\"hovertemplate\":\"Name=a.dharani<br>Department=%{x}<br>CodeKata Score=%{marker.size}<extra></extra>\",\"legendgroup\":\"a.dharani\",\"marker\":{\"color\":\"#636efa\",\"size\":[24500],\"sizemode\":\"area\",\"sizeref\":61.25,\"symbol\":\"circle\"},\"mode\":\"markers\",\"name\":\"a.dharani\",\"orientation\":\"v\",\"showlegend\":true,\"x\":[\"Computer Science and Engineering\"],\"xaxis\":\"x\",\"y\":[24500],\"yaxis\":\"y\",\"type\":\"scatter\"},{\"hovertemplate\":\"Name=v.jeevitha<br>Department=%{x}<br>CodeKata Score=%{marker.size}<extra></extra>\",\"legendgroup\":\"v.jeevitha\",\"marker\":{\"color\":\"#EF553B\",\"size\":[21740],\"sizemode\":\"area\",\"sizeref\":61.25,\"symbol\":\"circle\"},\"mode\":\"markers\",\"name\":\"v.jeevitha\",\"orientation\":\"v\",\"showlegend\":true,\"x\":[\"Computer Science and Engineering\"],\"xaxis\":\"x\",\"y\":[21740],\"yaxis\":\"y\",\"type\":\"scatter\"},{\"hovertemplate\":\"Name=hemavathi.r<br>Department=%{x}<br>CodeKata Score=%{marker.size}<extra></extra>\",\"legendgroup\":\"hemavathi.r\",\"marker\":{\"color\":\"#00cc96\",\"size\":[19680],\"sizemode\":\"area\",\"sizeref\":61.25,\"symbol\":\"circle\"},\"mode\":\"markers\",\"name\":\"hemavathi.r\",\"orientation\":\"v\",\"showlegend\":true,\"x\":[\"Computer Science and Engineering\"],\"xaxis\":\"x\",\"y\":[19680],\"yaxis\":\"y\",\"type\":\"scatter\"},{\"hovertemplate\":\"Name=mugunthan s<br>Department=%{x}<br>CodeKata Score=%{marker.size}<extra></extra>\",\"legendgroup\":\"mugunthan s\",\"marker\":{\"color\":\"#ab63fa\",\"size\":[10610],\"sizemode\":\"area\",\"sizeref\":61.25,\"symbol\":\"circle\"},\"mode\":\"markers\",\"name\":\"mugunthan s\",\"orientation\":\"v\",\"showlegend\":true,\"x\":[\"Computer Science and Engineering\"],\"xaxis\":\"x\",\"y\":[10610],\"yaxis\":\"y\",\"type\":\"scatter\"},{\"hovertemplate\":\"Name=sathammai.s<br>Department=%{x}<br>CodeKata Score=%{marker.size}<extra></extra>\",\"legendgroup\":\"sathammai.s\",\"marker\":{\"color\":\"#FFA15A\",\"size\":[8980],\"sizemode\":\"area\",\"sizeref\":61.25,\"symbol\":\"circle\"},\"mode\":\"markers\",\"name\":\"sathammai.s\",\"orientation\":\"v\",\"showlegend\":true,\"x\":[\"Computer Science and Engineering\"],\"xaxis\":\"x\",\"y\":[8980],\"yaxis\":\"y\",\"type\":\"scatter\"},{\"hovertemplate\":\"Name=niveeshwar s<br>Department=%{x}<br>CodeKata Score=%{marker.size}<extra></extra>\",\"legendgroup\":\"niveeshwar s\",\"marker\":{\"color\":\"#19d3f3\",\"size\":[8200],\"sizemode\":\"area\",\"sizeref\":61.25,\"symbol\":\"circle\"},\"mode\":\"markers\",\"name\":\"niveeshwar s\",\"orientation\":\"v\",\"showlegend\":true,\"x\":[\"Computer Science and Engineering\"],\"xaxis\":\"x\",\"y\":[8200],\"yaxis\":\"y\",\"type\":\"scatter\"},{\"hovertemplate\":\"Name=kalaiarasan k<br>Department=%{x}<br>CodeKata Score=%{marker.size}<extra></extra>\",\"legendgroup\":\"kalaiarasan k\",\"marker\":{\"color\":\"#FF6692\",\"size\":[7880],\"sizemode\":\"area\",\"sizeref\":61.25,\"symbol\":\"circle\"},\"mode\":\"markers\",\"name\":\"kalaiarasan k\",\"orientation\":\"v\",\"showlegend\":true,\"x\":[\"Electronics and Communication Engineering\"],\"xaxis\":\"x\",\"y\":[7880],\"yaxis\":\"y\",\"type\":\"scatter\"},{\"hovertemplate\":\"Name=mohamed zubair ahmed<br>Department=%{x}<br>CodeKata Score=%{marker.size}<extra></extra>\",\"legendgroup\":\"mohamed zubair ahmed\",\"marker\":{\"color\":\"#B6E880\",\"size\":[7020],\"sizemode\":\"area\",\"sizeref\":61.25,\"symbol\":\"circle\"},\"mode\":\"markers\",\"name\":\"mohamed zubair ahmed\",\"orientation\":\"v\",\"showlegend\":true,\"x\":[\"Computer Science and Engineering\"],\"xaxis\":\"x\",\"y\":[7020],\"yaxis\":\"y\",\"type\":\"scatter\"},{\"hovertemplate\":\"Name=j.suganthi<br>Department=%{x}<br>CodeKata Score=%{marker.size}<extra></extra>\",\"legendgroup\":\"j.suganthi\",\"marker\":{\"color\":\"#FF97FF\",\"size\":[5860],\"sizemode\":\"area\",\"sizeref\":61.25,\"symbol\":\"circle\"},\"mode\":\"markers\",\"name\":\"j.suganthi\",\"orientation\":\"v\",\"showlegend\":true,\"x\":[\"Electronics and Communication Engineering\"],\"xaxis\":\"x\",\"y\":[5860],\"yaxis\":\"y\",\"type\":\"scatter\"},{\"hovertemplate\":\"Name=thamizhpaana<br>Department=%{x}<br>CodeKata Score=%{marker.size}<extra></extra>\",\"legendgroup\":\"thamizhpaana\",\"marker\":{\"color\":\"#FECB52\",\"size\":[5500],\"sizemode\":\"area\",\"sizeref\":61.25,\"symbol\":\"circle\"},\"mode\":\"markers\",\"name\":\"thamizhpaana\",\"orientation\":\"v\",\"showlegend\":true,\"x\":[\"Computer Science and Engineering\"],\"xaxis\":\"x\",\"y\":[5500],\"yaxis\":\"y\",\"type\":\"scatter\"},{\"hovertemplate\":\"Name=iyappan samiraj<br>Department=%{x}<br>CodeKata Score=%{marker.size}<extra></extra>\",\"legendgroup\":\"iyappan samiraj\",\"marker\":{\"color\":\"#636efa\",\"size\":[5400],\"sizemode\":\"area\",\"sizeref\":61.25,\"symbol\":\"circle\"},\"mode\":\"markers\",\"name\":\"iyappan samiraj\",\"orientation\":\"v\",\"showlegend\":true,\"x\":[\"Electronics and Communication Engineering\"],\"xaxis\":\"x\",\"y\":[5400],\"yaxis\":\"y\",\"type\":\"scatter\"},{\"hovertemplate\":\"Name=ponniyamma.r<br>Department=%{x}<br>CodeKata Score=%{marker.size}<extra></extra>\",\"legendgroup\":\"ponniyamma.r\",\"marker\":{\"color\":\"#EF553B\",\"size\":[5380],\"sizemode\":\"area\",\"sizeref\":61.25,\"symbol\":\"circle\"},\"mode\":\"markers\",\"name\":\"ponniyamma.r\",\"orientation\":\"v\",\"showlegend\":true,\"x\":[\"Computer Science and Engineering\"],\"xaxis\":\"x\",\"y\":[5380],\"yaxis\":\"y\",\"type\":\"scatter\"},{\"hovertemplate\":\"Name=sabapathi<br>Department=%{x}<br>CodeKata Score=%{marker.size}<extra></extra>\",\"legendgroup\":\"sabapathi\",\"marker\":{\"color\":\"#00cc96\",\"size\":[5280],\"sizemode\":\"area\",\"sizeref\":61.25,\"symbol\":\"circle\"},\"mode\":\"markers\",\"name\":\"sabapathi\",\"orientation\":\"v\",\"showlegend\":true,\"x\":[\"Computer Science and Engineering\"],\"xaxis\":\"x\",\"y\":[5280],\"yaxis\":\"y\",\"type\":\"scatter\"},{\"hovertemplate\":\"Name=raghavan<br>Department=%{x}<br>CodeKata Score=%{marker.size}<extra></extra>\",\"legendgroup\":\"raghavan\",\"marker\":{\"color\":\"#ab63fa\",\"size\":[5120],\"sizemode\":\"area\",\"sizeref\":61.25,\"symbol\":\"circle\"},\"mode\":\"markers\",\"name\":\"raghavan\",\"orientation\":\"v\",\"showlegend\":true,\"x\":[\"Computer Science and Engineering\"],\"xaxis\":\"x\",\"y\":[5120],\"yaxis\":\"y\",\"type\":\"scatter\"},{\"hovertemplate\":\"Name=melvin dukles.r<br>Department=%{x}<br>CodeKata Score=%{marker.size}<extra></extra>\",\"legendgroup\":\"melvin dukles.r\",\"marker\":{\"color\":\"#FFA15A\",\"size\":[4800],\"sizemode\":\"area\",\"sizeref\":61.25,\"symbol\":\"circle\"},\"mode\":\"markers\",\"name\":\"melvin dukles.r\",\"orientation\":\"v\",\"showlegend\":true,\"x\":[\"Electronics and Communication Engineering\"],\"xaxis\":\"x\",\"y\":[4800],\"yaxis\":\"y\",\"type\":\"scatter\"},{\"hovertemplate\":\"Name=pavithra<br>Department=%{x}<br>CodeKata Score=%{marker.size}<extra></extra>\",\"legendgroup\":\"pavithra\",\"marker\":{\"color\":\"#19d3f3\",\"size\":[4600],\"sizemode\":\"area\",\"sizeref\":61.25,\"symbol\":\"circle\"},\"mode\":\"markers\",\"name\":\"pavithra\",\"orientation\":\"v\",\"showlegend\":true,\"x\":[\"Computer Science and Engineering\"],\"xaxis\":\"x\",\"y\":[4600],\"yaxis\":\"y\",\"type\":\"scatter\"},{\"hovertemplate\":\"Name=priyanka .s<br>Department=%{x}<br>CodeKata Score=%{marker.size}<extra></extra>\",\"legendgroup\":\"priyanka .s\",\"marker\":{\"color\":\"#FF6692\",\"size\":[4510],\"sizemode\":\"area\",\"sizeref\":61.25,\"symbol\":\"circle\"},\"mode\":\"markers\",\"name\":\"priyanka .s\",\"orientation\":\"v\",\"showlegend\":true,\"x\":[\"Computer Science and Engineering\"],\"xaxis\":\"x\",\"y\":[4510],\"yaxis\":\"y\",\"type\":\"scatter\"},{\"hovertemplate\":\"Name=v.vithyasri<br>Department=%{x}<br>CodeKata Score=%{marker.size}<extra></extra>\",\"legendgroup\":\"v.vithyasri\",\"marker\":{\"color\":\"#B6E880\",\"size\":[4370],\"sizemode\":\"area\",\"sizeref\":61.25,\"symbol\":\"circle\"},\"mode\":\"markers\",\"name\":\"v.vithyasri\",\"orientation\":\"v\",\"showlegend\":true,\"x\":[\"Electronics and Communication Engineering\"],\"xaxis\":\"x\",\"y\":[4370],\"yaxis\":\"y\",\"type\":\"scatter\"},{\"hovertemplate\":\"Name=abirami anbazhagan<br>Department=%{x}<br>CodeKata Score=%{marker.size}<extra></extra>\",\"legendgroup\":\"abirami anbazhagan\",\"marker\":{\"color\":\"#FF97FF\",\"size\":[4320],\"sizemode\":\"area\",\"sizeref\":61.25,\"symbol\":\"circle\"},\"mode\":\"markers\",\"name\":\"abirami anbazhagan\",\"orientation\":\"v\",\"showlegend\":true,\"x\":[\"Electronics and Communication Engineering\"],\"xaxis\":\"x\",\"y\":[4320],\"yaxis\":\"y\",\"type\":\"scatter\"},{\"hovertemplate\":\"Name=s.srinivasan<br>Department=%{x}<br>CodeKata Score=%{marker.size}<extra></extra>\",\"legendgroup\":\"s.srinivasan\",\"marker\":{\"color\":\"#FECB52\",\"size\":[4090],\"sizemode\":\"area\",\"sizeref\":61.25,\"symbol\":\"circle\"},\"mode\":\"markers\",\"name\":\"s.srinivasan\",\"orientation\":\"v\",\"showlegend\":true,\"x\":[\"Computer Science and Engineering\"],\"xaxis\":\"x\",\"y\":[4090],\"yaxis\":\"y\",\"type\":\"scatter\"},{\"hovertemplate\":\"Name=s.janani<br>Department=%{x}<br>CodeKata Score=%{marker.size}<extra></extra>\",\"legendgroup\":\"s.janani\",\"marker\":{\"color\":\"#636efa\",\"size\":[3915],\"sizemode\":\"area\",\"sizeref\":61.25,\"symbol\":\"circle\"},\"mode\":\"markers\",\"name\":\"s.janani\",\"orientation\":\"v\",\"showlegend\":true,\"x\":[\"Computer Science and Engineering\"],\"xaxis\":\"x\",\"y\":[3915],\"yaxis\":\"y\",\"type\":\"scatter\"},{\"hovertemplate\":\"Name=kamalishwari<br>Department=%{x}<br>CodeKata Score=%{marker.size}<extra></extra>\",\"legendgroup\":\"kamalishwari\",\"marker\":{\"color\":\"#EF553B\",\"size\":[3665],\"sizemode\":\"area\",\"sizeref\":61.25,\"symbol\":\"circle\"},\"mode\":\"markers\",\"name\":\"kamalishwari\",\"orientation\":\"v\",\"showlegend\":true,\"x\":[\"Electronics and Communication Engineering\"],\"xaxis\":\"x\",\"y\":[3665],\"yaxis\":\"y\",\"type\":\"scatter\"},{\"hovertemplate\":\"Name=yuvasri<br>Department=%{x}<br>CodeKata Score=%{marker.size}<extra></extra>\",\"legendgroup\":\"yuvasri\",\"marker\":{\"color\":\"#00cc96\",\"size\":[3460],\"sizemode\":\"area\",\"sizeref\":61.25,\"symbol\":\"circle\"},\"mode\":\"markers\",\"name\":\"yuvasri\",\"orientation\":\"v\",\"showlegend\":true,\"x\":[\"Computer Science and Engineering\"],\"xaxis\":\"x\",\"y\":[3460],\"yaxis\":\"y\",\"type\":\"scatter\"},{\"hovertemplate\":\"Name=balaji<br>Department=%{x}<br>CodeKata Score=%{marker.size}<extra></extra>\",\"legendgroup\":\"balaji\",\"marker\":{\"color\":\"#ab63fa\",\"size\":[3280,8160],\"sizemode\":\"area\",\"sizeref\":61.25,\"symbol\":\"circle\"},\"mode\":\"markers\",\"name\":\"balaji\",\"orientation\":\"v\",\"showlegend\":true,\"x\":[\"Computer Science and Engineering\",\"Electronics and Electrical Engineering\"],\"xaxis\":\"x\",\"y\":[3280,8160],\"yaxis\":\"y\",\"type\":\"scatter\"},{\"hovertemplate\":\"Name=meera.m<br>Department=%{x}<br>CodeKata Score=%{marker.size}<extra></extra>\",\"legendgroup\":\"meera.m\",\"marker\":{\"color\":\"#FFA15A\",\"size\":[3200],\"sizemode\":\"area\",\"sizeref\":61.25,\"symbol\":\"circle\"},\"mode\":\"markers\",\"name\":\"meera.m\",\"orientation\":\"v\",\"showlegend\":true,\"x\":[\"Computer Science and Engineering\"],\"xaxis\":\"x\",\"y\":[3200],\"yaxis\":\"y\",\"type\":\"scatter\"},{\"hovertemplate\":\"Name=tpavithra<br>Department=%{x}<br>CodeKata Score=%{marker.size}<extra></extra>\",\"legendgroup\":\"tpavithra\",\"marker\":{\"color\":\"#19d3f3\",\"size\":[3200],\"sizemode\":\"area\",\"sizeref\":61.25,\"symbol\":\"circle\"},\"mode\":\"markers\",\"name\":\"tpavithra\",\"orientation\":\"v\",\"showlegend\":true,\"x\":[\"Electronics and Communication Engineering\"],\"xaxis\":\"x\",\"y\":[3200],\"yaxis\":\"y\",\"type\":\"scatter\"},{\"hovertemplate\":\"Name=sri dharshini<br>Department=%{x}<br>CodeKata Score=%{marker.size}<extra></extra>\",\"legendgroup\":\"sri dharshini\",\"marker\":{\"color\":\"#FF6692\",\"size\":[3110],\"sizemode\":\"area\",\"sizeref\":61.25,\"symbol\":\"circle\"},\"mode\":\"markers\",\"name\":\"sri dharshini\",\"orientation\":\"v\",\"showlegend\":true,\"x\":[\"Computer Science and Engineering\"],\"xaxis\":\"x\",\"y\":[3110],\"yaxis\":\"y\",\"type\":\"scatter\"},{\"hovertemplate\":\"Name=shankari<br>Department=%{x}<br>CodeKata Score=%{marker.size}<extra></extra>\",\"legendgroup\":\"shankari\",\"marker\":{\"color\":\"#B6E880\",\"size\":[3000],\"sizemode\":\"area\",\"sizeref\":61.25,\"symbol\":\"circle\"},\"mode\":\"markers\",\"name\":\"shankari\",\"orientation\":\"v\",\"showlegend\":true,\"x\":[\"Electronics and Communication Engineering\"],\"xaxis\":\"x\",\"y\":[3000],\"yaxis\":\"y\",\"type\":\"scatter\"},{\"hovertemplate\":\"Name=pooja priya.b<br>Department=%{x}<br>CodeKata Score=%{marker.size}<extra></extra>\",\"legendgroup\":\"pooja priya.b\",\"marker\":{\"color\":\"#FF97FF\",\"size\":[2570],\"sizemode\":\"area\",\"sizeref\":61.25,\"symbol\":\"circle\"},\"mode\":\"markers\",\"name\":\"pooja priya.b\",\"orientation\":\"v\",\"showlegend\":true,\"x\":[\"Computer Science and Engineering\"],\"xaxis\":\"x\",\"y\":[2570],\"yaxis\":\"y\",\"type\":\"scatter\"},{\"hovertemplate\":\"Name=chithra<br>Department=%{x}<br>CodeKata Score=%{marker.size}<extra></extra>\",\"legendgroup\":\"chithra\",\"marker\":{\"color\":\"#FECB52\",\"size\":[2410],\"sizemode\":\"area\",\"sizeref\":61.25,\"symbol\":\"circle\"},\"mode\":\"markers\",\"name\":\"chithra\",\"orientation\":\"v\",\"showlegend\":true,\"x\":[\"Computer Science and Engineering\"],\"xaxis\":\"x\",\"y\":[2410],\"yaxis\":\"y\",\"type\":\"scatter\"},{\"hovertemplate\":\"Name=manikandan<br>Department=%{x}<br>CodeKata Score=%{marker.size}<extra></extra>\",\"legendgroup\":\"manikandan\",\"marker\":{\"color\":\"#636efa\",\"size\":[2360],\"sizemode\":\"area\",\"sizeref\":61.25,\"symbol\":\"circle\"},\"mode\":\"markers\",\"name\":\"manikandan\",\"orientation\":\"v\",\"showlegend\":true,\"x\":[\"Computer Science and Engineering\"],\"xaxis\":\"x\",\"y\":[2360],\"yaxis\":\"y\",\"type\":\"scatter\"},{\"hovertemplate\":\"Name=kaliaperumal g<br>Department=%{x}<br>CodeKata Score=%{marker.size}<extra></extra>\",\"legendgroup\":\"kaliaperumal g\",\"marker\":{\"color\":\"#EF553B\",\"size\":[2260],\"sizemode\":\"area\",\"sizeref\":61.25,\"symbol\":\"circle\"},\"mode\":\"markers\",\"name\":\"kaliaperumal g\",\"orientation\":\"v\",\"showlegend\":true,\"x\":[\"Computer Science and Engineering\"],\"xaxis\":\"x\",\"y\":[2260],\"yaxis\":\"y\",\"type\":\"scatter\"},{\"hovertemplate\":\"Name=sarumathir<br>Department=%{x}<br>CodeKata Score=%{marker.size}<extra></extra>\",\"legendgroup\":\"sarumathir\",\"marker\":{\"color\":\"#00cc96\",\"size\":[2240],\"sizemode\":\"area\",\"sizeref\":61.25,\"symbol\":\"circle\"},\"mode\":\"markers\",\"name\":\"sarumathir\",\"orientation\":\"v\",\"showlegend\":true,\"x\":[\"Electronics and Communication Engineering\"],\"xaxis\":\"x\",\"y\":[2240],\"yaxis\":\"y\",\"type\":\"scatter\"},{\"hovertemplate\":\"Name=sowmiya.v<br>Department=%{x}<br>CodeKata Score=%{marker.size}<extra></extra>\",\"legendgroup\":\"sowmiya.v\",\"marker\":{\"color\":\"#ab63fa\",\"size\":[2160],\"sizemode\":\"area\",\"sizeref\":61.25,\"symbol\":\"circle\"},\"mode\":\"markers\",\"name\":\"sowmiya.v\",\"orientation\":\"v\",\"showlegend\":true,\"x\":[\"Computer Science and Engineering\"],\"xaxis\":\"x\",\"y\":[2160],\"yaxis\":\"y\",\"type\":\"scatter\"},{\"hovertemplate\":\"Name=tamilarasi<br>Department=%{x}<br>CodeKata Score=%{marker.size}<extra></extra>\",\"legendgroup\":\"tamilarasi\",\"marker\":{\"color\":\"#FFA15A\",\"size\":[1910],\"sizemode\":\"area\",\"sizeref\":61.25,\"symbol\":\"circle\"},\"mode\":\"markers\",\"name\":\"tamilarasi\",\"orientation\":\"v\",\"showlegend\":true,\"x\":[\"Computer Science and Engineering\"],\"xaxis\":\"x\",\"y\":[1910],\"yaxis\":\"y\",\"type\":\"scatter\"},{\"hovertemplate\":\"Name=barath d<br>Department=%{x}<br>CodeKata Score=%{marker.size}<extra></extra>\",\"legendgroup\":\"barath d\",\"marker\":{\"color\":\"#19d3f3\",\"size\":[1910],\"sizemode\":\"area\",\"sizeref\":61.25,\"symbol\":\"circle\"},\"mode\":\"markers\",\"name\":\"barath d\",\"orientation\":\"v\",\"showlegend\":true,\"x\":[\"Electronics and Communication Engineering\"],\"xaxis\":\"x\",\"y\":[1910],\"yaxis\":\"y\",\"type\":\"scatter\"},{\"hovertemplate\":\"Name=selvakumar<br>Department=%{x}<br>CodeKata Score=%{marker.size}<extra></extra>\",\"legendgroup\":\"selvakumar\",\"marker\":{\"color\":\"#FF6692\",\"size\":[1900],\"sizemode\":\"area\",\"sizeref\":61.25,\"symbol\":\"circle\"},\"mode\":\"markers\",\"name\":\"selvakumar\",\"orientation\":\"v\",\"showlegend\":true,\"x\":[\"Computer Science and Engineering\"],\"xaxis\":\"x\",\"y\":[1900],\"yaxis\":\"y\",\"type\":\"scatter\"},{\"hovertemplate\":\"Name=nivedha.s<br>Department=%{x}<br>CodeKata Score=%{marker.size}<extra></extra>\",\"legendgroup\":\"nivedha.s\",\"marker\":{\"color\":\"#B6E880\",\"size\":[1880],\"sizemode\":\"area\",\"sizeref\":61.25,\"symbol\":\"circle\"},\"mode\":\"markers\",\"name\":\"nivedha.s\",\"orientation\":\"v\",\"showlegend\":true,\"x\":[\"Computer Science and Engineering\"],\"xaxis\":\"x\",\"y\":[1880],\"yaxis\":\"y\",\"type\":\"scatter\"},{\"hovertemplate\":\"Name=stephen<br>Department=%{x}<br>CodeKata Score=%{marker.size}<extra></extra>\",\"legendgroup\":\"stephen\",\"marker\":{\"color\":\"#FF97FF\",\"size\":[1880],\"sizemode\":\"area\",\"sizeref\":61.25,\"symbol\":\"circle\"},\"mode\":\"markers\",\"name\":\"stephen\",\"orientation\":\"v\",\"showlegend\":true,\"x\":[\"Computer Science and Engineering\"],\"xaxis\":\"x\",\"y\":[1880],\"yaxis\":\"y\",\"type\":\"scatter\"},{\"hovertemplate\":\"Name=vignesh<br>Department=%{x}<br>CodeKata Score=%{marker.size}<extra></extra>\",\"legendgroup\":\"vignesh\",\"marker\":{\"color\":\"#FECB52\",\"size\":[1740],\"sizemode\":\"area\",\"sizeref\":61.25,\"symbol\":\"circle\"},\"mode\":\"markers\",\"name\":\"vignesh\",\"orientation\":\"v\",\"showlegend\":true,\"x\":[\"Electronics and Communication Engineering\"],\"xaxis\":\"x\",\"y\":[1740],\"yaxis\":\"y\",\"type\":\"scatter\"},{\"hovertemplate\":\"Name=hsharukhan<br>Department=%{x}<br>CodeKata Score=%{marker.size}<extra></extra>\",\"legendgroup\":\"hsharukhan\",\"marker\":{\"color\":\"#636efa\",\"size\":[1680],\"sizemode\":\"area\",\"sizeref\":61.25,\"symbol\":\"circle\"},\"mode\":\"markers\",\"name\":\"hsharukhan\",\"orientation\":\"v\",\"showlegend\":true,\"x\":[\"Computer Science and Engineering\"],\"xaxis\":\"x\",\"y\":[1680],\"yaxis\":\"y\",\"type\":\"scatter\"},{\"hovertemplate\":\"Name=vijayakumar<br>Department=%{x}<br>CodeKata Score=%{marker.size}<extra></extra>\",\"legendgroup\":\"vijayakumar\",\"marker\":{\"color\":\"#EF553B\",\"size\":[1580],\"sizemode\":\"area\",\"sizeref\":61.25,\"symbol\":\"circle\"},\"mode\":\"markers\",\"name\":\"vijayakumar\",\"orientation\":\"v\",\"showlegend\":true,\"x\":[\"Computer Science and Engineering\"],\"xaxis\":\"x\",\"y\":[1580],\"yaxis\":\"y\",\"type\":\"scatter\"},{\"hovertemplate\":\"Name=abirami.s<br>Department=%{x}<br>CodeKata Score=%{marker.size}<extra></extra>\",\"legendgroup\":\"abirami.s\",\"marker\":{\"color\":\"#00cc96\",\"size\":[1580],\"sizemode\":\"area\",\"sizeref\":61.25,\"symbol\":\"circle\"},\"mode\":\"markers\",\"name\":\"abirami.s\",\"orientation\":\"v\",\"showlegend\":true,\"x\":[\"Electronics and Communication Engineering\"],\"xaxis\":\"x\",\"y\":[1580],\"yaxis\":\"y\",\"type\":\"scatter\"},{\"hovertemplate\":\"Name=v.gowsalya<br>Department=%{x}<br>CodeKata Score=%{marker.size}<extra></extra>\",\"legendgroup\":\"v.gowsalya\",\"marker\":{\"color\":\"#ab63fa\",\"size\":[1440],\"sizemode\":\"area\",\"sizeref\":61.25,\"symbol\":\"circle\"},\"mode\":\"markers\",\"name\":\"v.gowsalya\",\"orientation\":\"v\",\"showlegend\":true,\"x\":[\"Electronics and Communication Engineering\"],\"xaxis\":\"x\",\"y\":[1440],\"yaxis\":\"y\",\"type\":\"scatter\"},{\"hovertemplate\":\"Name=ponni.p<br>Department=%{x}<br>CodeKata Score=%{marker.size}<extra></extra>\",\"legendgroup\":\"ponni.p\",\"marker\":{\"color\":\"#FFA15A\",\"size\":[1350],\"sizemode\":\"area\",\"sizeref\":61.25,\"symbol\":\"circle\"},\"mode\":\"markers\",\"name\":\"ponni.p\",\"orientation\":\"v\",\"showlegend\":true,\"x\":[\"Computer Science and Engineering\"],\"xaxis\":\"x\",\"y\":[1350],\"yaxis\":\"y\",\"type\":\"scatter\"},{\"hovertemplate\":\"Name=praveena k<br>Department=%{x}<br>CodeKata Score=%{marker.size}<extra></extra>\",\"legendgroup\":\"praveena k\",\"marker\":{\"color\":\"#19d3f3\",\"size\":[1320],\"sizemode\":\"area\",\"sizeref\":61.25,\"symbol\":\"circle\"},\"mode\":\"markers\",\"name\":\"praveena k\",\"orientation\":\"v\",\"showlegend\":true,\"x\":[\"Computer Science and Engineering\"],\"xaxis\":\"x\",\"y\":[1320],\"yaxis\":\"y\",\"type\":\"scatter\"},{\"hovertemplate\":\"Name=siva sai perumal polisetti<br>Department=%{x}<br>CodeKata Score=%{marker.size}<extra></extra>\",\"legendgroup\":\"siva sai perumal polisetti\",\"marker\":{\"color\":\"#FF6692\",\"size\":[1240],\"sizemode\":\"area\",\"sizeref\":61.25,\"symbol\":\"circle\"},\"mode\":\"markers\",\"name\":\"siva sai perumal polisetti\",\"orientation\":\"v\",\"showlegend\":true,\"x\":[\"Electronics and Communication Engineering\"],\"xaxis\":\"x\",\"y\":[1240],\"yaxis\":\"y\",\"type\":\"scatter\"},{\"hovertemplate\":\"Name=madhumathib<br>Department=%{x}<br>CodeKata Score=%{marker.size}<extra></extra>\",\"legendgroup\":\"madhumathib\",\"marker\":{\"color\":\"#B6E880\",\"size\":[1130],\"sizemode\":\"area\",\"sizeref\":61.25,\"symbol\":\"circle\"},\"mode\":\"markers\",\"name\":\"madhumathib\",\"orientation\":\"v\",\"showlegend\":true,\"x\":[\"Electronics and Communication Engineering\"],\"xaxis\":\"x\",\"y\":[1130],\"yaxis\":\"y\",\"type\":\"scatter\"},{\"hovertemplate\":\"Name=b.akshaya<br>Department=%{x}<br>CodeKata Score=%{marker.size}<extra></extra>\",\"legendgroup\":\"b.akshaya\",\"marker\":{\"color\":\"#FF97FF\",\"size\":[1100],\"sizemode\":\"area\",\"sizeref\":61.25,\"symbol\":\"circle\"},\"mode\":\"markers\",\"name\":\"b.akshaya\",\"orientation\":\"v\",\"showlegend\":true,\"x\":[\"Computer Science and Engineering\"],\"xaxis\":\"x\",\"y\":[1100],\"yaxis\":\"y\",\"type\":\"scatter\"},{\"hovertemplate\":\"Name=bavithra<br>Department=%{x}<br>CodeKata Score=%{marker.size}<extra></extra>\",\"legendgroup\":\"bavithra\",\"marker\":{\"color\":\"#FECB52\",\"size\":[1020],\"sizemode\":\"area\",\"sizeref\":61.25,\"symbol\":\"circle\"},\"mode\":\"markers\",\"name\":\"bavithra\",\"orientation\":\"v\",\"showlegend\":true,\"x\":[\"Electronics and Communication Engineering\"],\"xaxis\":\"x\",\"y\":[1020],\"yaxis\":\"y\",\"type\":\"scatter\"},{\"hovertemplate\":\"Name=deivani.s<br>Department=%{x}<br>CodeKata Score=%{marker.size}<extra></extra>\",\"legendgroup\":\"deivani.s\",\"marker\":{\"color\":\"#636efa\",\"size\":[980],\"sizemode\":\"area\",\"sizeref\":61.25,\"symbol\":\"circle\"},\"mode\":\"markers\",\"name\":\"deivani.s\",\"orientation\":\"v\",\"showlegend\":true,\"x\":[\"Electronics and Communication Engineering\"],\"xaxis\":\"x\",\"y\":[980],\"yaxis\":\"y\",\"type\":\"scatter\"},{\"hovertemplate\":\"Name=nivetha.s<br>Department=%{x}<br>CodeKata Score=%{marker.size}<extra></extra>\",\"legendgroup\":\"nivetha.s\",\"marker\":{\"color\":\"#EF553B\",\"size\":[950],\"sizemode\":\"area\",\"sizeref\":61.25,\"symbol\":\"circle\"},\"mode\":\"markers\",\"name\":\"nivetha.s\",\"orientation\":\"v\",\"showlegend\":true,\"x\":[\"Electronics and Communication Engineering\"],\"xaxis\":\"x\",\"y\":[950],\"yaxis\":\"y\",\"type\":\"scatter\"},{\"hovertemplate\":\"Name=gunamathi.s<br>Department=%{x}<br>CodeKata Score=%{marker.size}<extra></extra>\",\"legendgroup\":\"gunamathi.s\",\"marker\":{\"color\":\"#00cc96\",\"size\":[850],\"sizemode\":\"area\",\"sizeref\":61.25,\"symbol\":\"circle\"},\"mode\":\"markers\",\"name\":\"gunamathi.s\",\"orientation\":\"v\",\"showlegend\":true,\"x\":[\"Electronics and Communication Engineering\"],\"xaxis\":\"x\",\"y\":[850],\"yaxis\":\"y\",\"type\":\"scatter\"},{\"hovertemplate\":\"Name=ranjith.r<br>Department=%{x}<br>CodeKata Score=%{marker.size}<extra></extra>\",\"legendgroup\":\"ranjith.r\",\"marker\":{\"color\":\"#ab63fa\",\"size\":[800],\"sizemode\":\"area\",\"sizeref\":61.25,\"symbol\":\"circle\"},\"mode\":\"markers\",\"name\":\"ranjith.r\",\"orientation\":\"v\",\"showlegend\":true,\"x\":[\"Electronics and Communication Engineering\"],\"xaxis\":\"x\",\"y\":[800],\"yaxis\":\"y\",\"type\":\"scatter\"},{\"hovertemplate\":\"Name=u.abarna<br>Department=%{x}<br>CodeKata Score=%{marker.size}<extra></extra>\",\"legendgroup\":\"u.abarna\",\"marker\":{\"color\":\"#FFA15A\",\"size\":[770],\"sizemode\":\"area\",\"sizeref\":61.25,\"symbol\":\"circle\"},\"mode\":\"markers\",\"name\":\"u.abarna\",\"orientation\":\"v\",\"showlegend\":true,\"x\":[\"Electronics and Communication Engineering\"],\"xaxis\":\"x\",\"y\":[770],\"yaxis\":\"y\",\"type\":\"scatter\"},{\"hovertemplate\":\"Name=kaviyarasi.k<br>Department=%{x}<br>CodeKata Score=%{marker.size}<extra></extra>\",\"legendgroup\":\"kaviyarasi.k\",\"marker\":{\"color\":\"#19d3f3\",\"size\":[760],\"sizemode\":\"area\",\"sizeref\":61.25,\"symbol\":\"circle\"},\"mode\":\"markers\",\"name\":\"kaviyarasi.k\",\"orientation\":\"v\",\"showlegend\":true,\"x\":[\"Electronics and Communication Engineering\"],\"xaxis\":\"x\",\"y\":[760],\"yaxis\":\"y\",\"type\":\"scatter\"},{\"hovertemplate\":\"Name=pravina<br>Department=%{x}<br>CodeKata Score=%{marker.size}<extra></extra>\",\"legendgroup\":\"pravina\",\"marker\":{\"color\":\"#FF6692\",\"size\":[720],\"sizemode\":\"area\",\"sizeref\":61.25,\"symbol\":\"circle\"},\"mode\":\"markers\",\"name\":\"pravina\",\"orientation\":\"v\",\"showlegend\":true,\"x\":[\"Computer Science and Engineering\"],\"xaxis\":\"x\",\"y\":[720],\"yaxis\":\"y\",\"type\":\"scatter\"},{\"hovertemplate\":\"Name=m.priya<br>Department=%{x}<br>CodeKata Score=%{marker.size}<extra></extra>\",\"legendgroup\":\"m.priya\",\"marker\":{\"color\":\"#B6E880\",\"size\":[690],\"sizemode\":\"area\",\"sizeref\":61.25,\"symbol\":\"circle\"},\"mode\":\"markers\",\"name\":\"m.priya\",\"orientation\":\"v\",\"showlegend\":true,\"x\":[\"Electronics and Communication Engineering\"],\"xaxis\":\"x\",\"y\":[690],\"yaxis\":\"y\",\"type\":\"scatter\"},{\"hovertemplate\":\"Name=m.nisha@mary<br>Department=%{x}<br>CodeKata Score=%{marker.size}<extra></extra>\",\"legendgroup\":\"m.nisha@mary\",\"marker\":{\"color\":\"#FF97FF\",\"size\":[580],\"sizemode\":\"area\",\"sizeref\":61.25,\"symbol\":\"circle\"},\"mode\":\"markers\",\"name\":\"m.nisha@mary\",\"orientation\":\"v\",\"showlegend\":true,\"x\":[\"Electronics and Communication Engineering\"],\"xaxis\":\"x\",\"y\":[580],\"yaxis\":\"y\",\"type\":\"scatter\"},{\"hovertemplate\":\"Name=thivviya<br>Department=%{x}<br>CodeKata Score=%{marker.size}<extra></extra>\",\"legendgroup\":\"thivviya\",\"marker\":{\"color\":\"#FECB52\",\"size\":[490],\"sizemode\":\"area\",\"sizeref\":61.25,\"symbol\":\"circle\"},\"mode\":\"markers\",\"name\":\"thivviya\",\"orientation\":\"v\",\"showlegend\":true,\"x\":[\"Computer Science and Engineering\"],\"xaxis\":\"x\",\"y\":[490],\"yaxis\":\"y\",\"type\":\"scatter\"},{\"hovertemplate\":\"Name=muvendiran.m<br>Department=%{x}<br>CodeKata Score=%{marker.size}<extra></extra>\",\"legendgroup\":\"muvendiran.m\",\"marker\":{\"color\":\"#636efa\",\"size\":[410],\"sizemode\":\"area\",\"sizeref\":61.25,\"symbol\":\"circle\"},\"mode\":\"markers\",\"name\":\"muvendiran.m\",\"orientation\":\"v\",\"showlegend\":true,\"x\":[\"Electronics and Communication Engineering\"],\"xaxis\":\"x\",\"y\":[410],\"yaxis\":\"y\",\"type\":\"scatter\"},{\"hovertemplate\":\"Name=aravind<br>Department=%{x}<br>CodeKata Score=%{marker.size}<extra></extra>\",\"legendgroup\":\"aravind\",\"marker\":{\"color\":\"#EF553B\",\"size\":[380],\"sizemode\":\"area\",\"sizeref\":61.25,\"symbol\":\"circle\"},\"mode\":\"markers\",\"name\":\"aravind\",\"orientation\":\"v\",\"showlegend\":true,\"x\":[\"Computer Science and Engineering\"],\"xaxis\":\"x\",\"y\":[380],\"yaxis\":\"y\",\"type\":\"scatter\"},{\"hovertemplate\":\"Name=haasini<br>Department=%{x}<br>CodeKata Score=%{marker.size}<extra></extra>\",\"legendgroup\":\"haasini\",\"marker\":{\"color\":\"#00cc96\",\"size\":[300],\"sizemode\":\"area\",\"sizeref\":61.25,\"symbol\":\"circle\"},\"mode\":\"markers\",\"name\":\"haasini\",\"orientation\":\"v\",\"showlegend\":true,\"x\":[\"Computer Science and Engineering\"],\"xaxis\":\"x\",\"y\":[300],\"yaxis\":\"y\",\"type\":\"scatter\"},{\"hovertemplate\":\"Name=e.nalini<br>Department=%{x}<br>CodeKata Score=%{marker.size}<extra></extra>\",\"legendgroup\":\"e.nalini\",\"marker\":{\"color\":\"#ab63fa\",\"size\":[270],\"sizemode\":\"area\",\"sizeref\":61.25,\"symbol\":\"circle\"},\"mode\":\"markers\",\"name\":\"e.nalini\",\"orientation\":\"v\",\"showlegend\":true,\"x\":[\"Electronics and Communication Engineering\"],\"xaxis\":\"x\",\"y\":[270],\"yaxis\":\"y\",\"type\":\"scatter\"},{\"hovertemplate\":\"Name=k.parvathi<br>Department=%{x}<br>CodeKata Score=%{marker.size}<extra></extra>\",\"legendgroup\":\"k.parvathi\",\"marker\":{\"color\":\"#FFA15A\",\"size\":[260],\"sizemode\":\"area\",\"sizeref\":61.25,\"symbol\":\"circle\"},\"mode\":\"markers\",\"name\":\"k.parvathi\",\"orientation\":\"v\",\"showlegend\":true,\"x\":[\"Electronics and Electrical Engineering\"],\"xaxis\":\"x\",\"y\":[260],\"yaxis\":\"y\",\"type\":\"scatter\"},{\"hovertemplate\":\"Name=jayapratha<br>Department=%{x}<br>CodeKata Score=%{marker.size}<extra></extra>\",\"legendgroup\":\"jayapratha\",\"marker\":{\"color\":\"#19d3f3\",\"size\":[200],\"sizemode\":\"area\",\"sizeref\":61.25,\"symbol\":\"circle\"},\"mode\":\"markers\",\"name\":\"jayapratha\",\"orientation\":\"v\",\"showlegend\":true,\"x\":[\"Computer Science and Engineering\"],\"xaxis\":\"x\",\"y\":[200],\"yaxis\":\"y\",\"type\":\"scatter\"},{\"hovertemplate\":\"Name=evanasundari.k<br>Department=%{x}<br>CodeKata Score=%{marker.size}<extra></extra>\",\"legendgroup\":\"evanasundari.k\",\"marker\":{\"color\":\"#FF6692\",\"size\":[180],\"sizemode\":\"area\",\"sizeref\":61.25,\"symbol\":\"circle\"},\"mode\":\"markers\",\"name\":\"evanasundari.k\",\"orientation\":\"v\",\"showlegend\":true,\"x\":[\"Computer Science and Engineering\"],\"xaxis\":\"x\",\"y\":[180],\"yaxis\":\"y\",\"type\":\"scatter\"},{\"hovertemplate\":\"Name=gousalya<br>Department=%{x}<br>CodeKata Score=%{marker.size}<extra></extra>\",\"legendgroup\":\"gousalya\",\"marker\":{\"color\":\"#B6E880\",\"size\":[170],\"sizemode\":\"area\",\"sizeref\":61.25,\"symbol\":\"circle\"},\"mode\":\"markers\",\"name\":\"gousalya\",\"orientation\":\"v\",\"showlegend\":true,\"x\":[\"Electronics and Communication Engineering\"],\"xaxis\":\"x\",\"y\":[170],\"yaxis\":\"y\",\"type\":\"scatter\"},{\"hovertemplate\":\"Name=sivaranjini<br>Department=%{x}<br>CodeKata Score=%{marker.size}<extra></extra>\",\"legendgroup\":\"sivaranjini\",\"marker\":{\"color\":\"#FF97FF\",\"size\":[160],\"sizemode\":\"area\",\"sizeref\":61.25,\"symbol\":\"circle\"},\"mode\":\"markers\",\"name\":\"sivaranjini\",\"orientation\":\"v\",\"showlegend\":true,\"x\":[\"Electronics and Communication Engineering\"],\"xaxis\":\"x\",\"y\":[160],\"yaxis\":\"y\",\"type\":\"scatter\"},{\"hovertemplate\":\"Name=karthika.g<br>Department=%{x}<br>CodeKata Score=%{marker.size}<extra></extra>\",\"legendgroup\":\"karthika.g\",\"marker\":{\"color\":\"#FECB52\",\"size\":[120],\"sizemode\":\"area\",\"sizeref\":61.25,\"symbol\":\"circle\"},\"mode\":\"markers\",\"name\":\"karthika.g\",\"orientation\":\"v\",\"showlegend\":true,\"x\":[\"Computer Science and Engineering\"],\"xaxis\":\"x\",\"y\":[120],\"yaxis\":\"y\",\"type\":\"scatter\"},{\"hovertemplate\":\"Name=vignesh b<br>Department=%{x}<br>CodeKata Score=%{marker.size}<extra></extra>\",\"legendgroup\":\"vignesh b\",\"marker\":{\"color\":\"#636efa\",\"size\":[120],\"sizemode\":\"area\",\"sizeref\":61.25,\"symbol\":\"circle\"},\"mode\":\"markers\",\"name\":\"vignesh b\",\"orientation\":\"v\",\"showlegend\":true,\"x\":[\"Electronics and Communication Engineering\"],\"xaxis\":\"x\",\"y\":[120],\"yaxis\":\"y\",\"type\":\"scatter\"},{\"hovertemplate\":\"Name=m.keerthana<br>Department=%{x}<br>CodeKata Score=%{marker.size}<extra></extra>\",\"legendgroup\":\"m.keerthana\",\"marker\":{\"color\":\"#EF553B\",\"size\":[120],\"sizemode\":\"area\",\"sizeref\":61.25,\"symbol\":\"circle\"},\"mode\":\"markers\",\"name\":\"m.keerthana\",\"orientation\":\"v\",\"showlegend\":true,\"x\":[\"Electronics and Electrical Engineering\"],\"xaxis\":\"x\",\"y\":[120],\"yaxis\":\"y\",\"type\":\"scatter\"},{\"hovertemplate\":\"Name=subhashini<br>Department=%{x}<br>CodeKata Score=%{marker.size}<extra></extra>\",\"legendgroup\":\"subhashini\",\"marker\":{\"color\":\"#00cc96\",\"size\":[120],\"sizemode\":\"area\",\"sizeref\":61.25,\"symbol\":\"circle\"},\"mode\":\"markers\",\"name\":\"subhashini\",\"orientation\":\"v\",\"showlegend\":true,\"x\":[\"Electronics and Electrical Engineering\"],\"xaxis\":\"x\",\"y\":[120],\"yaxis\":\"y\",\"type\":\"scatter\"},{\"hovertemplate\":\"Name=rajesh kumar.r<br>Department=%{x}<br>CodeKata Score=%{marker.size}<extra></extra>\",\"legendgroup\":\"rajesh kumar.r\",\"marker\":{\"color\":\"#ab63fa\",\"size\":[100],\"sizemode\":\"area\",\"sizeref\":61.25,\"symbol\":\"circle\"},\"mode\":\"markers\",\"name\":\"rajesh kumar.r\",\"orientation\":\"v\",\"showlegend\":true,\"x\":[\"Electronics and Communication Engineering\"],\"xaxis\":\"x\",\"y\":[100],\"yaxis\":\"y\",\"type\":\"scatter\"},{\"hovertemplate\":\"Name=j.bhuvaneshwari<br>Department=%{x}<br>CodeKata Score=%{marker.size}<extra></extra>\",\"legendgroup\":\"j.bhuvaneshwari\",\"marker\":{\"color\":\"#FFA15A\",\"size\":[100],\"sizemode\":\"area\",\"sizeref\":61.25,\"symbol\":\"circle\"},\"mode\":\"markers\",\"name\":\"j.bhuvaneshwari\",\"orientation\":\"v\",\"showlegend\":true,\"x\":[\"Electronics and Electrical Engineering\"],\"xaxis\":\"x\",\"y\":[100],\"yaxis\":\"y\",\"type\":\"scatter\"},{\"hovertemplate\":\"Name=santhosh<br>Department=%{x}<br>CodeKata Score=%{marker.size}<extra></extra>\",\"legendgroup\":\"santhosh\",\"marker\":{\"color\":\"#19d3f3\",\"size\":[60],\"sizemode\":\"area\",\"sizeref\":61.25,\"symbol\":\"circle\"},\"mode\":\"markers\",\"name\":\"santhosh\",\"orientation\":\"v\",\"showlegend\":true,\"x\":[\"Electronics and Electrical Engineering\"],\"xaxis\":\"x\",\"y\":[60],\"yaxis\":\"y\",\"type\":\"scatter\"},{\"hovertemplate\":\"Name=arun<br>Department=%{x}<br>CodeKata Score=%{marker.size}<extra></extra>\",\"legendgroup\":\"arun\",\"marker\":{\"color\":\"#FF6692\",\"size\":[40],\"sizemode\":\"area\",\"sizeref\":61.25,\"symbol\":\"circle\"},\"mode\":\"markers\",\"name\":\"arun\",\"orientation\":\"v\",\"showlegend\":true,\"x\":[\"Computer Science and Engineering\"],\"xaxis\":\"x\",\"y\":[40],\"yaxis\":\"y\",\"type\":\"scatter\"},{\"hovertemplate\":\"Name=j.jayanthi<br>Department=%{x}<br>CodeKata Score=%{marker.size}<extra></extra>\",\"legendgroup\":\"j.jayanthi\",\"marker\":{\"color\":\"#B6E880\",\"size\":[40],\"sizemode\":\"area\",\"sizeref\":61.25,\"symbol\":\"circle\"},\"mode\":\"markers\",\"name\":\"j.jayanthi\",\"orientation\":\"v\",\"showlegend\":true,\"x\":[\"Electronics and Electrical Engineering\"],\"xaxis\":\"x\",\"y\":[40],\"yaxis\":\"y\",\"type\":\"scatter\"},{\"hovertemplate\":\"Name=vikneshwaran<br>Department=%{x}<br>CodeKata Score=%{marker.size}<extra></extra>\",\"legendgroup\":\"vikneshwaran\",\"marker\":{\"color\":\"#FF97FF\",\"size\":[40],\"sizemode\":\"area\",\"sizeref\":61.25,\"symbol\":\"circle\"},\"mode\":\"markers\",\"name\":\"vikneshwaran\",\"orientation\":\"v\",\"showlegend\":true,\"x\":[\"Electronics and Electrical Engineering\"],\"xaxis\":\"x\",\"y\":[40],\"yaxis\":\"y\",\"type\":\"scatter\"},{\"hovertemplate\":\"Name=karthikeyans<br>Department=%{x}<br>CodeKata Score=%{marker.size}<extra></extra>\",\"legendgroup\":\"karthikeyans\",\"marker\":{\"color\":\"#FECB52\",\"size\":[0],\"sizemode\":\"area\",\"sizeref\":61.25,\"symbol\":\"circle\"},\"mode\":\"markers\",\"name\":\"karthikeyans\",\"orientation\":\"v\",\"showlegend\":true,\"x\":[\"Electronics and Electrical Engineering\"],\"xaxis\":\"x\",\"y\":[0],\"yaxis\":\"y\",\"type\":\"scatter\"},{\"hovertemplate\":\"Name=barath.p<br>Department=%{x}<br>CodeKata Score=%{marker.size}<extra></extra>\",\"legendgroup\":\"barath.p\",\"marker\":{\"color\":\"#636efa\",\"size\":[0],\"sizemode\":\"area\",\"sizeref\":61.25,\"symbol\":\"circle\"},\"mode\":\"markers\",\"name\":\"barath.p\",\"orientation\":\"v\",\"showlegend\":true,\"x\":[\"Electronics and Electrical Engineering\"],\"xaxis\":\"x\",\"y\":[0],\"yaxis\":\"y\",\"type\":\"scatter\"},{\"hovertemplate\":\"Name=n.ajith kumar<br>Department=%{x}<br>CodeKata Score=%{marker.size}<extra></extra>\",\"legendgroup\":\"n.ajith kumar\",\"marker\":{\"color\":\"#EF553B\",\"size\":[0],\"sizemode\":\"area\",\"sizeref\":61.25,\"symbol\":\"circle\"},\"mode\":\"markers\",\"name\":\"n.ajith kumar\",\"orientation\":\"v\",\"showlegend\":true,\"x\":[\"Electronics and Electrical Engineering\"],\"xaxis\":\"x\",\"y\":[0],\"yaxis\":\"y\",\"type\":\"scatter\"},{\"hovertemplate\":\"Name=mohamed nabi<br>Department=%{x}<br>CodeKata Score=%{marker.size}<extra></extra>\",\"legendgroup\":\"mohamed nabi\",\"marker\":{\"color\":\"#00cc96\",\"size\":[0],\"sizemode\":\"area\",\"sizeref\":61.25,\"symbol\":\"circle\"},\"mode\":\"markers\",\"name\":\"mohamed nabi\",\"orientation\":\"v\",\"showlegend\":true,\"x\":[\"Electronics and Electrical Engineering\"],\"xaxis\":\"x\",\"y\":[0],\"yaxis\":\"y\",\"type\":\"scatter\"},{\"hovertemplate\":\"Name=yaser ahamed.a<br>Department=%{x}<br>CodeKata Score=%{marker.size}<extra></extra>\",\"legendgroup\":\"yaser ahamed.a\",\"marker\":{\"color\":\"#ab63fa\",\"size\":[0],\"sizemode\":\"area\",\"sizeref\":61.25,\"symbol\":\"circle\"},\"mode\":\"markers\",\"name\":\"yaser ahamed.a\",\"orientation\":\"v\",\"showlegend\":true,\"x\":[\"Electronics and Electrical Engineering\"],\"xaxis\":\"x\",\"y\":[0],\"yaxis\":\"y\",\"type\":\"scatter\"},{\"hovertemplate\":\"Name=ashok kumar k<br>Department=%{x}<br>CodeKata Score=%{marker.size}<extra></extra>\",\"legendgroup\":\"ashok kumar k\",\"marker\":{\"color\":\"#FFA15A\",\"size\":[19400],\"sizemode\":\"area\",\"sizeref\":61.25,\"symbol\":\"circle\"},\"mode\":\"markers\",\"name\":\"ashok kumar k\",\"orientation\":\"v\",\"showlegend\":true,\"x\":[\"Electronics and Electrical Engineering\"],\"xaxis\":\"x\",\"y\":[19400],\"yaxis\":\"y\",\"type\":\"scatter\"},{\"hovertemplate\":\"Name=chandru<br>Department=%{x}<br>CodeKata Score=%{marker.size}<extra></extra>\",\"legendgroup\":\"chandru\",\"marker\":{\"color\":\"#19d3f3\",\"size\":[14490],\"sizemode\":\"area\",\"sizeref\":61.25,\"symbol\":\"circle\"},\"mode\":\"markers\",\"name\":\"chandru\",\"orientation\":\"v\",\"showlegend\":true,\"x\":[\"Computer Science and Engineering\"],\"xaxis\":\"x\",\"y\":[14490],\"yaxis\":\"y\",\"type\":\"scatter\"},{\"hovertemplate\":\"Name=ganesh ramkumar r<br>Department=%{x}<br>CodeKata Score=%{marker.size}<extra></extra>\",\"legendgroup\":\"ganesh ramkumar r\",\"marker\":{\"color\":\"#FF6692\",\"size\":[10790],\"sizemode\":\"area\",\"sizeref\":61.25,\"symbol\":\"circle\"},\"mode\":\"markers\",\"name\":\"ganesh ramkumar r\",\"orientation\":\"v\",\"showlegend\":true,\"x\":[\"Computer Science and Engineering\"],\"xaxis\":\"x\",\"y\":[10790],\"yaxis\":\"y\",\"type\":\"scatter\"},{\"hovertemplate\":\"Name=bodipudi harini<br>Department=%{x}<br>CodeKata Score=%{marker.size}<extra></extra>\",\"legendgroup\":\"bodipudi harini\",\"marker\":{\"color\":\"#B6E880\",\"size\":[10040],\"sizemode\":\"area\",\"sizeref\":61.25,\"symbol\":\"circle\"},\"mode\":\"markers\",\"name\":\"bodipudi harini\",\"orientation\":\"v\",\"showlegend\":true,\"x\":[\"Electronics and Communication Engineering\"],\"xaxis\":\"x\",\"y\":[10040],\"yaxis\":\"y\",\"type\":\"scatter\"},{\"hovertemplate\":\"Name=viinu v p<br>Department=%{x}<br>CodeKata Score=%{marker.size}<extra></extra>\",\"legendgroup\":\"viinu v p\",\"marker\":{\"color\":\"#FF97FF\",\"size\":[9150],\"sizemode\":\"area\",\"sizeref\":61.25,\"symbol\":\"circle\"},\"mode\":\"markers\",\"name\":\"viinu v p\",\"orientation\":\"v\",\"showlegend\":true,\"x\":[\"Electronics and Electrical Engineering\"],\"xaxis\":\"x\",\"y\":[9150],\"yaxis\":\"y\",\"type\":\"scatter\"},{\"hovertemplate\":\"Name=poojitha y<br>Department=%{x}<br>CodeKata Score=%{marker.size}<extra></extra>\",\"legendgroup\":\"poojitha y\",\"marker\":{\"color\":\"#FECB52\",\"size\":[8970],\"sizemode\":\"area\",\"sizeref\":61.25,\"symbol\":\"circle\"},\"mode\":\"markers\",\"name\":\"poojitha y\",\"orientation\":\"v\",\"showlegend\":true,\"x\":[\"Computer Science and Engineering\"],\"xaxis\":\"x\",\"y\":[8970],\"yaxis\":\"y\",\"type\":\"scatter\"},{\"hovertemplate\":\"Name=gowtham chandrasekaran<br>Department=%{x}<br>CodeKata Score=%{marker.size}<extra></extra>\",\"legendgroup\":\"gowtham chandrasekaran\",\"marker\":{\"color\":\"#636efa\",\"size\":[8950],\"sizemode\":\"area\",\"sizeref\":61.25,\"symbol\":\"circle\"},\"mode\":\"markers\",\"name\":\"gowtham chandrasekaran\",\"orientation\":\"v\",\"showlegend\":true,\"x\":[\"Computer Science and Engineering\"],\"xaxis\":\"x\",\"y\":[8950],\"yaxis\":\"y\",\"type\":\"scatter\"},{\"hovertemplate\":\"Name=gowtham r<br>Department=%{x}<br>CodeKata Score=%{marker.size}<extra></extra>\",\"legendgroup\":\"gowtham r\",\"marker\":{\"color\":\"#EF553B\",\"size\":[8650],\"sizemode\":\"area\",\"sizeref\":61.25,\"symbol\":\"circle\"},\"mode\":\"markers\",\"name\":\"gowtham r\",\"orientation\":\"v\",\"showlegend\":true,\"x\":[\"Electronics and Communication Engineering\"],\"xaxis\":\"x\",\"y\":[8650],\"yaxis\":\"y\",\"type\":\"scatter\"},{\"hovertemplate\":\"Name=shifak n<br>Department=%{x}<br>CodeKata Score=%{marker.size}<extra></extra>\",\"legendgroup\":\"shifak n\",\"marker\":{\"color\":\"#00cc96\",\"size\":[8320],\"sizemode\":\"area\",\"sizeref\":61.25,\"symbol\":\"circle\"},\"mode\":\"markers\",\"name\":\"shifak n\",\"orientation\":\"v\",\"showlegend\":true,\"x\":[\"Electronics and Electrical Engineering\"],\"xaxis\":\"x\",\"y\":[8320],\"yaxis\":\"y\",\"type\":\"scatter\"},{\"hovertemplate\":\"Name=rushitha<br>Department=%{x}<br>CodeKata Score=%{marker.size}<extra></extra>\",\"legendgroup\":\"rushitha\",\"marker\":{\"color\":\"#ab63fa\",\"size\":[8090],\"sizemode\":\"area\",\"sizeref\":61.25,\"symbol\":\"circle\"},\"mode\":\"markers\",\"name\":\"rushitha\",\"orientation\":\"v\",\"showlegend\":true,\"x\":[\"Computer Science and Engineering\"],\"xaxis\":\"x\",\"y\":[8090],\"yaxis\":\"y\",\"type\":\"scatter\"},{\"hovertemplate\":\"Name=balaraman muthupandi<br>Department=%{x}<br>CodeKata Score=%{marker.size}<extra></extra>\",\"legendgroup\":\"balaraman muthupandi\",\"marker\":{\"color\":\"#FFA15A\",\"size\":[8050],\"sizemode\":\"area\",\"sizeref\":61.25,\"symbol\":\"circle\"},\"mode\":\"markers\",\"name\":\"balaraman muthupandi\",\"orientation\":\"v\",\"showlegend\":true,\"x\":[\"Computer Science and Engineering\"],\"xaxis\":\"x\",\"y\":[8050],\"yaxis\":\"y\",\"type\":\"scatter\"},{\"hovertemplate\":\"Name=jpradhap<br>Department=%{x}<br>CodeKata Score=%{marker.size}<extra></extra>\",\"legendgroup\":\"jpradhap\",\"marker\":{\"color\":\"#19d3f3\",\"size\":[8030],\"sizemode\":\"area\",\"sizeref\":61.25,\"symbol\":\"circle\"},\"mode\":\"markers\",\"name\":\"jpradhap\",\"orientation\":\"v\",\"showlegend\":true,\"x\":[\"Electronics and Electrical Engineering\"],\"xaxis\":\"x\",\"y\":[8030],\"yaxis\":\"y\",\"type\":\"scatter\"},{\"hovertemplate\":\"Name=sriramkumar b<br>Department=%{x}<br>CodeKata Score=%{marker.size}<extra></extra>\",\"legendgroup\":\"sriramkumar b\",\"marker\":{\"color\":\"#FF6692\",\"size\":[7940],\"sizemode\":\"area\",\"sizeref\":61.25,\"symbol\":\"circle\"},\"mode\":\"markers\",\"name\":\"sriramkumar b\",\"orientation\":\"v\",\"showlegend\":true,\"x\":[\"Computer Science and Engineering\"],\"xaxis\":\"x\",\"y\":[7940],\"yaxis\":\"y\",\"type\":\"scatter\"},{\"hovertemplate\":\"Name=praneetha<br>Department=%{x}<br>CodeKata Score=%{marker.size}<extra></extra>\",\"legendgroup\":\"praneetha\",\"marker\":{\"color\":\"#B6E880\",\"size\":[7730],\"sizemode\":\"area\",\"sizeref\":61.25,\"symbol\":\"circle\"},\"mode\":\"markers\",\"name\":\"praneetha\",\"orientation\":\"v\",\"showlegend\":true,\"x\":[\"Electronics and Communication Engineering\"],\"xaxis\":\"x\",\"y\":[7730],\"yaxis\":\"y\",\"type\":\"scatter\"},{\"hovertemplate\":\"Name=rahul raj k<br>Department=%{x}<br>CodeKata Score=%{marker.size}<extra></extra>\",\"legendgroup\":\"rahul raj k\",\"marker\":{\"color\":\"#FF97FF\",\"size\":[7640],\"sizemode\":\"area\",\"sizeref\":61.25,\"symbol\":\"circle\"},\"mode\":\"markers\",\"name\":\"rahul raj k\",\"orientation\":\"v\",\"showlegend\":true,\"x\":[\"Computer Science and Engineering\"],\"xaxis\":\"x\",\"y\":[7640],\"yaxis\":\"y\",\"type\":\"scatter\"},{\"hovertemplate\":\"Name=guhan s<br>Department=%{x}<br>CodeKata Score=%{marker.size}<extra></extra>\",\"legendgroup\":\"guhan s\",\"marker\":{\"color\":\"#FECB52\",\"size\":[7630],\"sizemode\":\"area\",\"sizeref\":61.25,\"symbol\":\"circle\"},\"mode\":\"markers\",\"name\":\"guhan s\",\"orientation\":\"v\",\"showlegend\":true,\"x\":[\"Electronics and Communication Engineering\"],\"xaxis\":\"x\",\"y\":[7630],\"yaxis\":\"y\",\"type\":\"scatter\"},{\"hovertemplate\":\"Name=suryarajan s<br>Department=%{x}<br>CodeKata Score=%{marker.size}<extra></extra>\",\"legendgroup\":\"suryarajan s\",\"marker\":{\"color\":\"#636efa\",\"size\":[7550],\"sizemode\":\"area\",\"sizeref\":61.25,\"symbol\":\"circle\"},\"mode\":\"markers\",\"name\":\"suryarajan s\",\"orientation\":\"v\",\"showlegend\":true,\"x\":[\"Computer Science and Engineering\"],\"xaxis\":\"x\",\"y\":[7550],\"yaxis\":\"y\",\"type\":\"scatter\"},{\"hovertemplate\":\"Name=narasimhan y l<br>Department=%{x}<br>CodeKata Score=%{marker.size}<extra></extra>\",\"legendgroup\":\"narasimhan y l\",\"marker\":{\"color\":\"#EF553B\",\"size\":[6800],\"sizemode\":\"area\",\"sizeref\":61.25,\"symbol\":\"circle\"},\"mode\":\"markers\",\"name\":\"narasimhan y l\",\"orientation\":\"v\",\"showlegend\":true,\"x\":[\"Computer Science and Engineering\"],\"xaxis\":\"x\",\"y\":[6800],\"yaxis\":\"y\",\"type\":\"scatter\"},{\"hovertemplate\":\"Name=leelakrishna<br>Department=%{x}<br>CodeKata Score=%{marker.size}<extra></extra>\",\"legendgroup\":\"leelakrishna\",\"marker\":{\"color\":\"#00cc96\",\"size\":[6640],\"sizemode\":\"area\",\"sizeref\":61.25,\"symbol\":\"circle\"},\"mode\":\"markers\",\"name\":\"leelakrishna\",\"orientation\":\"v\",\"showlegend\":true,\"x\":[\"Computer Science and Engineering\"],\"xaxis\":\"x\",\"y\":[6640],\"yaxis\":\"y\",\"type\":\"scatter\"},{\"hovertemplate\":\"Name=premsagarreddy<br>Department=%{x}<br>CodeKata Score=%{marker.size}<extra></extra>\",\"legendgroup\":\"premsagarreddy\",\"marker\":{\"color\":\"#ab63fa\",\"size\":[6290],\"sizemode\":\"area\",\"sizeref\":61.25,\"symbol\":\"circle\"},\"mode\":\"markers\",\"name\":\"premsagarreddy\",\"orientation\":\"v\",\"showlegend\":true,\"x\":[\"Computer Science and Engineering\"],\"xaxis\":\"x\",\"y\":[6290],\"yaxis\":\"y\",\"type\":\"scatter\"},{\"hovertemplate\":\"Name=pradeeban<br>Department=%{x}<br>CodeKata Score=%{marker.size}<extra></extra>\",\"legendgroup\":\"pradeeban\",\"marker\":{\"color\":\"#FFA15A\",\"size\":[6090],\"sizemode\":\"area\",\"sizeref\":61.25,\"symbol\":\"circle\"},\"mode\":\"markers\",\"name\":\"pradeeban\",\"orientation\":\"v\",\"showlegend\":true,\"x\":[\"Computer Science and Engineering\"],\"xaxis\":\"x\",\"y\":[6090],\"yaxis\":\"y\",\"type\":\"scatter\"},{\"hovertemplate\":\"Name=santhoshini<br>Department=%{x}<br>CodeKata Score=%{marker.size}<extra></extra>\",\"legendgroup\":\"santhoshini\",\"marker\":{\"color\":\"#19d3f3\",\"size\":[5740],\"sizemode\":\"area\",\"sizeref\":61.25,\"symbol\":\"circle\"},\"mode\":\"markers\",\"name\":\"santhoshini\",\"orientation\":\"v\",\"showlegend\":true,\"x\":[\"Computer Science and Engineering\"],\"xaxis\":\"x\",\"y\":[5740],\"yaxis\":\"y\",\"type\":\"scatter\"},{\"hovertemplate\":\"Name=mukesh s m<br>Department=%{x}<br>CodeKata Score=%{marker.size}<extra></extra>\",\"legendgroup\":\"mukesh s m\",\"marker\":{\"color\":\"#FF6692\",\"size\":[5200],\"sizemode\":\"area\",\"sizeref\":61.25,\"symbol\":\"circle\"},\"mode\":\"markers\",\"name\":\"mukesh s m\",\"orientation\":\"v\",\"showlegend\":true,\"x\":[\"Computer Science and Engineering\"],\"xaxis\":\"x\",\"y\":[5200],\"yaxis\":\"y\",\"type\":\"scatter\"},{\"hovertemplate\":\"Name=p.govardhanan<br>Department=%{x}<br>CodeKata Score=%{marker.size}<extra></extra>\",\"legendgroup\":\"p.govardhanan\",\"marker\":{\"color\":\"#B6E880\",\"size\":[5050],\"sizemode\":\"area\",\"sizeref\":61.25,\"symbol\":\"circle\"},\"mode\":\"markers\",\"name\":\"p.govardhanan\",\"orientation\":\"v\",\"showlegend\":true,\"x\":[\"Electronics and Communication Engineering\"],\"xaxis\":\"x\",\"y\":[5050],\"yaxis\":\"y\",\"type\":\"scatter\"},{\"hovertemplate\":\"Name=shaik danish<br>Department=%{x}<br>CodeKata Score=%{marker.size}<extra></extra>\",\"legendgroup\":\"shaik danish\",\"marker\":{\"color\":\"#FF97FF\",\"size\":[4820],\"sizemode\":\"area\",\"sizeref\":61.25,\"symbol\":\"circle\"},\"mode\":\"markers\",\"name\":\"shaik danish\",\"orientation\":\"v\",\"showlegend\":true,\"x\":[\"Computer Science and Engineering\"],\"xaxis\":\"x\",\"y\":[4820],\"yaxis\":\"y\",\"type\":\"scatter\"},{\"hovertemplate\":\"Name=sridhar.s<br>Department=%{x}<br>CodeKata Score=%{marker.size}<extra></extra>\",\"legendgroup\":\"sridhar.s\",\"marker\":{\"color\":\"#FECB52\",\"size\":[4440],\"sizemode\":\"area\",\"sizeref\":61.25,\"symbol\":\"circle\"},\"mode\":\"markers\",\"name\":\"sridhar.s\",\"orientation\":\"v\",\"showlegend\":true,\"x\":[\"Computer Science and Engineering\"],\"xaxis\":\"x\",\"y\":[4440],\"yaxis\":\"y\",\"type\":\"scatter\"},{\"hovertemplate\":\"Name=vimalesh fernando<br>Department=%{x}<br>CodeKata Score=%{marker.size}<extra></extra>\",\"legendgroup\":\"vimalesh fernando\",\"marker\":{\"color\":\"#636efa\",\"size\":[4170],\"sizemode\":\"area\",\"sizeref\":61.25,\"symbol\":\"circle\"},\"mode\":\"markers\",\"name\":\"vimalesh fernando\",\"orientation\":\"v\",\"showlegend\":true,\"x\":[\"Computer Science and Engineering\"],\"xaxis\":\"x\",\"y\":[4170],\"yaxis\":\"y\",\"type\":\"scatter\"},{\"hovertemplate\":\"Name=m.karthikeyan<br>Department=%{x}<br>CodeKata Score=%{marker.size}<extra></extra>\",\"legendgroup\":\"m.karthikeyan\",\"marker\":{\"color\":\"#EF553B\",\"size\":[4020],\"sizemode\":\"area\",\"sizeref\":61.25,\"symbol\":\"circle\"},\"mode\":\"markers\",\"name\":\"m.karthikeyan\",\"orientation\":\"v\",\"showlegend\":true,\"x\":[\"Computer Science and Engineering\"],\"xaxis\":\"x\",\"y\":[4020],\"yaxis\":\"y\",\"type\":\"scatter\"},{\"hovertemplate\":\"Name=abishak s<br>Department=%{x}<br>CodeKata Score=%{marker.size}<extra></extra>\",\"legendgroup\":\"abishak s\",\"marker\":{\"color\":\"#00cc96\",\"size\":[3220],\"sizemode\":\"area\",\"sizeref\":61.25,\"symbol\":\"circle\"},\"mode\":\"markers\",\"name\":\"abishak s\",\"orientation\":\"v\",\"showlegend\":true,\"x\":[\"Electronics and Communication Engineering\"],\"xaxis\":\"x\",\"y\":[3220],\"yaxis\":\"y\",\"type\":\"scatter\"},{\"hovertemplate\":\"Name=praveen raj j<br>Department=%{x}<br>CodeKata Score=%{marker.size}<extra></extra>\",\"legendgroup\":\"praveen raj j\",\"marker\":{\"color\":\"#ab63fa\",\"size\":[2380],\"sizemode\":\"area\",\"sizeref\":61.25,\"symbol\":\"circle\"},\"mode\":\"markers\",\"name\":\"praveen raj j\",\"orientation\":\"v\",\"showlegend\":true,\"x\":[\"Computer Science and Engineering\"],\"xaxis\":\"x\",\"y\":[2380],\"yaxis\":\"y\",\"type\":\"scatter\"},{\"hovertemplate\":\"Name=amarnath d<br>Department=%{x}<br>CodeKata Score=%{marker.size}<extra></extra>\",\"legendgroup\":\"amarnath d\",\"marker\":{\"color\":\"#FFA15A\",\"size\":[1890],\"sizemode\":\"area\",\"sizeref\":61.25,\"symbol\":\"circle\"},\"mode\":\"markers\",\"name\":\"amarnath d\",\"orientation\":\"v\",\"showlegend\":true,\"x\":[\"Electronics and Communication Engineering\"],\"xaxis\":\"x\",\"y\":[1890],\"yaxis\":\"y\",\"type\":\"scatter\"},{\"hovertemplate\":\"Name=bala<br>Department=%{x}<br>CodeKata Score=%{marker.size}<extra></extra>\",\"legendgroup\":\"bala\",\"marker\":{\"color\":\"#19d3f3\",\"size\":[1720],\"sizemode\":\"area\",\"sizeref\":61.25,\"symbol\":\"circle\"},\"mode\":\"markers\",\"name\":\"bala\",\"orientation\":\"v\",\"showlegend\":true,\"x\":[\"Electronics and Communication Engineering\"],\"xaxis\":\"x\",\"y\":[1720],\"yaxis\":\"y\",\"type\":\"scatter\"},{\"hovertemplate\":\"Name=xy z<br>Department=%{x}<br>CodeKata Score=%{marker.size}<extra></extra>\",\"legendgroup\":\"xy z\",\"marker\":{\"color\":\"#FF6692\",\"size\":[0],\"sizemode\":\"area\",\"sizeref\":61.25,\"symbol\":\"circle\"},\"mode\":\"markers\",\"name\":\"xy z\",\"orientation\":\"v\",\"showlegend\":true,\"x\":[\"Computer Science and Engineering\"],\"xaxis\":\"x\",\"y\":[0],\"yaxis\":\"y\",\"type\":\"scatter\"},{\"hovertemplate\":\"Name=hariharan<br>Department=%{x}<br>CodeKata Score=%{marker.size}<extra></extra>\",\"legendgroup\":\"hariharan\",\"marker\":{\"color\":\"#B6E880\",\"size\":[0],\"sizemode\":\"area\",\"sizeref\":61.25,\"symbol\":\"circle\"},\"mode\":\"markers\",\"name\":\"hariharan\",\"orientation\":\"v\",\"showlegend\":true,\"x\":[\"Computer Science and Engineering\"],\"xaxis\":\"x\",\"y\":[0],\"yaxis\":\"y\",\"type\":\"scatter\"}],                        {\"template\":{\"data\":{\"bar\":[{\"error_x\":{\"color\":\"#2a3f5f\"},\"error_y\":{\"color\":\"#2a3f5f\"},\"marker\":{\"line\":{\"color\":\"#E5ECF6\",\"width\":0.5},\"pattern\":{\"fillmode\":\"overlay\",\"size\":10,\"solidity\":0.2}},\"type\":\"bar\"}],\"barpolar\":[{\"marker\":{\"line\":{\"color\":\"#E5ECF6\",\"width\":0.5},\"pattern\":{\"fillmode\":\"overlay\",\"size\":10,\"solidity\":0.2}},\"type\":\"barpolar\"}],\"carpet\":[{\"aaxis\":{\"endlinecolor\":\"#2a3f5f\",\"gridcolor\":\"white\",\"linecolor\":\"white\",\"minorgridcolor\":\"white\",\"startlinecolor\":\"#2a3f5f\"},\"baxis\":{\"endlinecolor\":\"#2a3f5f\",\"gridcolor\":\"white\",\"linecolor\":\"white\",\"minorgridcolor\":\"white\",\"startlinecolor\":\"#2a3f5f\"},\"type\":\"carpet\"}],\"choropleth\":[{\"colorbar\":{\"outlinewidth\":0,\"ticks\":\"\"},\"type\":\"choropleth\"}],\"contour\":[{\"colorbar\":{\"outlinewidth\":0,\"ticks\":\"\"},\"colorscale\":[[0.0,\"#0d0887\"],[0.1111111111111111,\"#46039f\"],[0.2222222222222222,\"#7201a8\"],[0.3333333333333333,\"#9c179e\"],[0.4444444444444444,\"#bd3786\"],[0.5555555555555556,\"#d8576b\"],[0.6666666666666666,\"#ed7953\"],[0.7777777777777778,\"#fb9f3a\"],[0.8888888888888888,\"#fdca26\"],[1.0,\"#f0f921\"]],\"type\":\"contour\"}],\"contourcarpet\":[{\"colorbar\":{\"outlinewidth\":0,\"ticks\":\"\"},\"type\":\"contourcarpet\"}],\"heatmap\":[{\"colorbar\":{\"outlinewidth\":0,\"ticks\":\"\"},\"colorscale\":[[0.0,\"#0d0887\"],[0.1111111111111111,\"#46039f\"],[0.2222222222222222,\"#7201a8\"],[0.3333333333333333,\"#9c179e\"],[0.4444444444444444,\"#bd3786\"],[0.5555555555555556,\"#d8576b\"],[0.6666666666666666,\"#ed7953\"],[0.7777777777777778,\"#fb9f3a\"],[0.8888888888888888,\"#fdca26\"],[1.0,\"#f0f921\"]],\"type\":\"heatmap\"}],\"heatmapgl\":[{\"colorbar\":{\"outlinewidth\":0,\"ticks\":\"\"},\"colorscale\":[[0.0,\"#0d0887\"],[0.1111111111111111,\"#46039f\"],[0.2222222222222222,\"#7201a8\"],[0.3333333333333333,\"#9c179e\"],[0.4444444444444444,\"#bd3786\"],[0.5555555555555556,\"#d8576b\"],[0.6666666666666666,\"#ed7953\"],[0.7777777777777778,\"#fb9f3a\"],[0.8888888888888888,\"#fdca26\"],[1.0,\"#f0f921\"]],\"type\":\"heatmapgl\"}],\"histogram\":[{\"marker\":{\"pattern\":{\"fillmode\":\"overlay\",\"size\":10,\"solidity\":0.2}},\"type\":\"histogram\"}],\"histogram2d\":[{\"colorbar\":{\"outlinewidth\":0,\"ticks\":\"\"},\"colorscale\":[[0.0,\"#0d0887\"],[0.1111111111111111,\"#46039f\"],[0.2222222222222222,\"#7201a8\"],[0.3333333333333333,\"#9c179e\"],[0.4444444444444444,\"#bd3786\"],[0.5555555555555556,\"#d8576b\"],[0.6666666666666666,\"#ed7953\"],[0.7777777777777778,\"#fb9f3a\"],[0.8888888888888888,\"#fdca26\"],[1.0,\"#f0f921\"]],\"type\":\"histogram2d\"}],\"histogram2dcontour\":[{\"colorbar\":{\"outlinewidth\":0,\"ticks\":\"\"},\"colorscale\":[[0.0,\"#0d0887\"],[0.1111111111111111,\"#46039f\"],[0.2222222222222222,\"#7201a8\"],[0.3333333333333333,\"#9c179e\"],[0.4444444444444444,\"#bd3786\"],[0.5555555555555556,\"#d8576b\"],[0.6666666666666666,\"#ed7953\"],[0.7777777777777778,\"#fb9f3a\"],[0.8888888888888888,\"#fdca26\"],[1.0,\"#f0f921\"]],\"type\":\"histogram2dcontour\"}],\"mesh3d\":[{\"colorbar\":{\"outlinewidth\":0,\"ticks\":\"\"},\"type\":\"mesh3d\"}],\"parcoords\":[{\"line\":{\"colorbar\":{\"outlinewidth\":0,\"ticks\":\"\"}},\"type\":\"parcoords\"}],\"pie\":[{\"automargin\":true,\"type\":\"pie\"}],\"scatter\":[{\"marker\":{\"colorbar\":{\"outlinewidth\":0,\"ticks\":\"\"}},\"type\":\"scatter\"}],\"scatter3d\":[{\"line\":{\"colorbar\":{\"outlinewidth\":0,\"ticks\":\"\"}},\"marker\":{\"colorbar\":{\"outlinewidth\":0,\"ticks\":\"\"}},\"type\":\"scatter3d\"}],\"scattercarpet\":[{\"marker\":{\"colorbar\":{\"outlinewidth\":0,\"ticks\":\"\"}},\"type\":\"scattercarpet\"}],\"scattergeo\":[{\"marker\":{\"colorbar\":{\"outlinewidth\":0,\"ticks\":\"\"}},\"type\":\"scattergeo\"}],\"scattergl\":[{\"marker\":{\"colorbar\":{\"outlinewidth\":0,\"ticks\":\"\"}},\"type\":\"scattergl\"}],\"scattermapbox\":[{\"marker\":{\"colorbar\":{\"outlinewidth\":0,\"ticks\":\"\"}},\"type\":\"scattermapbox\"}],\"scatterpolar\":[{\"marker\":{\"colorbar\":{\"outlinewidth\":0,\"ticks\":\"\"}},\"type\":\"scatterpolar\"}],\"scatterpolargl\":[{\"marker\":{\"colorbar\":{\"outlinewidth\":0,\"ticks\":\"\"}},\"type\":\"scatterpolargl\"}],\"scatterternary\":[{\"marker\":{\"colorbar\":{\"outlinewidth\":0,\"ticks\":\"\"}},\"type\":\"scatterternary\"}],\"surface\":[{\"colorbar\":{\"outlinewidth\":0,\"ticks\":\"\"},\"colorscale\":[[0.0,\"#0d0887\"],[0.1111111111111111,\"#46039f\"],[0.2222222222222222,\"#7201a8\"],[0.3333333333333333,\"#9c179e\"],[0.4444444444444444,\"#bd3786\"],[0.5555555555555556,\"#d8576b\"],[0.6666666666666666,\"#ed7953\"],[0.7777777777777778,\"#fb9f3a\"],[0.8888888888888888,\"#fdca26\"],[1.0,\"#f0f921\"]],\"type\":\"surface\"}],\"table\":[{\"cells\":{\"fill\":{\"color\":\"#EBF0F8\"},\"line\":{\"color\":\"white\"}},\"header\":{\"fill\":{\"color\":\"#C8D4E3\"},\"line\":{\"color\":\"white\"}},\"type\":\"table\"}]},\"layout\":{\"annotationdefaults\":{\"arrowcolor\":\"#2a3f5f\",\"arrowhead\":0,\"arrowwidth\":1},\"autotypenumbers\":\"strict\",\"coloraxis\":{\"colorbar\":{\"outlinewidth\":0,\"ticks\":\"\"}},\"colorscale\":{\"diverging\":[[0,\"#8e0152\"],[0.1,\"#c51b7d\"],[0.2,\"#de77ae\"],[0.3,\"#f1b6da\"],[0.4,\"#fde0ef\"],[0.5,\"#f7f7f7\"],[0.6,\"#e6f5d0\"],[0.7,\"#b8e186\"],[0.8,\"#7fbc41\"],[0.9,\"#4d9221\"],[1,\"#276419\"]],\"sequential\":[[0.0,\"#0d0887\"],[0.1111111111111111,\"#46039f\"],[0.2222222222222222,\"#7201a8\"],[0.3333333333333333,\"#9c179e\"],[0.4444444444444444,\"#bd3786\"],[0.5555555555555556,\"#d8576b\"],[0.6666666666666666,\"#ed7953\"],[0.7777777777777778,\"#fb9f3a\"],[0.8888888888888888,\"#fdca26\"],[1.0,\"#f0f921\"]],\"sequentialminus\":[[0.0,\"#0d0887\"],[0.1111111111111111,\"#46039f\"],[0.2222222222222222,\"#7201a8\"],[0.3333333333333333,\"#9c179e\"],[0.4444444444444444,\"#bd3786\"],[0.5555555555555556,\"#d8576b\"],[0.6666666666666666,\"#ed7953\"],[0.7777777777777778,\"#fb9f3a\"],[0.8888888888888888,\"#fdca26\"],[1.0,\"#f0f921\"]]},\"colorway\":[\"#636efa\",\"#EF553B\",\"#00cc96\",\"#ab63fa\",\"#FFA15A\",\"#19d3f3\",\"#FF6692\",\"#B6E880\",\"#FF97FF\",\"#FECB52\"],\"font\":{\"color\":\"#2a3f5f\"},\"geo\":{\"bgcolor\":\"white\",\"lakecolor\":\"white\",\"landcolor\":\"#E5ECF6\",\"showlakes\":true,\"showland\":true,\"subunitcolor\":\"white\"},\"hoverlabel\":{\"align\":\"left\"},\"hovermode\":\"closest\",\"mapbox\":{\"style\":\"light\"},\"paper_bgcolor\":\"white\",\"plot_bgcolor\":\"#E5ECF6\",\"polar\":{\"angularaxis\":{\"gridcolor\":\"white\",\"linecolor\":\"white\",\"ticks\":\"\"},\"bgcolor\":\"#E5ECF6\",\"radialaxis\":{\"gridcolor\":\"white\",\"linecolor\":\"white\",\"ticks\":\"\"}},\"scene\":{\"xaxis\":{\"backgroundcolor\":\"#E5ECF6\",\"gridcolor\":\"white\",\"gridwidth\":2,\"linecolor\":\"white\",\"showbackground\":true,\"ticks\":\"\",\"zerolinecolor\":\"white\"},\"yaxis\":{\"backgroundcolor\":\"#E5ECF6\",\"gridcolor\":\"white\",\"gridwidth\":2,\"linecolor\":\"white\",\"showbackground\":true,\"ticks\":\"\",\"zerolinecolor\":\"white\"},\"zaxis\":{\"backgroundcolor\":\"#E5ECF6\",\"gridcolor\":\"white\",\"gridwidth\":2,\"linecolor\":\"white\",\"showbackground\":true,\"ticks\":\"\",\"zerolinecolor\":\"white\"}},\"shapedefaults\":{\"line\":{\"color\":\"#2a3f5f\"}},\"ternary\":{\"aaxis\":{\"gridcolor\":\"white\",\"linecolor\":\"white\",\"ticks\":\"\"},\"baxis\":{\"gridcolor\":\"white\",\"linecolor\":\"white\",\"ticks\":\"\"},\"bgcolor\":\"#E5ECF6\",\"caxis\":{\"gridcolor\":\"white\",\"linecolor\":\"white\",\"ticks\":\"\"}},\"title\":{\"x\":0.05},\"xaxis\":{\"automargin\":true,\"gridcolor\":\"white\",\"linecolor\":\"white\",\"ticks\":\"\",\"title\":{\"standoff\":15},\"zerolinecolor\":\"white\",\"zerolinewidth\":2},\"yaxis\":{\"automargin\":true,\"gridcolor\":\"white\",\"linecolor\":\"white\",\"ticks\":\"\",\"title\":{\"standoff\":15},\"zerolinecolor\":\"white\",\"zerolinewidth\":2}}},\"xaxis\":{\"anchor\":\"y\",\"domain\":[0.0,1.0],\"title\":{\"text\":\"Department\"}},\"yaxis\":{\"anchor\":\"x\",\"domain\":[0.0,1.0],\"title\":{\"text\":\"CodeKata Score\"}},\"legend\":{\"title\":{\"text\":\"Name\"},\"tracegroupgap\":0,\"itemsizing\":\"constant\"},\"title\":{\"text\":\"Department wise codekata score and name\"}},                        {\"responsive\": true}                    ).then(function(){\n",
              "                            \n",
              "var gd = document.getElementById('1a721456-ad26-483f-a733-84009930ff6b');\n",
              "var x = new MutationObserver(function (mutations, observer) {{\n",
              "        var display = window.getComputedStyle(gd).display;\n",
              "        if (!display || display === 'none') {{\n",
              "            console.log([gd, 'removed!']);\n",
              "            Plotly.purge(gd);\n",
              "            observer.disconnect();\n",
              "        }}\n",
              "}});\n",
              "\n",
              "// Listen for the removal of the full notebook cells\n",
              "var notebookContainer = gd.closest('#notebook-container');\n",
              "if (notebookContainer) {{\n",
              "    x.observe(notebookContainer, {childList: true});\n",
              "}}\n",
              "\n",
              "// Listen for the clearing of the current output cell\n",
              "var outputEl = gd.closest('.output');\n",
              "if (outputEl) {{\n",
              "    x.observe(outputEl, {childList: true});\n",
              "}}\n",
              "\n",
              "                        })                };                            </script>        </div>\n",
              "</body>\n",
              "</html>"
            ]
          },
          "metadata": {}
        }
      ]
    },
    {
      "cell_type": "code",
      "source": [
        "toppername=[]"
      ],
      "metadata": {
        "id": "O80uTkAT6bse"
      },
      "execution_count": 210,
      "outputs": []
    },
    {
      "cell_type": "code",
      "source": [
        "x1=df3[df3[\"Department\"]==\"Computer Science and Engineering\"]\n",
        "mcs=x1[\"CodeKata Score\"].max()\n",
        "toppername.append(x1.Name[x1[\"CodeKata Score\"]==x1[\"CodeKata Score\"].max()].values[0])\n",
        "x2=df3[df3[\"Department\"]==\"Electronics and Communication Engineering\"]\n",
        "me=x2[\"CodeKata Score\"].max()\n",
        "toppername.append(x2.Name[x2[\"CodeKata Score\"]==x2[\"CodeKata Score\"].max()].values[0])\n",
        "x3=df3[df3[\"Department\"]==\"Electronics and Electrical Engineering\"]\n",
        "mee=x3[\"CodeKata Score\"].max()\n",
        "toppername.append(x3.Name[x3[\"CodeKata Score\"]==x3[\"CodeKata Score\"].max()].values[0])"
      ],
      "metadata": {
        "id": "bgi0DAjd2DzK"
      },
      "execution_count": 211,
      "outputs": []
    },
    {
      "cell_type": "code",
      "source": [
        "print(toppername)"
      ],
      "metadata": {
        "colab": {
          "base_uri": "https://localhost:8080/",
          "height": 0
        },
        "id": "gcemqhL28R8B",
        "outputId": "965e3274-74ec-43c7-f20e-285c893c6963"
      },
      "execution_count": 212,
      "outputs": [
        {
          "output_type": "stream",
          "name": "stdout",
          "text": [
            "['a.dharani', 'bodipudi harini', 'ashok kumar k']\n"
          ]
        }
      ]
    },
    {
      "cell_type": "code",
      "source": [
        "z1=[\"Computer Science\",\"Electronics and Communication Engineering\",\"Electronics and Electrical Engineering\"]\n",
        "z2=[mcs,me,mee]\n",
        "print(\"\\nDepartment wise toppers names\")\n",
        "fig=px.bar(x=z1,y=z2, color=toppername,title=\"Department wise Topper\")\n",
        "fig.update_layout(\n",
        "    title=\"Department wise toppers names\"\n",
        ")\n",
        "fig.show()"
      ],
      "metadata": {
        "colab": {
          "base_uri": "https://localhost:8080/",
          "height": 577
        },
        "id": "wdQWjEXh2Dqx",
        "outputId": "f6d08de5-9459-436b-eb9f-fb26ed31e66c"
      },
      "execution_count": 230,
      "outputs": [
        {
          "output_type": "stream",
          "name": "stdout",
          "text": [
            "\n",
            "Department wise toppers names\n"
          ]
        },
        {
          "output_type": "display_data",
          "data": {
            "text/html": [
              "<html>\n",
              "<head><meta charset=\"utf-8\" /></head>\n",
              "<body>\n",
              "    <div>            <script src=\"https://cdnjs.cloudflare.com/ajax/libs/mathjax/2.7.5/MathJax.js?config=TeX-AMS-MML_SVG\"></script><script type=\"text/javascript\">if (window.MathJax) {MathJax.Hub.Config({SVG: {font: \"STIX-Web\"}});}</script>                <script type=\"text/javascript\">window.PlotlyConfig = {MathJaxConfig: 'local'};</script>\n",
              "        <script src=\"https://cdn.plot.ly/plotly-2.8.3.min.js\"></script>                <div id=\"ecef9442-d9bc-49ce-9a48-9e076f66aa46\" class=\"plotly-graph-div\" style=\"height:525px; width:100%;\"></div>            <script type=\"text/javascript\">                                    window.PLOTLYENV=window.PLOTLYENV || {};                                    if (document.getElementById(\"ecef9442-d9bc-49ce-9a48-9e076f66aa46\")) {                    Plotly.newPlot(                        \"ecef9442-d9bc-49ce-9a48-9e076f66aa46\",                        [{\"alignmentgroup\":\"True\",\"hovertemplate\":\"color=a.dharani<br>x=%{x}<br>y=%{y}<extra></extra>\",\"legendgroup\":\"a.dharani\",\"marker\":{\"color\":\"#636efa\",\"pattern\":{\"shape\":\"\"}},\"name\":\"a.dharani\",\"offsetgroup\":\"a.dharani\",\"orientation\":\"v\",\"showlegend\":true,\"textposition\":\"auto\",\"x\":[\"Computer Science\"],\"xaxis\":\"x\",\"y\":[24500],\"yaxis\":\"y\",\"type\":\"bar\"},{\"alignmentgroup\":\"True\",\"hovertemplate\":\"color=bodipudi harini<br>x=%{x}<br>y=%{y}<extra></extra>\",\"legendgroup\":\"bodipudi harini\",\"marker\":{\"color\":\"#EF553B\",\"pattern\":{\"shape\":\"\"}},\"name\":\"bodipudi harini\",\"offsetgroup\":\"bodipudi harini\",\"orientation\":\"v\",\"showlegend\":true,\"textposition\":\"auto\",\"x\":[\"Electronics and Communication Engineering\"],\"xaxis\":\"x\",\"y\":[10040],\"yaxis\":\"y\",\"type\":\"bar\"},{\"alignmentgroup\":\"True\",\"hovertemplate\":\"color=ashok kumar k<br>x=%{x}<br>y=%{y}<extra></extra>\",\"legendgroup\":\"ashok kumar k\",\"marker\":{\"color\":\"#00cc96\",\"pattern\":{\"shape\":\"\"}},\"name\":\"ashok kumar k\",\"offsetgroup\":\"ashok kumar k\",\"orientation\":\"v\",\"showlegend\":true,\"textposition\":\"auto\",\"x\":[\"Electronics and Electrical Engineering\"],\"xaxis\":\"x\",\"y\":[19400],\"yaxis\":\"y\",\"type\":\"bar\"}],                        {\"template\":{\"data\":{\"bar\":[{\"error_x\":{\"color\":\"#2a3f5f\"},\"error_y\":{\"color\":\"#2a3f5f\"},\"marker\":{\"line\":{\"color\":\"#E5ECF6\",\"width\":0.5},\"pattern\":{\"fillmode\":\"overlay\",\"size\":10,\"solidity\":0.2}},\"type\":\"bar\"}],\"barpolar\":[{\"marker\":{\"line\":{\"color\":\"#E5ECF6\",\"width\":0.5},\"pattern\":{\"fillmode\":\"overlay\",\"size\":10,\"solidity\":0.2}},\"type\":\"barpolar\"}],\"carpet\":[{\"aaxis\":{\"endlinecolor\":\"#2a3f5f\",\"gridcolor\":\"white\",\"linecolor\":\"white\",\"minorgridcolor\":\"white\",\"startlinecolor\":\"#2a3f5f\"},\"baxis\":{\"endlinecolor\":\"#2a3f5f\",\"gridcolor\":\"white\",\"linecolor\":\"white\",\"minorgridcolor\":\"white\",\"startlinecolor\":\"#2a3f5f\"},\"type\":\"carpet\"}],\"choropleth\":[{\"colorbar\":{\"outlinewidth\":0,\"ticks\":\"\"},\"type\":\"choropleth\"}],\"contour\":[{\"colorbar\":{\"outlinewidth\":0,\"ticks\":\"\"},\"colorscale\":[[0.0,\"#0d0887\"],[0.1111111111111111,\"#46039f\"],[0.2222222222222222,\"#7201a8\"],[0.3333333333333333,\"#9c179e\"],[0.4444444444444444,\"#bd3786\"],[0.5555555555555556,\"#d8576b\"],[0.6666666666666666,\"#ed7953\"],[0.7777777777777778,\"#fb9f3a\"],[0.8888888888888888,\"#fdca26\"],[1.0,\"#f0f921\"]],\"type\":\"contour\"}],\"contourcarpet\":[{\"colorbar\":{\"outlinewidth\":0,\"ticks\":\"\"},\"type\":\"contourcarpet\"}],\"heatmap\":[{\"colorbar\":{\"outlinewidth\":0,\"ticks\":\"\"},\"colorscale\":[[0.0,\"#0d0887\"],[0.1111111111111111,\"#46039f\"],[0.2222222222222222,\"#7201a8\"],[0.3333333333333333,\"#9c179e\"],[0.4444444444444444,\"#bd3786\"],[0.5555555555555556,\"#d8576b\"],[0.6666666666666666,\"#ed7953\"],[0.7777777777777778,\"#fb9f3a\"],[0.8888888888888888,\"#fdca26\"],[1.0,\"#f0f921\"]],\"type\":\"heatmap\"}],\"heatmapgl\":[{\"colorbar\":{\"outlinewidth\":0,\"ticks\":\"\"},\"colorscale\":[[0.0,\"#0d0887\"],[0.1111111111111111,\"#46039f\"],[0.2222222222222222,\"#7201a8\"],[0.3333333333333333,\"#9c179e\"],[0.4444444444444444,\"#bd3786\"],[0.5555555555555556,\"#d8576b\"],[0.6666666666666666,\"#ed7953\"],[0.7777777777777778,\"#fb9f3a\"],[0.8888888888888888,\"#fdca26\"],[1.0,\"#f0f921\"]],\"type\":\"heatmapgl\"}],\"histogram\":[{\"marker\":{\"pattern\":{\"fillmode\":\"overlay\",\"size\":10,\"solidity\":0.2}},\"type\":\"histogram\"}],\"histogram2d\":[{\"colorbar\":{\"outlinewidth\":0,\"ticks\":\"\"},\"colorscale\":[[0.0,\"#0d0887\"],[0.1111111111111111,\"#46039f\"],[0.2222222222222222,\"#7201a8\"],[0.3333333333333333,\"#9c179e\"],[0.4444444444444444,\"#bd3786\"],[0.5555555555555556,\"#d8576b\"],[0.6666666666666666,\"#ed7953\"],[0.7777777777777778,\"#fb9f3a\"],[0.8888888888888888,\"#fdca26\"],[1.0,\"#f0f921\"]],\"type\":\"histogram2d\"}],\"histogram2dcontour\":[{\"colorbar\":{\"outlinewidth\":0,\"ticks\":\"\"},\"colorscale\":[[0.0,\"#0d0887\"],[0.1111111111111111,\"#46039f\"],[0.2222222222222222,\"#7201a8\"],[0.3333333333333333,\"#9c179e\"],[0.4444444444444444,\"#bd3786\"],[0.5555555555555556,\"#d8576b\"],[0.6666666666666666,\"#ed7953\"],[0.7777777777777778,\"#fb9f3a\"],[0.8888888888888888,\"#fdca26\"],[1.0,\"#f0f921\"]],\"type\":\"histogram2dcontour\"}],\"mesh3d\":[{\"colorbar\":{\"outlinewidth\":0,\"ticks\":\"\"},\"type\":\"mesh3d\"}],\"parcoords\":[{\"line\":{\"colorbar\":{\"outlinewidth\":0,\"ticks\":\"\"}},\"type\":\"parcoords\"}],\"pie\":[{\"automargin\":true,\"type\":\"pie\"}],\"scatter\":[{\"marker\":{\"colorbar\":{\"outlinewidth\":0,\"ticks\":\"\"}},\"type\":\"scatter\"}],\"scatter3d\":[{\"line\":{\"colorbar\":{\"outlinewidth\":0,\"ticks\":\"\"}},\"marker\":{\"colorbar\":{\"outlinewidth\":0,\"ticks\":\"\"}},\"type\":\"scatter3d\"}],\"scattercarpet\":[{\"marker\":{\"colorbar\":{\"outlinewidth\":0,\"ticks\":\"\"}},\"type\":\"scattercarpet\"}],\"scattergeo\":[{\"marker\":{\"colorbar\":{\"outlinewidth\":0,\"ticks\":\"\"}},\"type\":\"scattergeo\"}],\"scattergl\":[{\"marker\":{\"colorbar\":{\"outlinewidth\":0,\"ticks\":\"\"}},\"type\":\"scattergl\"}],\"scattermapbox\":[{\"marker\":{\"colorbar\":{\"outlinewidth\":0,\"ticks\":\"\"}},\"type\":\"scattermapbox\"}],\"scatterpolar\":[{\"marker\":{\"colorbar\":{\"outlinewidth\":0,\"ticks\":\"\"}},\"type\":\"scatterpolar\"}],\"scatterpolargl\":[{\"marker\":{\"colorbar\":{\"outlinewidth\":0,\"ticks\":\"\"}},\"type\":\"scatterpolargl\"}],\"scatterternary\":[{\"marker\":{\"colorbar\":{\"outlinewidth\":0,\"ticks\":\"\"}},\"type\":\"scatterternary\"}],\"surface\":[{\"colorbar\":{\"outlinewidth\":0,\"ticks\":\"\"},\"colorscale\":[[0.0,\"#0d0887\"],[0.1111111111111111,\"#46039f\"],[0.2222222222222222,\"#7201a8\"],[0.3333333333333333,\"#9c179e\"],[0.4444444444444444,\"#bd3786\"],[0.5555555555555556,\"#d8576b\"],[0.6666666666666666,\"#ed7953\"],[0.7777777777777778,\"#fb9f3a\"],[0.8888888888888888,\"#fdca26\"],[1.0,\"#f0f921\"]],\"type\":\"surface\"}],\"table\":[{\"cells\":{\"fill\":{\"color\":\"#EBF0F8\"},\"line\":{\"color\":\"white\"}},\"header\":{\"fill\":{\"color\":\"#C8D4E3\"},\"line\":{\"color\":\"white\"}},\"type\":\"table\"}]},\"layout\":{\"annotationdefaults\":{\"arrowcolor\":\"#2a3f5f\",\"arrowhead\":0,\"arrowwidth\":1},\"autotypenumbers\":\"strict\",\"coloraxis\":{\"colorbar\":{\"outlinewidth\":0,\"ticks\":\"\"}},\"colorscale\":{\"diverging\":[[0,\"#8e0152\"],[0.1,\"#c51b7d\"],[0.2,\"#de77ae\"],[0.3,\"#f1b6da\"],[0.4,\"#fde0ef\"],[0.5,\"#f7f7f7\"],[0.6,\"#e6f5d0\"],[0.7,\"#b8e186\"],[0.8,\"#7fbc41\"],[0.9,\"#4d9221\"],[1,\"#276419\"]],\"sequential\":[[0.0,\"#0d0887\"],[0.1111111111111111,\"#46039f\"],[0.2222222222222222,\"#7201a8\"],[0.3333333333333333,\"#9c179e\"],[0.4444444444444444,\"#bd3786\"],[0.5555555555555556,\"#d8576b\"],[0.6666666666666666,\"#ed7953\"],[0.7777777777777778,\"#fb9f3a\"],[0.8888888888888888,\"#fdca26\"],[1.0,\"#f0f921\"]],\"sequentialminus\":[[0.0,\"#0d0887\"],[0.1111111111111111,\"#46039f\"],[0.2222222222222222,\"#7201a8\"],[0.3333333333333333,\"#9c179e\"],[0.4444444444444444,\"#bd3786\"],[0.5555555555555556,\"#d8576b\"],[0.6666666666666666,\"#ed7953\"],[0.7777777777777778,\"#fb9f3a\"],[0.8888888888888888,\"#fdca26\"],[1.0,\"#f0f921\"]]},\"colorway\":[\"#636efa\",\"#EF553B\",\"#00cc96\",\"#ab63fa\",\"#FFA15A\",\"#19d3f3\",\"#FF6692\",\"#B6E880\",\"#FF97FF\",\"#FECB52\"],\"font\":{\"color\":\"#2a3f5f\"},\"geo\":{\"bgcolor\":\"white\",\"lakecolor\":\"white\",\"landcolor\":\"#E5ECF6\",\"showlakes\":true,\"showland\":true,\"subunitcolor\":\"white\"},\"hoverlabel\":{\"align\":\"left\"},\"hovermode\":\"closest\",\"mapbox\":{\"style\":\"light\"},\"paper_bgcolor\":\"white\",\"plot_bgcolor\":\"#E5ECF6\",\"polar\":{\"angularaxis\":{\"gridcolor\":\"white\",\"linecolor\":\"white\",\"ticks\":\"\"},\"bgcolor\":\"#E5ECF6\",\"radialaxis\":{\"gridcolor\":\"white\",\"linecolor\":\"white\",\"ticks\":\"\"}},\"scene\":{\"xaxis\":{\"backgroundcolor\":\"#E5ECF6\",\"gridcolor\":\"white\",\"gridwidth\":2,\"linecolor\":\"white\",\"showbackground\":true,\"ticks\":\"\",\"zerolinecolor\":\"white\"},\"yaxis\":{\"backgroundcolor\":\"#E5ECF6\",\"gridcolor\":\"white\",\"gridwidth\":2,\"linecolor\":\"white\",\"showbackground\":true,\"ticks\":\"\",\"zerolinecolor\":\"white\"},\"zaxis\":{\"backgroundcolor\":\"#E5ECF6\",\"gridcolor\":\"white\",\"gridwidth\":2,\"linecolor\":\"white\",\"showbackground\":true,\"ticks\":\"\",\"zerolinecolor\":\"white\"}},\"shapedefaults\":{\"line\":{\"color\":\"#2a3f5f\"}},\"ternary\":{\"aaxis\":{\"gridcolor\":\"white\",\"linecolor\":\"white\",\"ticks\":\"\"},\"baxis\":{\"gridcolor\":\"white\",\"linecolor\":\"white\",\"ticks\":\"\"},\"bgcolor\":\"#E5ECF6\",\"caxis\":{\"gridcolor\":\"white\",\"linecolor\":\"white\",\"ticks\":\"\"}},\"title\":{\"x\":0.05},\"xaxis\":{\"automargin\":true,\"gridcolor\":\"white\",\"linecolor\":\"white\",\"ticks\":\"\",\"title\":{\"standoff\":15},\"zerolinecolor\":\"white\",\"zerolinewidth\":2},\"yaxis\":{\"automargin\":true,\"gridcolor\":\"white\",\"linecolor\":\"white\",\"ticks\":\"\",\"title\":{\"standoff\":15},\"zerolinecolor\":\"white\",\"zerolinewidth\":2}}},\"xaxis\":{\"anchor\":\"y\",\"domain\":[0.0,1.0],\"title\":{\"text\":\"x\"}},\"yaxis\":{\"anchor\":\"x\",\"domain\":[0.0,1.0],\"title\":{\"text\":\"y\"}},\"legend\":{\"title\":{\"text\":\"color\"},\"tracegroupgap\":0},\"title\":{\"text\":\"Department wise toppers names\"},\"barmode\":\"relative\"},                        {\"responsive\": true}                    ).then(function(){\n",
              "                            \n",
              "var gd = document.getElementById('ecef9442-d9bc-49ce-9a48-9e076f66aa46');\n",
              "var x = new MutationObserver(function (mutations, observer) {{\n",
              "        var display = window.getComputedStyle(gd).display;\n",
              "        if (!display || display === 'none') {{\n",
              "            console.log([gd, 'removed!']);\n",
              "            Plotly.purge(gd);\n",
              "            observer.disconnect();\n",
              "        }}\n",
              "}});\n",
              "\n",
              "// Listen for the removal of the full notebook cells\n",
              "var notebookContainer = gd.closest('#notebook-container');\n",
              "if (notebookContainer) {{\n",
              "    x.observe(notebookContainer, {childList: true});\n",
              "}}\n",
              "\n",
              "// Listen for the clearing of the current output cell\n",
              "var outputEl = gd.closest('.output');\n",
              "if (outputEl) {{\n",
              "    x.observe(outputEl, {childList: true});\n",
              "}}\n",
              "\n",
              "                        })                };                            </script>        </div>\n",
              "</body>\n",
              "</html>"
            ]
          },
          "metadata": {}
        }
      ]
    }
  ],
  "metadata": {
    "kernelspec": {
      "display_name": "Python 3",
      "language": "python",
      "name": "python3"
    },
    "language_info": {
      "codemirror_mode": {
        "name": "ipython",
        "version": 3
      },
      "file_extension": ".py",
      "mimetype": "text/x-python",
      "name": "python",
      "nbconvert_exporter": "python",
      "pygments_lexer": "ipython3",
      "version": "3.8.3"
    },
    "colab": {
      "name": "pandas_implementation.ipynb",
      "provenance": [],
      "collapsed_sections": [],
      "include_colab_link": true
    }
  },
  "nbformat": 4,
  "nbformat_minor": 0
}